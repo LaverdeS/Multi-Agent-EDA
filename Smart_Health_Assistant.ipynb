{
 "cells": [
  {
   "cell_type": "markdown",
   "id": "f77a9503-714f-41bd-b6e7-067fc82b1c26",
   "metadata": {
    "jp-MarkdownHeadingCollapsed": true
   },
   "source": [
    "### Problem Statement"
   ]
  },
  {
   "cell_type": "markdown",
   "id": "94f57cb2-adf7-4918-90aa-2e66670edcec",
   "metadata": {},
   "source": [
    "**Note**:\n",
    "\n",
    "```markdown\n",
    "In v0.2, a sequential chat chain execution is supported by using the `initiate_chats` function. It takes input a list of dictionary configurations for each step of the sequence.\n",
    "\n",
    "Base on the feedback from the community, the `initiate_chats` function is too opinionated and not flexible enough to support the diverse set of scenarios that users want to implement. It is often found users struggling to get the initiate_chats function to work when they can easily glue the steps together usign basic Python code. Therefore, in v0.4, autogen do not provide a built-in function for sequential chat in the AgentChat API.\n",
    "\n",
    "Instead, the idea is to create an event-driven sequential workflow using the Core API, and use the other components provided the AgentChat API to implement each step of the workflow.\n",
    "\n",
    "They recognize that the concept of workflow is at the heart of many applications, and they will provide more built-in support for workflows in the future.\n",
    "```\n",
    "\n",
    "More information can be found in the official [Migration Guide]()."
   ]
  },
  {
   "cell_type": "markdown",
   "id": "33acf71b-7240-4d4e-ab67-934933f1e16d",
   "metadata": {},
   "source": [
    "🤔...\n",
    "\n",
    "That leaves me with 3 options:\n",
    "\n",
    "1. Implement the event-driven sequential workflow using the Core API as in the [Example]().\n",
    "2. Downgrade autogen library so to v0.2 so I can implement the Sequential workflows as they are taught in the course.\n",
    "3. **Solve the assignment using group chat patterns instead of a sequential chain that defines the agents' interaction order.**\n",
    "\n",
    "Migrating the sequential workflows to the suggested event-driven workflow using the core API seems like an effort outside the scope of this course. It is also a bit pointless considering they will develop built-ins for this purpose in the future. \n",
    "\n",
    "Downgrading implies me learning something deprecated or soon-to-be deprecated. The sequential workflow concept is thoretically useful but it's also pointless if I cannot bring it to practice professionally. I already solved the previous assignment for a 2 agent conversation using v0.4 `RoundRobinGroupChat` instead of the `initiate_chat` method for v0.2. I didn't made the comment back then because I did not see a pattern so it was negligible for the rest of the assignments of the course. But now, it seems the group chat idea it's more stable and generalizable for now, so potentially more valuable to learn.\n",
    "\n",
    "Considering my learning goals, I am going with **option 3.**\n",
    "\n",
    "The idea is then to create 2 `RoundRobinGroupChat`s, the first uses the Data Collector agent to gather all the information from the user in an interview fashion. Once that Chat has TERMINATED, its output becomes the input to the second `RoundRobinGroupChat` which simply will pass (sequentially) the info to the Health Recommender, Meal Planner, and Workout Scheduler agents so they can create the personalized plan. **Both Chats are joined using LangChain LCEL.**"
   ]
  },
  {
   "cell_type": "markdown",
   "id": "c89b2d7e-33e3-401f-ba0f-7d710fa4b964",
   "metadata": {},
   "source": [
    "#### Objective\n",
    "Build a Smart Health Assistant using a sequential conversation pattern.\n",
    "\n",
    "Create a User Proxy Agent that collects data from users and shares it with other agents to help them create personalized suggestions for the user.\n",
    "\n",
    "The BMI tool takes the height and weight values to calculate the BMI of the user and shares the results with the BMI Agent. The BMI tool should be registered to the BMI Agent.\n",
    "\n",
    "The BMI Agent analyzes the BMI score to provide health recommendations for the user and relays it to the Diet Planner Agent.\n",
    "\n",
    "The Diet Planner Agent provides meal suggestions, and then the Workout Scheduler Agent creates tailored workout plans.\n",
    "Use these agents in the sequence mentioned.\n",
    "\n",
    "#### Key Concepts to Use\n",
    "- Sequential Conversation Pattern: Agents interact in a predefined sequence to achieve the goal.\n",
    "\n",
    "- Data Collection: The User Proxy Agent collects necessary data from the user.\n",
    "\n",
    "- BMI Calculation: The BMI tool calculates the user's BMI using provided height and weight.\n",
    "\n",
    "- Health Recommendations: The BMI Agent provides health recommendations based on the BMI score.\n",
    "\n",
    "- Meal Planning: The Diet Planner Agent suggests a meal plan based on the user's BMI and dietary preferences.\n",
    "\n",
    "- Workout Scheduling: The Workout Scheduler Agent creates a weekly workout plan based on the user's age, gender, and previous agent outputs."
   ]
  },
  {
   "cell_type": "markdown",
   "id": "e6b981a1-0a11-493d-90bd-76a40657e2ea",
   "metadata": {
    "jp-MarkdownHeadingCollapsed": true
   },
   "source": [
    "### Config"
   ]
  },
  {
   "cell_type": "code",
   "execution_count": 1,
   "id": "5a6488f0-881f-4ac0-be67-ad6c1b72ba35",
   "metadata": {},
   "outputs": [
    {
     "data": {
      "text/plain": [
       "True"
      ]
     },
     "execution_count": 1,
     "metadata": {},
     "output_type": "execute_result"
    }
   ],
   "source": [
    "from dotenv import load_dotenv\n",
    "load_dotenv()"
   ]
  },
  {
   "cell_type": "markdown",
   "id": "f05f7f0c-4d67-464a-b790-fa0c3f226c5f",
   "metadata": {},
   "source": [
    "### Data Collection"
   ]
  },
  {
   "cell_type": "code",
   "execution_count": 2,
   "id": "39849992-b3bd-4f74-8ccb-3ace9b966d43",
   "metadata": {},
   "outputs": [],
   "source": [
    "from autogen_ext.models.openai import OpenAIChatCompletionClient\n",
    "\n",
    "openai_client = OpenAIChatCompletionClient(model=\"gpt-4o-mini\")"
   ]
  },
  {
   "cell_type": "code",
   "execution_count": 3,
   "id": "f18122bf-7857-41f9-8c29-23eeb6ef0009",
   "metadata": {},
   "outputs": [],
   "source": [
    "from autogen_agentchat.agents import AssistantAgent, UserProxyAgent\n",
    "\n",
    "# agents\n",
    "user_proxy = UserProxyAgent(\"user_proxy\", input_func=input) \n",
    "\n",
    "data_collector = AssistantAgent(\n",
    "    name=\"data_collector\",\n",
    "    model_client=openai_client,\n",
    "    system_message=\"\"\"\n",
    "    You are an agent part of a team for Smart Health Assistance.\n",
    "    For team, you are the initial contact with the users and collect relevant information to create a simple profile of them.\n",
    "    For the users though, you are here to init them in their transformative journey towards better health (you can paraphrase however you want or say something else),\n",
    "    which starts with getting to know them (and collect critical data).\n",
    "    This critical information will be used by other agents for creating health recommendations and designing meals and workout plans.\n",
    "    You collect data interacting with a user in a friendly and professional manner and structure the data in a JSON to share it to other agents.\n",
    "    This is the information we need to collect:\n",
    "\n",
    "    - Name (or alias): They user can give you any name, but you should store it as a single string with no spaces. If several words compose the name, then capitalize each word and remove spaces between.\n",
    "    - Weight in kg\n",
    "    - Height in cm\n",
    "    - Age\n",
    "    - Gender\n",
    "    - Dietary Preference: Veg, Non-Veg, Vegan, none/nothing, etc.\n",
    "\n",
    "    If the user provides (iff) additional information that is relevant for the team's task, add it to the profile as 'additional_information'.\n",
    "    You can prompt the user for this information too. We want to encourage users to provide more information but they are not forced to.\n",
    "    Some examples of additional information are: health conditions, goals, available equiptment, budget, and any other circumstances that could impact the health recommendations and plans designs.\n",
    "    \n",
    "    You shoud continue the conversation until you have all the necessary data. Be sure to ask for corrections if any of the user's answers doesn't make sense for the context. \n",
    "    Make sure the conversation sounds natural and memorable, and not solely a plain interview that they could have filled in a questionaire.\n",
    "    When the task is done, do not ask the user anything or say anything to continue the conversation\n",
    "    Instead return a JSON in markdown with the collected information and end with a \"DATA COLLECTED\". Do not add anything else to your final comment.\n",
    "\n",
    "    For example, once you collect all the data you return:\n",
    "    ```json\n",
    "    'Name': 'Ms.DailyBasis'\n",
    "    'weight': 120,\n",
    "    'height': 183,\n",
    "    'age': 45,\n",
    "    'gender': 'female'\n",
    "    'dietary_preference': 'vegan'\n",
    "    'additional_information': {\n",
    "        'goals': 'loosing weight and increasing energy',\n",
    "        'health_conditions': ['diabetes', 'right knee is too weak']\n",
    "        }\n",
    "    ```\n",
    "    DATA COLLECTED\n",
    "    \"\"\",\n",
    ")"
   ]
  },
  {
   "cell_type": "code",
   "execution_count": 4,
   "id": "b770aba9-1493-48ad-9a44-fd204ee48311",
   "metadata": {},
   "outputs": [],
   "source": [
    "from autogen_agentchat.teams import RoundRobinGroupChat\n",
    "from autogen_agentchat.conditions import TextMentionTermination, MaxMessageTermination\n",
    "\n",
    "termination = TextMentionTermination(\"DATA COLLECTED\") | MaxMessageTermination(20)\n",
    "collection_team = RoundRobinGroupChat([data_collector, user_proxy], termination_condition=termination)"
   ]
  },
  {
   "cell_type": "code",
   "execution_count": 5,
   "id": "2d04f45c-a554-4a31-95f5-7a2d838e7af1",
   "metadata": {},
   "outputs": [],
   "source": [
    "import asyncio\n",
    "import json\n",
    "\n",
    "from autogen_agentchat.ui import Console\n",
    "from rich import print\n",
    "\n",
    "\n",
    "async def collect_data(verbose=False):\n",
    "    stream = collection_team.run_stream()\n",
    "    user_answers = []\n",
    "    \n",
    "    async for message in stream:\n",
    "        if hasattr(message, \"content\"):\n",
    "            if message.source == \"data_collector\":\n",
    "                print(f\"[blue]🤖 {message.content}[/blue]\", end=\"\")\n",
    "            else:\n",
    "                print(f\"[green]{message.content}[/green]\", end=\"\")\n",
    "                \n",
    "        elif verbose: # prints conversation TaskResult\n",
    "            print(message)\n",
    "            \n",
    "        if hasattr(message, \"source\") and message.source == \"user_proxy\":\n",
    "            user_answers.append(message.content)\n",
    "\n",
    "    try:\n",
    "        task_result = message  # last message\n",
    "        user_info = json.loads(task_result.messages[-1].content.split(\"```\")[-2].replace(\"json\", \"\").strip())\n",
    "    except IndexError:\n",
    "        user_info = user_answers  # index 0 is empty\n",
    "    return user_info"
   ]
  },
  {
   "cell_type": "code",
   "execution_count": 6,
   "id": "fe84ae40-3595-4d93-97d5-d5f134ec15ef",
   "metadata": {
    "scrolled": true
   },
   "outputs": [
    {
     "data": {
      "text/html": [
       "<pre style=\"white-space:pre;overflow-x:auto;line-height:normal;font-family:Menlo,'DejaVu Sans Mono',consolas,'Courier New',monospace\"><span style=\"color: #000080; text-decoration-color: #000080\">🤖 Hi there! Welcome to Smart Health Assistance. I'm excited to embark on this transformative journey towards </span>\n",
       "<span style=\"color: #000080; text-decoration-color: #000080\">better health with you! To get started, I'll need to gather some important information about you. </span>\n",
       "\n",
       "<span style=\"color: #000080; text-decoration-color: #000080\">Let’s begin with your name or alias. You can use any name you like!</span></pre>\n"
      ],
      "text/plain": [
       "\u001b[34m🤖 Hi there! Welcome to Smart Health Assistance. I'm excited to embark on this transformative journey towards \u001b[0m\n",
       "\u001b[34mbetter health with you! To get started, I'll need to gather some important information about you. \u001b[0m\n",
       "\n",
       "\u001b[34mLet’s begin with your name or alias. You can use any name you like!\u001b[0m"
      ]
     },
     "metadata": {},
     "output_type": "display_data"
    },
    {
     "data": {
      "text/html": [
       "<pre style=\"white-space:pre;overflow-x:auto;line-height:normal;font-family:Menlo,'DejaVu Sans Mono',consolas,'Courier New',monospace\"></pre>\n"
      ],
      "text/plain": []
     },
     "metadata": {},
     "output_type": "display_data"
    },
    {
     "name": "stdin",
     "output_type": "stream",
     "text": [
      "Enter your response:  Basti Max\n"
     ]
    },
    {
     "data": {
      "text/html": [
       "<pre style=\"white-space:pre;overflow-x:auto;line-height:normal;font-family:Menlo,'DejaVu Sans Mono',consolas,'Courier New',monospace\"><span style=\"color: #008000; text-decoration-color: #008000\">Basti Max</span></pre>\n"
      ],
      "text/plain": [
       "\u001b[32mBasti Max\u001b[0m"
      ]
     },
     "metadata": {},
     "output_type": "display_data"
    },
    {
     "data": {
      "text/html": [
       "<pre style=\"white-space:pre;overflow-x:auto;line-height:normal;font-family:Menlo,'DejaVu Sans Mono',consolas,'Courier New',monospace\"><span style=\"color: #000080; text-decoration-color: #000080\">🤖 Great choice, Basti Max! I’ll format that for our records. </span>\n",
       "\n",
       "<span style=\"color: #000080; text-decoration-color: #000080\">Now, could you please provide me with your weight in kilograms?</span></pre>\n"
      ],
      "text/plain": [
       "\u001b[34m🤖 Great choice, Basti Max! I’ll format that for our records. \u001b[0m\n",
       "\n",
       "\u001b[34mNow, could you please provide me with your weight in kilograms?\u001b[0m"
      ]
     },
     "metadata": {},
     "output_type": "display_data"
    },
    {
     "data": {
      "text/html": [
       "<pre style=\"white-space:pre;overflow-x:auto;line-height:normal;font-family:Menlo,'DejaVu Sans Mono',consolas,'Courier New',monospace\"></pre>\n"
      ],
      "text/plain": []
     },
     "metadata": {},
     "output_type": "display_data"
    },
    {
     "name": "stdin",
     "output_type": "stream",
     "text": [
      "Enter your response:  73\n"
     ]
    },
    {
     "data": {
      "text/html": [
       "<pre style=\"white-space:pre;overflow-x:auto;line-height:normal;font-family:Menlo,'DejaVu Sans Mono',consolas,'Courier New',monospace\"><span style=\"color: #008000; text-decoration-color: #008000; font-weight: bold\">73</span></pre>\n"
      ],
      "text/plain": [
       "\u001b[1;32m73\u001b[0m"
      ]
     },
     "metadata": {},
     "output_type": "display_data"
    },
    {
     "data": {
      "text/html": [
       "<pre style=\"white-space:pre;overflow-x:auto;line-height:normal;font-family:Menlo,'DejaVu Sans Mono',consolas,'Courier New',monospace\"><span style=\"color: #000080; text-decoration-color: #000080\">🤖 Got it, </span><span style=\"color: #000080; text-decoration-color: #000080; font-weight: bold\">73</span><span style=\"color: #000080; text-decoration-color: #000080\"> kg for your weight. </span>\n",
       "\n",
       "<span style=\"color: #000080; text-decoration-color: #000080\">Next, what is your height in centimeters?</span></pre>\n"
      ],
      "text/plain": [
       "\u001b[34m🤖 Got it, \u001b[0m\u001b[1;34m73\u001b[0m\u001b[34m kg for your weight. \u001b[0m\n",
       "\n",
       "\u001b[34mNext, what is your height in centimeters?\u001b[0m"
      ]
     },
     "metadata": {},
     "output_type": "display_data"
    },
    {
     "data": {
      "text/html": [
       "<pre style=\"white-space:pre;overflow-x:auto;line-height:normal;font-family:Menlo,'DejaVu Sans Mono',consolas,'Courier New',monospace\"></pre>\n"
      ],
      "text/plain": []
     },
     "metadata": {},
     "output_type": "display_data"
    },
    {
     "name": "stdin",
     "output_type": "stream",
     "text": [
      "Enter your response:  I am 179\n"
     ]
    },
    {
     "data": {
      "text/html": [
       "<pre style=\"white-space:pre;overflow-x:auto;line-height:normal;font-family:Menlo,'DejaVu Sans Mono',consolas,'Courier New',monospace\"><span style=\"color: #008000; text-decoration-color: #008000\">I am </span><span style=\"color: #008000; text-decoration-color: #008000; font-weight: bold\">179</span></pre>\n"
      ],
      "text/plain": [
       "\u001b[32mI am \u001b[0m\u001b[1;32m179\u001b[0m"
      ]
     },
     "metadata": {},
     "output_type": "display_data"
    },
    {
     "data": {
      "text/html": [
       "<pre style=\"white-space:pre;overflow-x:auto;line-height:normal;font-family:Menlo,'DejaVu Sans Mono',consolas,'Courier New',monospace\"><span style=\"color: #000080; text-decoration-color: #000080\">🤖 Thanks for that! Your height is </span><span style=\"color: #000080; text-decoration-color: #000080; font-weight: bold\">179</span><span style=\"color: #000080; text-decoration-color: #000080\"> cm. </span>\n",
       "\n",
       "<span style=\"color: #000080; text-decoration-color: #000080\">Now, may I know your age, please?</span></pre>\n"
      ],
      "text/plain": [
       "\u001b[34m🤖 Thanks for that! Your height is \u001b[0m\u001b[1;34m179\u001b[0m\u001b[34m cm. \u001b[0m\n",
       "\n",
       "\u001b[34mNow, may I know your age, please?\u001b[0m"
      ]
     },
     "metadata": {},
     "output_type": "display_data"
    },
    {
     "data": {
      "text/html": [
       "<pre style=\"white-space:pre;overflow-x:auto;line-height:normal;font-family:Menlo,'DejaVu Sans Mono',consolas,'Courier New',monospace\"></pre>\n"
      ],
      "text/plain": []
     },
     "metadata": {},
     "output_type": "display_data"
    },
    {
     "name": "stdin",
     "output_type": "stream",
     "text": [
      "Enter your response:  33 years old, very energetic\n"
     ]
    },
    {
     "data": {
      "text/html": [
       "<pre style=\"white-space:pre;overflow-x:auto;line-height:normal;font-family:Menlo,'DejaVu Sans Mono',consolas,'Courier New',monospace\"><span style=\"color: #008000; text-decoration-color: #008000; font-weight: bold\">33</span><span style=\"color: #008000; text-decoration-color: #008000\"> years old, very energetic</span></pre>\n"
      ],
      "text/plain": [
       "\u001b[1;32m33\u001b[0m\u001b[32m years old, very energetic\u001b[0m"
      ]
     },
     "metadata": {},
     "output_type": "display_data"
    },
    {
     "data": {
      "text/html": [
       "<pre style=\"white-space:pre;overflow-x:auto;line-height:normal;font-family:Menlo,'DejaVu Sans Mono',consolas,'Courier New',monospace\"><span style=\"color: #000080; text-decoration-color: #000080\">🤖 Nice to hear that you're feeling energetic at </span><span style=\"color: #000080; text-decoration-color: #000080; font-weight: bold\">33</span><span style=\"color: #000080; text-decoration-color: #000080\">! </span>\n",
       "\n",
       "<span style=\"color: #000080; text-decoration-color: #000080\">Now, could you please specify your gender?</span></pre>\n"
      ],
      "text/plain": [
       "\u001b[34m🤖 Nice to hear that you're feeling energetic at \u001b[0m\u001b[1;34m33\u001b[0m\u001b[34m! \u001b[0m\n",
       "\n",
       "\u001b[34mNow, could you please specify your gender?\u001b[0m"
      ]
     },
     "metadata": {},
     "output_type": "display_data"
    },
    {
     "data": {
      "text/html": [
       "<pre style=\"white-space:pre;overflow-x:auto;line-height:normal;font-family:Menlo,'DejaVu Sans Mono',consolas,'Courier New',monospace\"></pre>\n"
      ],
      "text/plain": []
     },
     "metadata": {},
     "output_type": "display_data"
    },
    {
     "name": "stdin",
     "output_type": "stream",
     "text": [
      "Enter your response:  Male\n"
     ]
    },
    {
     "data": {
      "text/html": [
       "<pre style=\"white-space:pre;overflow-x:auto;line-height:normal;font-family:Menlo,'DejaVu Sans Mono',consolas,'Courier New',monospace\"><span style=\"color: #008000; text-decoration-color: #008000\">Male</span></pre>\n"
      ],
      "text/plain": [
       "\u001b[32mMale\u001b[0m"
      ]
     },
     "metadata": {},
     "output_type": "display_data"
    },
    {
     "data": {
      "text/html": [
       "<pre style=\"white-space:pre;overflow-x:auto;line-height:normal;font-family:Menlo,'DejaVu Sans Mono',consolas,'Courier New',monospace\"><span style=\"color: #000080; text-decoration-color: #000080\">🤖 Thanks for sharing, you're male. </span>\n",
       "\n",
       "<span style=\"color: #000080; text-decoration-color: #000080\">Next up, what's your dietary preference? You can choose from options like Veg, Non-Veg, Vegan, or anything else you</span>\n",
       "<span style=\"color: #000080; text-decoration-color: #000080\">might follow.</span></pre>\n"
      ],
      "text/plain": [
       "\u001b[34m🤖 Thanks for sharing, you're male. \u001b[0m\n",
       "\n",
       "\u001b[34mNext up, what's your dietary preference? You can choose from options like Veg, Non-Veg, Vegan, or anything else you\u001b[0m\n",
       "\u001b[34mmight follow.\u001b[0m"
      ]
     },
     "metadata": {},
     "output_type": "display_data"
    },
    {
     "data": {
      "text/html": [
       "<pre style=\"white-space:pre;overflow-x:auto;line-height:normal;font-family:Menlo,'DejaVu Sans Mono',consolas,'Courier New',monospace\"></pre>\n"
      ],
      "text/plain": []
     },
     "metadata": {},
     "output_type": "display_data"
    },
    {
     "name": "stdin",
     "output_type": "stream",
     "text": [
      "Enter your response:  Well I want to build muscle. I don't have any dietary preferences but keep that in mind for your suggestions. I am also already having a good fitness level and have the time to go hardcore\n"
     ]
    },
    {
     "data": {
      "text/html": [
       "<pre style=\"white-space:pre;overflow-x:auto;line-height:normal;font-family:Menlo,'DejaVu Sans Mono',consolas,'Courier New',monospace\"><span style=\"color: #008000; text-decoration-color: #008000\">Well I want to build muscle. I don't have any dietary preferences but keep that in mind for your suggestions. I am </span>\n",
       "<span style=\"color: #008000; text-decoration-color: #008000\">also already having a good fitness level and have the time to go hardcore</span></pre>\n"
      ],
      "text/plain": [
       "\u001b[32mWell I want to build muscle. I don't have any dietary preferences but keep that in mind for your suggestions. I am \u001b[0m\n",
       "\u001b[32malso already having a good fitness level and have the time to go hardcore\u001b[0m"
      ]
     },
     "metadata": {},
     "output_type": "display_data"
    },
    {
     "data": {
      "text/html": [
       "<pre style=\"white-space:pre;overflow-x:auto;line-height:normal;font-family:Menlo,'DejaVu Sans Mono',consolas,'Courier New',monospace\"><span style=\"color: #000080; text-decoration-color: #000080\">🤖 Got it! I'll note that you don't have specific dietary preferences, and I will keep your muscle-building goal in</span>\n",
       "<span style=\"color: #000080; text-decoration-color: #000080\">mind for suggestions.</span>\n",
       "\n",
       "<span style=\"color: #000080; text-decoration-color: #000080\">Before I finalize your profile, is there anything else you'd like to share, like any health conditions, specific </span>\n",
       "<span style=\"color: #000080; text-decoration-color: #000080\">goals, or circumstances that could impact your health recommendations?</span></pre>\n"
      ],
      "text/plain": [
       "\u001b[34m🤖 Got it! I'll note that you don't have specific dietary preferences, and I will keep your muscle-building goal in\u001b[0m\n",
       "\u001b[34mmind for suggestions.\u001b[0m\n",
       "\n",
       "\u001b[34mBefore I finalize your profile, is there anything else you'd like to share, like any health conditions, specific \u001b[0m\n",
       "\u001b[34mgoals, or circumstances that could impact your health recommendations?\u001b[0m"
      ]
     },
     "metadata": {},
     "output_type": "display_data"
    },
    {
     "data": {
      "text/html": [
       "<pre style=\"white-space:pre;overflow-x:auto;line-height:normal;font-family:Menlo,'DejaVu Sans Mono',consolas,'Courier New',monospace\"></pre>\n"
      ],
      "text/plain": []
     },
     "metadata": {},
     "output_type": "display_data"
    },
    {
     "name": "stdin",
     "output_type": "stream",
     "text": [
      "Enter your response:  Not really, but I prefer to do everything at home, I have some weights here but no bench to press or anything. But that should be enough.\n"
     ]
    },
    {
     "data": {
      "text/html": [
       "<pre style=\"white-space:pre;overflow-x:auto;line-height:normal;font-family:Menlo,'DejaVu Sans Mono',consolas,'Courier New',monospace\"><span style=\"color: #008000; text-decoration-color: #008000\">Not really, but I prefer to do everything at home, I have some weights here but no bench to press or anything. But </span>\n",
       "<span style=\"color: #008000; text-decoration-color: #008000\">that should be enough.</span></pre>\n"
      ],
      "text/plain": [
       "\u001b[32mNot really, but I prefer to do everything at home, I have some weights here but no bench to press or anything. But \u001b[0m\n",
       "\u001b[32mthat should be enough.\u001b[0m"
      ]
     },
     "metadata": {},
     "output_type": "display_data"
    },
    {
     "data": {
      "text/html": [
       "<pre style=\"white-space:pre;overflow-x:auto;line-height:normal;font-family:Menlo,'DejaVu Sans Mono',consolas,'Courier New',monospace\"><span style=\"color: #000080; text-decoration-color: #000080\">🤖 Perfect, I’ll add that you prefer to work out at home and have some weights, but no bench. </span>\n",
       "\n",
       "<span style=\"color: #000080; text-decoration-color: #000080\">Let’s summarize everything I’ve collected so far:</span>\n",
       "\n",
       "<span style=\"color: #000080; text-decoration-color: #000080\">```json</span>\n",
       "<span style=\"color: #000080; text-decoration-color: #000080; font-weight: bold\">{</span>\n",
       "<span style=\"color: #000080; text-decoration-color: #000080\">    </span><span style=\"color: #000080; text-decoration-color: #000080\">\"Name\"</span><span style=\"color: #000080; text-decoration-color: #000080\">: </span><span style=\"color: #000080; text-decoration-color: #000080\">\"BastiMax\"</span><span style=\"color: #000080; text-decoration-color: #000080\">,</span>\n",
       "<span style=\"color: #000080; text-decoration-color: #000080\">    </span><span style=\"color: #000080; text-decoration-color: #000080\">\"weight\"</span><span style=\"color: #000080; text-decoration-color: #000080\">: </span><span style=\"color: #000080; text-decoration-color: #000080; font-weight: bold\">73</span><span style=\"color: #000080; text-decoration-color: #000080\">,</span>\n",
       "<span style=\"color: #000080; text-decoration-color: #000080\">    </span><span style=\"color: #000080; text-decoration-color: #000080\">\"height\"</span><span style=\"color: #000080; text-decoration-color: #000080\">: </span><span style=\"color: #000080; text-decoration-color: #000080; font-weight: bold\">179</span><span style=\"color: #000080; text-decoration-color: #000080\">,</span>\n",
       "<span style=\"color: #000080; text-decoration-color: #000080\">    </span><span style=\"color: #000080; text-decoration-color: #000080\">\"age\"</span><span style=\"color: #000080; text-decoration-color: #000080\">: </span><span style=\"color: #000080; text-decoration-color: #000080; font-weight: bold\">33</span><span style=\"color: #000080; text-decoration-color: #000080\">,</span>\n",
       "<span style=\"color: #000080; text-decoration-color: #000080\">    </span><span style=\"color: #000080; text-decoration-color: #000080\">\"gender\"</span><span style=\"color: #000080; text-decoration-color: #000080\">: </span><span style=\"color: #000080; text-decoration-color: #000080\">\"male\"</span><span style=\"color: #000080; text-decoration-color: #000080\">,</span>\n",
       "<span style=\"color: #000080; text-decoration-color: #000080\">    </span><span style=\"color: #000080; text-decoration-color: #000080\">\"dietary_preference\"</span><span style=\"color: #000080; text-decoration-color: #000080\">: </span><span style=\"color: #000080; text-decoration-color: #000080\">\"none\"</span><span style=\"color: #000080; text-decoration-color: #000080\">,</span>\n",
       "<span style=\"color: #000080; text-decoration-color: #000080\">    </span><span style=\"color: #000080; text-decoration-color: #000080\">\"additional_information\"</span><span style=\"color: #000080; text-decoration-color: #000080\">: </span><span style=\"color: #000080; text-decoration-color: #000080; font-weight: bold\">{</span>\n",
       "<span style=\"color: #000080; text-decoration-color: #000080\">        </span><span style=\"color: #000080; text-decoration-color: #000080\">\"goals\"</span><span style=\"color: #000080; text-decoration-color: #000080\">: </span><span style=\"color: #000080; text-decoration-color: #000080\">\"build muscle\"</span><span style=\"color: #000080; text-decoration-color: #000080\">,</span>\n",
       "<span style=\"color: #000080; text-decoration-color: #000080\">        </span><span style=\"color: #000080; text-decoration-color: #000080\">\"fitness_level\"</span><span style=\"color: #000080; text-decoration-color: #000080\">: </span><span style=\"color: #000080; text-decoration-color: #000080\">\"good\"</span><span style=\"color: #000080; text-decoration-color: #000080\">,</span>\n",
       "<span style=\"color: #000080; text-decoration-color: #000080\">        </span><span style=\"color: #000080; text-decoration-color: #000080\">\"workout_environment\"</span><span style=\"color: #000080; text-decoration-color: #000080\">: </span><span style=\"color: #000080; text-decoration-color: #000080\">\"home\"</span><span style=\"color: #000080; text-decoration-color: #000080\">,</span>\n",
       "<span style=\"color: #000080; text-decoration-color: #000080\">        </span><span style=\"color: #000080; text-decoration-color: #000080\">\"equipment\"</span><span style=\"color: #000080; text-decoration-color: #000080\">: </span><span style=\"color: #000080; text-decoration-color: #000080; font-weight: bold\">[</span><span style=\"color: #000080; text-decoration-color: #000080\">\"weights\"</span><span style=\"color: #000080; text-decoration-color: #000080; font-weight: bold\">]</span>\n",
       "<span style=\"color: #000080; text-decoration-color: #000080\">    </span><span style=\"color: #000080; text-decoration-color: #000080; font-weight: bold\">}</span>\n",
       "<span style=\"color: #000080; text-decoration-color: #000080; font-weight: bold\">}</span>\n",
       "<span style=\"color: #000080; text-decoration-color: #000080\">```</span>\n",
       "<span style=\"color: #000080; text-decoration-color: #000080\">DATA COLLECTED</span></pre>\n"
      ],
      "text/plain": [
       "\u001b[34m🤖 Perfect, I’ll add that you prefer to work out at home and have some weights, but no bench. \u001b[0m\n",
       "\n",
       "\u001b[34mLet’s summarize everything I’ve collected so far:\u001b[0m\n",
       "\n",
       "\u001b[34m```json\u001b[0m\n",
       "\u001b[1;34m{\u001b[0m\n",
       "\u001b[34m    \u001b[0m\u001b[34m\"Name\"\u001b[0m\u001b[34m: \u001b[0m\u001b[34m\"BastiMax\"\u001b[0m\u001b[34m,\u001b[0m\n",
       "\u001b[34m    \u001b[0m\u001b[34m\"weight\"\u001b[0m\u001b[34m: \u001b[0m\u001b[1;34m73\u001b[0m\u001b[34m,\u001b[0m\n",
       "\u001b[34m    \u001b[0m\u001b[34m\"height\"\u001b[0m\u001b[34m: \u001b[0m\u001b[1;34m179\u001b[0m\u001b[34m,\u001b[0m\n",
       "\u001b[34m    \u001b[0m\u001b[34m\"age\"\u001b[0m\u001b[34m: \u001b[0m\u001b[1;34m33\u001b[0m\u001b[34m,\u001b[0m\n",
       "\u001b[34m    \u001b[0m\u001b[34m\"gender\"\u001b[0m\u001b[34m: \u001b[0m\u001b[34m\"male\"\u001b[0m\u001b[34m,\u001b[0m\n",
       "\u001b[34m    \u001b[0m\u001b[34m\"dietary_preference\"\u001b[0m\u001b[34m: \u001b[0m\u001b[34m\"none\"\u001b[0m\u001b[34m,\u001b[0m\n",
       "\u001b[34m    \u001b[0m\u001b[34m\"additional_information\"\u001b[0m\u001b[34m: \u001b[0m\u001b[1;34m{\u001b[0m\n",
       "\u001b[34m        \u001b[0m\u001b[34m\"goals\"\u001b[0m\u001b[34m: \u001b[0m\u001b[34m\"build muscle\"\u001b[0m\u001b[34m,\u001b[0m\n",
       "\u001b[34m        \u001b[0m\u001b[34m\"fitness_level\"\u001b[0m\u001b[34m: \u001b[0m\u001b[34m\"good\"\u001b[0m\u001b[34m,\u001b[0m\n",
       "\u001b[34m        \u001b[0m\u001b[34m\"workout_environment\"\u001b[0m\u001b[34m: \u001b[0m\u001b[34m\"home\"\u001b[0m\u001b[34m,\u001b[0m\n",
       "\u001b[34m        \u001b[0m\u001b[34m\"equipment\"\u001b[0m\u001b[34m: \u001b[0m\u001b[1;34m[\u001b[0m\u001b[34m\"weights\"\u001b[0m\u001b[1;34m]\u001b[0m\n",
       "\u001b[34m    \u001b[0m\u001b[1;34m}\u001b[0m\n",
       "\u001b[1;34m}\u001b[0m\n",
       "\u001b[34m```\u001b[0m\n",
       "\u001b[34mDATA COLLECTED\u001b[0m"
      ]
     },
     "metadata": {},
     "output_type": "display_data"
    }
   ],
   "source": [
    "user_info = await collect_data()"
   ]
  },
  {
   "cell_type": "code",
   "execution_count": 7,
   "id": "b0c8188b-e809-4d05-b4d1-f549a4707375",
   "metadata": {},
   "outputs": [
    {
     "data": {
      "text/html": [
       "<pre style=\"white-space:pre;overflow-x:auto;line-height:normal;font-family:Menlo,'DejaVu Sans Mono',consolas,'Courier New',monospace\"><span style=\"font-weight: bold\">{</span>\n",
       "  <span style=\"color: #000080; text-decoration-color: #000080; font-weight: bold\">\"Name\"</span>: <span style=\"color: #008000; text-decoration-color: #008000\">\"BastiMax\"</span>,\n",
       "  <span style=\"color: #000080; text-decoration-color: #000080; font-weight: bold\">\"weight\"</span>: <span style=\"color: #008080; text-decoration-color: #008080; font-weight: bold\">73</span>,\n",
       "  <span style=\"color: #000080; text-decoration-color: #000080; font-weight: bold\">\"height\"</span>: <span style=\"color: #008080; text-decoration-color: #008080; font-weight: bold\">179</span>,\n",
       "  <span style=\"color: #000080; text-decoration-color: #000080; font-weight: bold\">\"age\"</span>: <span style=\"color: #008080; text-decoration-color: #008080; font-weight: bold\">33</span>,\n",
       "  <span style=\"color: #000080; text-decoration-color: #000080; font-weight: bold\">\"gender\"</span>: <span style=\"color: #008000; text-decoration-color: #008000\">\"male\"</span>,\n",
       "  <span style=\"color: #000080; text-decoration-color: #000080; font-weight: bold\">\"dietary_preference\"</span>: <span style=\"color: #008000; text-decoration-color: #008000\">\"none\"</span>,\n",
       "  <span style=\"color: #000080; text-decoration-color: #000080; font-weight: bold\">\"additional_information\"</span>: <span style=\"font-weight: bold\">{</span>\n",
       "    <span style=\"color: #000080; text-decoration-color: #000080; font-weight: bold\">\"goals\"</span>: <span style=\"color: #008000; text-decoration-color: #008000\">\"build muscle\"</span>,\n",
       "    <span style=\"color: #000080; text-decoration-color: #000080; font-weight: bold\">\"fitness_level\"</span>: <span style=\"color: #008000; text-decoration-color: #008000\">\"good\"</span>,\n",
       "    <span style=\"color: #000080; text-decoration-color: #000080; font-weight: bold\">\"workout_environment\"</span>: <span style=\"color: #008000; text-decoration-color: #008000\">\"home\"</span>,\n",
       "    <span style=\"color: #000080; text-decoration-color: #000080; font-weight: bold\">\"equipment\"</span>: <span style=\"font-weight: bold\">[</span>\n",
       "      <span style=\"color: #008000; text-decoration-color: #008000\">\"weights\"</span>\n",
       "    <span style=\"font-weight: bold\">]</span>\n",
       "  <span style=\"font-weight: bold\">}</span>\n",
       "<span style=\"font-weight: bold\">}</span>\n",
       "</pre>\n"
      ],
      "text/plain": [
       "\u001b[1m{\u001b[0m\n",
       "  \u001b[1;34m\"Name\"\u001b[0m: \u001b[32m\"BastiMax\"\u001b[0m,\n",
       "  \u001b[1;34m\"weight\"\u001b[0m: \u001b[1;36m73\u001b[0m,\n",
       "  \u001b[1;34m\"height\"\u001b[0m: \u001b[1;36m179\u001b[0m,\n",
       "  \u001b[1;34m\"age\"\u001b[0m: \u001b[1;36m33\u001b[0m,\n",
       "  \u001b[1;34m\"gender\"\u001b[0m: \u001b[32m\"male\"\u001b[0m,\n",
       "  \u001b[1;34m\"dietary_preference\"\u001b[0m: \u001b[32m\"none\"\u001b[0m,\n",
       "  \u001b[1;34m\"additional_information\"\u001b[0m: \u001b[1m{\u001b[0m\n",
       "    \u001b[1;34m\"goals\"\u001b[0m: \u001b[32m\"build muscle\"\u001b[0m,\n",
       "    \u001b[1;34m\"fitness_level\"\u001b[0m: \u001b[32m\"good\"\u001b[0m,\n",
       "    \u001b[1;34m\"workout_environment\"\u001b[0m: \u001b[32m\"home\"\u001b[0m,\n",
       "    \u001b[1;34m\"equipment\"\u001b[0m: \u001b[1m[\u001b[0m\n",
       "      \u001b[32m\"weights\"\u001b[0m\n",
       "    \u001b[1m]\u001b[0m\n",
       "  \u001b[1m}\u001b[0m\n",
       "\u001b[1m}\u001b[0m\n"
      ]
     },
     "metadata": {},
     "output_type": "display_data"
    }
   ],
   "source": [
    "import json\n",
    "from rich import print_json\n",
    "from IPython.display import Markdown\n",
    "\n",
    "if isinstance(user_info, dict):\n",
    "    print_json(json.dumps(user_info, indent=2))\n",
    "else:\n",
    "    Markdown(user_info)"
   ]
  },
  {
   "cell_type": "markdown",
   "id": "944d7138-e6ac-4c32-a4b2-03c737af2d6b",
   "metadata": {
    "jp-MarkdownHeadingCollapsed": true
   },
   "source": [
    "### Health Recommendation"
   ]
  },
  {
   "cell_type": "code",
   "execution_count": 8,
   "id": "2cf8d215-ce3f-4e08-8ba1-b818472e8b39",
   "metadata": {},
   "outputs": [],
   "source": [
    "# BMI Calculation\n",
    "def calculate_bmi(weight_kg: float, height_cm: float) -> float:\n",
    "    \"\"\"\n",
    "    Calculate the Body Mass Index (BMI) using weight (kg) and height (cm).\n",
    "    \n",
    "    Formula:\n",
    "        height_m = height_cm / 100\n",
    "        BMI = weight_kg / (height_m ** 2)\n",
    "    \n",
    "    Args:\n",
    "        weight_kg (float): Weight in kilograms\n",
    "        height_cm (float): Height in centimeters\n",
    "\n",
    "    Returns:\n",
    "        float: Calculated BMI rounded to 2 decimal places\n",
    "    \"\"\"\n",
    "    if height_cm <= 0 or weight_kg <= 0:\n",
    "        raise ValueError(\"Height and weight must be positive values.\")\n",
    "    \n",
    "    height_m = height_cm / 100\n",
    "    bmi = weight_kg / (height_m ** 2)\n",
    "    return round(bmi, 2)"
   ]
  },
  {
   "cell_type": "code",
   "execution_count": 9,
   "id": "7521cdfb-0876-44fe-b6d3-e7be064b29ca",
   "metadata": {},
   "outputs": [],
   "source": [
    "health_recommender = AssistantAgent(\n",
    "    name=\"health_recommender\",\n",
    "    system_message=\"\"\"\n",
    "    You are the Health Recommender Agent in a Smart Health Assistance team workflow. You receive a user profile JSON from the data_collector agent, which includes:\n",
    "    - weight (kg)\n",
    "    - height (cm)\n",
    "    - age\n",
    "    - gender\n",
    "    - dietary_preference\n",
    "    - any additional_information (optional)\n",
    "    \n",
    "    Your responsibilities are:\n",
    "    1. Use the calculate_bmi tool to compute the user's BMI based on weight and height.\n",
    "    2. Reflect on the BMI result and classify it into standard BMI categories:\n",
    "       - BMI < 18.5: underweight\n",
    "       - 18.5 ≤ BMI < 24.9: normal weight\n",
    "       - 25 ≤ BMI < 29.9: overweight\n",
    "       - BMI ≥ 30: obese\n",
    "    3. Provide scientific-grounded, tecnical, detailed and professional health recommendations tailored to the user’s profile \n",
    "    (age, gender, dietary preference, and health conditions and goals iff provided) but directed to your team. Make it actionable and balanced.\n",
    "    This information is going to be used by another two agents in charge of creating a meal plan and a workout schedule.\n",
    "    4. Relay a structured JSON result to the next agent (the Diet Planner), containing at minimum:\n",
    "       {\n",
    "         \"bmi\": <value>,\n",
    "         \"bmi_category\": \"<category>\",\n",
    "         \"recommendations\": \"<advice text>\"\n",
    "       }\n",
    "    5. Do not proceed until you’ve generated the full JSON and health advice. End your response with the JSON block only, with no extra text after.\n",
    "    Follow this template:\n",
    "        {\n",
    "            <json with bmi, bmi_category, and recommendations>\n",
    "        }\n",
    "    \n",
    "    Ensure clarity, correctness, and completeness in your responses.\n",
    "    \"\"\",\n",
    "    model_client=openai_client,\n",
    "    tools=[calculate_bmi],\n",
    "    reflect_on_tool_use=True,\n",
    ")"
   ]
  },
  {
   "cell_type": "code",
   "execution_count": 10,
   "id": "8b1d2cdb-8175-45cf-bff0-0c7169e2a7e9",
   "metadata": {},
   "outputs": [],
   "source": [
    "from autogen_core import CancellationToken\n",
    "from autogen_agentchat.messages import TextMessage\n",
    "\n",
    "\n",
    "async def health_recommendation(data_collected) -> dict:\n",
    "    profile_str = json.dumps(data_collected, indent=2)\n",
    "    response = await health_recommender.on_messages([TextMessage(content=profile_str, source=\"user\")], CancellationToken())\n",
    "    response_text = response.chat_message.to_text()\n",
    "    print(f\"[blue]🤖 {response_text}[/blue]\")\n",
    "    return response_text"
   ]
  },
  {
   "cell_type": "code",
   "execution_count": 11,
   "id": "43a7fbf7-cd81-41d2-bdba-a6edefdca05d",
   "metadata": {},
   "outputs": [
    {
     "data": {
      "text/html": [
       "<pre style=\"white-space:pre;overflow-x:auto;line-height:normal;font-family:Menlo,'DejaVu Sans Mono',consolas,'Courier New',monospace\"><span style=\"color: #000080; text-decoration-color: #000080\">🤖 </span><span style=\"color: #000080; text-decoration-color: #000080; font-weight: bold\">{</span>\n",
       "<span style=\"color: #000080; text-decoration-color: #000080\">  </span><span style=\"color: #000080; text-decoration-color: #000080\">\"bmi\"</span><span style=\"color: #000080; text-decoration-color: #000080\">: </span><span style=\"color: #000080; text-decoration-color: #000080; font-weight: bold\">22.78</span><span style=\"color: #000080; text-decoration-color: #000080\">,</span>\n",
       "<span style=\"color: #000080; text-decoration-color: #000080\">  </span><span style=\"color: #000080; text-decoration-color: #000080\">\"bmi_category\"</span><span style=\"color: #000080; text-decoration-color: #000080\">: </span><span style=\"color: #000080; text-decoration-color: #000080\">\"normal weight\"</span><span style=\"color: #000080; text-decoration-color: #000080\">,</span>\n",
       "<span style=\"color: #000080; text-decoration-color: #000080\">  </span><span style=\"color: #000080; text-decoration-color: #000080\">\"recommendations\"</span><span style=\"color: #000080; text-decoration-color: #000080\">: </span><span style=\"color: #000080; text-decoration-color: #000080\">\"BastiMax, with a BMI of 22.78, falls within the normal weight category, which is excellent </span>\n",
       "<span style=\"color: #000080; text-decoration-color: #000080\">for your age and height. Given your goal to build muscle and your good fitness level, consider a structured workout</span>\n",
       "<span style=\"color: #000080; text-decoration-color: #000080\">plan focusing on resistance training using the weights you have at home. Target major muscle groups with compound </span>\n",
       "<span style=\"color: #000080; text-decoration-color: #000080\">exercises like squats, deadlifts, bench presses, and bent-over rows, aiming for 3-4 sets of 8-12 reps for each </span>\n",
       "<span style=\"color: #000080; text-decoration-color: #000080\">exercise. Ensure a high-protein diet to support muscle repair and growth, incorporating sources such as chicken, </span>\n",
       "<span style=\"color: #000080; text-decoration-color: #000080\">fish, eggs, legumes, and dairy. Stay hydrated and consider integrating rest days into your routine to allow for </span>\n",
       "<span style=\"color: #000080; text-decoration-color: #000080\">muscle recovery. Since you have no dietary restrictions, include a balance of carbohydrates and healthy fats to </span>\n",
       "<span style=\"color: #000080; text-decoration-color: #000080\">fuel your workouts.\"</span>\n",
       "<span style=\"color: #000080; text-decoration-color: #000080; font-weight: bold\">}</span>\n",
       "</pre>\n"
      ],
      "text/plain": [
       "\u001b[34m🤖 \u001b[0m\u001b[1;34m{\u001b[0m\n",
       "\u001b[34m  \u001b[0m\u001b[34m\"bmi\"\u001b[0m\u001b[34m: \u001b[0m\u001b[1;34m22.78\u001b[0m\u001b[34m,\u001b[0m\n",
       "\u001b[34m  \u001b[0m\u001b[34m\"bmi_category\"\u001b[0m\u001b[34m: \u001b[0m\u001b[34m\"normal weight\"\u001b[0m\u001b[34m,\u001b[0m\n",
       "\u001b[34m  \u001b[0m\u001b[34m\"recommendations\"\u001b[0m\u001b[34m: \u001b[0m\u001b[34m\"BastiMax, with a BMI of 22.78, falls within the normal weight category, which is excellent \u001b[0m\n",
       "\u001b[34mfor your age and height. Given your goal to build muscle and your good fitness level, consider a structured workout\u001b[0m\n",
       "\u001b[34mplan focusing on resistance training using the weights you have at home. Target major muscle groups with compound \u001b[0m\n",
       "\u001b[34mexercises like squats, deadlifts, bench presses, and bent-over rows, aiming for 3-4 sets of 8-12 reps for each \u001b[0m\n",
       "\u001b[34mexercise. Ensure a high-protein diet to support muscle repair and growth, incorporating sources such as chicken, \u001b[0m\n",
       "\u001b[34mfish, eggs, legumes, and dairy. Stay hydrated and consider integrating rest days into your routine to allow for \u001b[0m\n",
       "\u001b[34mmuscle recovery. Since you have no dietary restrictions, include a balance of carbohydrates and healthy fats to \u001b[0m\n",
       "\u001b[34mfuel your workouts.\"\u001b[0m\n",
       "\u001b[1;34m}\u001b[0m\n"
      ]
     },
     "metadata": {},
     "output_type": "display_data"
    }
   ],
   "source": [
    "health_recommendations = await health_recommendation(user_info)"
   ]
  },
  {
   "cell_type": "code",
   "execution_count": 12,
   "id": "795fc3d3-70f9-4e12-bd6e-553e12a6b3ff",
   "metadata": {},
   "outputs": [
    {
     "data": {
      "text/html": [
       "<pre style=\"white-space:pre;overflow-x:auto;line-height:normal;font-family:Menlo,'DejaVu Sans Mono',consolas,'Courier New',monospace\"><span style=\"font-weight: bold\">{</span>\n",
       "  <span style=\"color: #000080; text-decoration-color: #000080; font-weight: bold\">\"bmi\"</span>: <span style=\"color: #008080; text-decoration-color: #008080; font-weight: bold\">22.78</span>,\n",
       "  <span style=\"color: #000080; text-decoration-color: #000080; font-weight: bold\">\"bmi_category\"</span>: <span style=\"color: #008000; text-decoration-color: #008000\">\"normal weight\"</span>,\n",
       "  <span style=\"color: #000080; text-decoration-color: #000080; font-weight: bold\">\"recommendations\"</span>: <span style=\"color: #008000; text-decoration-color: #008000\">\"BastiMax, with a BMI of 22.78, falls within the normal weight category, which is excellent for your age and height. Given your goal to build muscle and your good fitness level, consider a structured workout plan focusing on resistance training using the weights you have at home. Target major muscle groups with compound exercises like squats, deadlifts, bench presses, and bent-over rows, aiming for 3-4 sets of 8-12 reps for each exercise. Ensure a high-protein diet to support muscle repair and growth, incorporating sources such as chicken, fish, eggs, legumes, and dairy. Stay hydrated and consider integrating rest days into your routine to allow for muscle recovery. Since you have no dietary restrictions, include a balance of carbohydrates and healthy fats to fuel your workouts.\"</span>\n",
       "<span style=\"font-weight: bold\">}</span>\n",
       "</pre>\n"
      ],
      "text/plain": [
       "\u001b[1m{\u001b[0m\n",
       "  \u001b[1;34m\"bmi\"\u001b[0m: \u001b[1;36m22.78\u001b[0m,\n",
       "  \u001b[1;34m\"bmi_category\"\u001b[0m: \u001b[32m\"normal weight\"\u001b[0m,\n",
       "  \u001b[1;34m\"recommendations\"\u001b[0m: \u001b[32m\"BastiMax, with a BMI of 22.78, falls within the normal weight category, which is excellent for your age and height. Given your goal to build muscle and your good fitness level, consider a structured workout plan focusing on resistance training using the weights you have at home. Target major muscle groups with compound exercises like squats, deadlifts, bench presses, and bent-over rows, aiming for 3-4 sets of 8-12 reps for each exercise. Ensure a high-protein diet to support muscle repair and growth, incorporating sources such as chicken, fish, eggs, legumes, and dairy. Stay hydrated and consider integrating rest days into your routine to allow for muscle recovery. Since you have no dietary restrictions, include a balance of carbohydrates and healthy fats to fuel your workouts.\"\u001b[0m\n",
       "\u001b[1m}\u001b[0m\n"
      ]
     },
     "metadata": {},
     "output_type": "display_data"
    }
   ],
   "source": [
    "print_json(health_recommendations)"
   ]
  },
  {
   "cell_type": "markdown",
   "id": "dbc168fb-caa1-4fec-a04f-9ecfc3acad97",
   "metadata": {
    "jp-MarkdownHeadingCollapsed": true
   },
   "source": [
    "### Meal Plan"
   ]
  },
  {
   "cell_type": "code",
   "execution_count": 13,
   "id": "524820e6-2507-4d6d-94cb-47dfdea49e7e",
   "metadata": {},
   "outputs": [],
   "source": [
    "# Take profile and recommendations dicts, aggregate (opc), make a meal plan\n",
    "\n",
    "meal_planner = AssistantAgent(\n",
    "    name=\"meal_planner\",\n",
    "    system_message=\"\"\"\n",
    "    You are the Meal Planner in a multi-agent system for Smart Health Assistance.\n",
    "    \n",
    "    Your role is to take a user’s profile (including age, weight, height, gender, and dietary preferences), along with personalized recommendations (such as BMI score and health recommendations), and design a detailed daily meal plan that supports their health improvement journey.\n",
    "    \n",
    "    You DO NOT speak directly to the user — your role is purely functional and internal to the system. Your only output should be a well-structured meal plan in **markdown** format.\n",
    "    \n",
    "    Guidelines:\n",
    "    - Tailor the meal plan to the user's **dietary preferences** (e.g., vegan, vegetarian, non-veg).\n",
    "    - Consider **health recommendatinos and user information (goals) and BMI score**: For example: for weight loss, suggest calorie-conscious meals; for muscle gain, add protein-rich options; for diabetes or other conditions, offer suitable substitutions.\n",
    "    - Be realistic, simple, and achievable — avoid obscure ingredients or complex cooking.\n",
    "    - Ensure each meal is **nutritionally balanced**.\n",
    "    - Output ONLY a markdown formatted meal plan with **headings and bullet points**.\n",
    "    \n",
    "    Structure your output like this:\n",
    "    \n",
    "    # Daily Meal Plan\n",
    "    \n",
    "    ## Breakfast\n",
    "    - Example food item\n",
    "    - ...\n",
    "    \n",
    "    ## Lunch\n",
    "    - ...\n",
    "    \n",
    "    ## Snack\n",
    "    - ...\n",
    "    \n",
    "    ## Dinner\n",
    "    - ...\n",
    "    \n",
    "    Do not include explanations or wrap your output in code blocks. Provide at least one alternative to each meal.\n",
    "    \"\"\",\n",
    "    model_client=openai_client,\n",
    ")"
   ]
  },
  {
   "cell_type": "code",
   "execution_count": 14,
   "id": "52315a00-51a4-4e64-931e-1f8de753d505",
   "metadata": {},
   "outputs": [],
   "source": [
    "async def meal_planning(data_collected, health_recommendations) -> dict:\n",
    "    profile_str = json.dumps(data_collected, indent=2)\n",
    "    health_recomm_str = json.dumps(health_recommendations, indent=2)\n",
    "    response = await meal_planner.on_messages([\n",
    "        TextMessage(content=profile_str, source=\"user\"),\n",
    "        TextMessage(content=health_recomm_str, source=\"user\"),\n",
    "    ], CancellationToken())\n",
    "    response_text = response.chat_message.to_text()\n",
    "    print(f\"[blue]🤖 {response_text}[/blue]\")\n",
    "    return response_text"
   ]
  },
  {
   "cell_type": "code",
   "execution_count": 15,
   "id": "920478b2-863f-4635-84b8-3d79e211b51e",
   "metadata": {},
   "outputs": [
    {
     "data": {
      "text/html": [
       "<pre style=\"white-space:pre;overflow-x:auto;line-height:normal;font-family:Menlo,'DejaVu Sans Mono',consolas,'Courier New',monospace\"><span style=\"color: #000080; text-decoration-color: #000080\">🤖 # Daily Meal Plan</span>\n",
       "\n",
       "<span style=\"color: #000080; text-decoration-color: #000080\">## Breakfast</span>\n",
       "<span style=\"color: #000080; text-decoration-color: #000080\">- Scrambled eggs with spinach and feta cheese</span>\n",
       "<span style=\"color: #000080; text-decoration-color: #000080\">- Whole-grain toast with avocado</span>\n",
       "\n",
       "<span style=\"color: #000080; text-decoration-color: #000080\">## Lunch</span>\n",
       "<span style=\"color: #000080; text-decoration-color: #000080\">- Grilled chicken breast with quinoa and steamed broccoli</span>\n",
       "<span style=\"color: #000080; text-decoration-color: #000080\">- Chickpea salad with cherry tomatoes, cucumber, and olive oil dressing</span>\n",
       "\n",
       "<span style=\"color: #000080; text-decoration-color: #000080\">## Snack</span>\n",
       "<span style=\"color: #000080; text-decoration-color: #000080\">- Greek yogurt with honey and mixed berries</span>\n",
       "<span style=\"color: #000080; text-decoration-color: #000080\">- Protein smoothie with banana, spinach, and almond milk</span>\n",
       "\n",
       "<span style=\"color: #000080; text-decoration-color: #000080\">## Dinner</span>\n",
       "<span style=\"color: #000080; text-decoration-color: #000080\">- Baked salmon with sweet potato and asparagus</span>\n",
       "<span style=\"color: #000080; text-decoration-color: #000080\">- Stir-fried tofu with mixed vegetables and brown rice</span>\n",
       "</pre>\n"
      ],
      "text/plain": [
       "\u001b[34m🤖 # Daily Meal Plan\u001b[0m\n",
       "\n",
       "\u001b[34m## Breakfast\u001b[0m\n",
       "\u001b[34m- Scrambled eggs with spinach and feta cheese\u001b[0m\n",
       "\u001b[34m- Whole-grain toast with avocado\u001b[0m\n",
       "\n",
       "\u001b[34m## Lunch\u001b[0m\n",
       "\u001b[34m- Grilled chicken breast with quinoa and steamed broccoli\u001b[0m\n",
       "\u001b[34m- Chickpea salad with cherry tomatoes, cucumber, and olive oil dressing\u001b[0m\n",
       "\n",
       "\u001b[34m## Snack\u001b[0m\n",
       "\u001b[34m- Greek yogurt with honey and mixed berries\u001b[0m\n",
       "\u001b[34m- Protein smoothie with banana, spinach, and almond milk\u001b[0m\n",
       "\n",
       "\u001b[34m## Dinner\u001b[0m\n",
       "\u001b[34m- Baked salmon with sweet potato and asparagus\u001b[0m\n",
       "\u001b[34m- Stir-fried tofu with mixed vegetables and brown rice\u001b[0m\n"
      ]
     },
     "metadata": {},
     "output_type": "display_data"
    }
   ],
   "source": [
    "meal_plan = await meal_planning(user_info, health_recommendations)"
   ]
  },
  {
   "cell_type": "code",
   "execution_count": 16,
   "id": "4ea3ea30-30da-4768-8d16-9729400d457d",
   "metadata": {},
   "outputs": [
    {
     "data": {
      "text/markdown": [
       "# Daily Meal Plan\n",
       "\n",
       "## Breakfast\n",
       "- Scrambled eggs with spinach and feta cheese\n",
       "- Whole-grain toast with avocado\n",
       "\n",
       "## Lunch\n",
       "- Grilled chicken breast with quinoa and steamed broccoli\n",
       "- Chickpea salad with cherry tomatoes, cucumber, and olive oil dressing\n",
       "\n",
       "## Snack\n",
       "- Greek yogurt with honey and mixed berries\n",
       "- Protein smoothie with banana, spinach, and almond milk\n",
       "\n",
       "## Dinner\n",
       "- Baked salmon with sweet potato and asparagus\n",
       "- Stir-fried tofu with mixed vegetables and brown rice"
      ],
      "text/plain": [
       "<IPython.core.display.Markdown object>"
      ]
     },
     "execution_count": 16,
     "metadata": {},
     "output_type": "execute_result"
    }
   ],
   "source": [
    "Markdown(meal_plan)"
   ]
  },
  {
   "cell_type": "markdown",
   "id": "611a3b97-7045-4fdd-82e7-9108717c5664",
   "metadata": {
    "jp-MarkdownHeadingCollapsed": true
   },
   "source": [
    "### Workout Schedule"
   ]
  },
  {
   "cell_type": "code",
   "execution_count": 17,
   "id": "114212c0-3d49-416e-8f8c-d175ce555aab",
   "metadata": {},
   "outputs": [],
   "source": [
    "workout_scheduler = AssistantAgent(\n",
    "    name=\"meal_planner\",\n",
    "    system_message=\"\"\"\n",
    "    You are the Workout Scheduler in a multi-agent system for Smart Health Assistance.\n",
    "\n",
    "    Your job is to generate a simple yet detailed, personalized workout routine based on:\n",
    "    - The user's profile (age, gender, weight, height, dietary preference, etc.)\n",
    "    - Their BMI and health goals (e.g., weight loss, strength gain, improved mobility)\n",
    "    - Any health recommendations or constraints (e.g., weak knee, diabetes)\n",
    "    - Their meal plan, to ensure workouts are appropriate for their energy and nutrition levels.\n",
    "    \n",
    "    You do NOT interact with users directly. Your output is intended for internal use and must be cleanly formatted in **markdown**.\n",
    "    \n",
    "    Guidelines:\n",
    "    - Take into account user **fitness level**, **age**, and **physical limitations**.\n",
    "    - If the user has any injuries or conditions, **adapt the routine** accordingly.\n",
    "    - Focus on **achievability and safety**: do not overwhelm the user.\n",
    "    - Include a **balanced mix** of cardio, strength, flexibility, and rest.\n",
    "    - Structure the plan for **one week**, day-by-day (Mon–Sun), assuming beginner to moderate level unless otherwise specified.\n",
    "    - Keep sessions to a **reasonable duration** (20–45 min).\n",
    "    - Name each day, and break down each day's routine into steps or exercises with optional sets/reps/times.\n",
    "    - Ouput two versions of your workout plan, one weight-assistance-based, and one body-weight-based.\n",
    "    \n",
    "    Your response must ONLY include a markdown workout schedule.\n",
    "    Do not include any explanations, motivation, or wrap your response in code blocks.\n",
    "\"\"\",\n",
    "    model_client=openai_client,\n",
    ")"
   ]
  },
  {
   "cell_type": "code",
   "execution_count": 18,
   "id": "0692668a-0d90-47ed-b795-220231e01746",
   "metadata": {},
   "outputs": [],
   "source": [
    "async def design_workout(data_collected, health_recommendations, meal_plan) -> dict:\n",
    "    profile_str = json.dumps(data_collected, indent=2)\n",
    "    health_recomm_str = json.dumps(health_recommendations, indent=2)\n",
    "    response = await workout_scheduler.on_messages([\n",
    "        TextMessage(content=profile_str, source=\"user\"),\n",
    "        TextMessage(content=health_recomm_str, source=\"user\"),\n",
    "        TextMessage(content=meal_plan, source=\"user\"),\n",
    "    ], CancellationToken())\n",
    "    response_text = response.chat_message.to_text()\n",
    "    print(f\"[blue]🤖 {response_text}[/blue]\")\n",
    "    return response_text"
   ]
  },
  {
   "cell_type": "code",
   "execution_count": 19,
   "id": "afd16a31-0b42-4c5a-914a-71fdc8b2c35d",
   "metadata": {
    "scrolled": true
   },
   "outputs": [
    {
     "data": {
      "text/html": [
       "<pre style=\"white-space:pre;overflow-x:auto;line-height:normal;font-family:Menlo,'DejaVu Sans Mono',consolas,'Courier New',monospace\"><span style=\"color: #000080; text-decoration-color: #000080\">🤖 # Workout Schedule for BastiMax</span>\n",
       "\n",
       "<span style=\"color: #000080; text-decoration-color: #000080\">## Weight-Assistance-Based Plan</span>\n",
       "\n",
       "<span style=\"color: #000080; text-decoration-color: #000080\">### Monday: Chest &amp; Triceps</span>\n",
       "<span style=\"color: #000080; text-decoration-color: #000080\">- Bench Press - </span><span style=\"color: #000080; text-decoration-color: #000080; font-weight: bold\">4</span><span style=\"color: #000080; text-decoration-color: #000080\"> sets of </span><span style=\"color: #000080; text-decoration-color: #000080; font-weight: bold\">8</span><span style=\"color: #000080; text-decoration-color: #000080\">-</span><span style=\"color: #000080; text-decoration-color: #000080; font-weight: bold\">12</span><span style=\"color: #000080; text-decoration-color: #000080\"> reps</span>\n",
       "<span style=\"color: #000080; text-decoration-color: #000080\">- Dumbbell Flyes - </span><span style=\"color: #000080; text-decoration-color: #000080; font-weight: bold\">3</span><span style=\"color: #000080; text-decoration-color: #000080\"> sets of </span><span style=\"color: #000080; text-decoration-color: #000080; font-weight: bold\">10</span><span style=\"color: #000080; text-decoration-color: #000080\">-</span><span style=\"color: #000080; text-decoration-color: #000080; font-weight: bold\">12</span><span style=\"color: #000080; text-decoration-color: #000080\"> reps</span>\n",
       "<span style=\"color: #000080; text-decoration-color: #000080\">- Tricep Dips - </span><span style=\"color: #000080; text-decoration-color: #000080; font-weight: bold\">3</span><span style=\"color: #000080; text-decoration-color: #000080\"> sets of </span><span style=\"color: #000080; text-decoration-color: #000080; font-weight: bold\">10</span><span style=\"color: #000080; text-decoration-color: #000080\">-</span><span style=\"color: #000080; text-decoration-color: #000080; font-weight: bold\">15</span><span style=\"color: #000080; text-decoration-color: #000080\"> reps</span>\n",
       "<span style=\"color: #000080; text-decoration-color: #000080\">- Push-Ups </span><span style=\"color: #000080; text-decoration-color: #000080; font-weight: bold\">(</span><span style=\"color: #000080; text-decoration-color: #000080\">weighted if possible</span><span style=\"color: #000080; text-decoration-color: #000080; font-weight: bold\">)</span><span style=\"color: #000080; text-decoration-color: #000080\"> - </span><span style=\"color: #000080; text-decoration-color: #000080; font-weight: bold\">3</span><span style=\"color: #000080; text-decoration-color: #000080\"> sets of </span><span style=\"color: #000080; text-decoration-color: #000080; font-weight: bold\">8</span><span style=\"color: #000080; text-decoration-color: #000080\">-</span><span style=\"color: #000080; text-decoration-color: #000080; font-weight: bold\">12</span><span style=\"color: #000080; text-decoration-color: #000080\"> reps</span>\n",
       "\n",
       "<span style=\"color: #000080; text-decoration-color: #000080\">### Tuesday: Legs</span>\n",
       "<span style=\"color: #000080; text-decoration-color: #000080\">- Goblet Squats - </span><span style=\"color: #000080; text-decoration-color: #000080; font-weight: bold\">4</span><span style=\"color: #000080; text-decoration-color: #000080\"> sets of </span><span style=\"color: #000080; text-decoration-color: #000080; font-weight: bold\">8</span><span style=\"color: #000080; text-decoration-color: #000080\">-</span><span style=\"color: #000080; text-decoration-color: #000080; font-weight: bold\">12</span><span style=\"color: #000080; text-decoration-color: #000080\"> reps</span>\n",
       "<span style=\"color: #000080; text-decoration-color: #000080\">- Lunges </span><span style=\"color: #000080; text-decoration-color: #000080; font-weight: bold\">(</span><span style=\"color: #000080; text-decoration-color: #000080\">weighted</span><span style=\"color: #000080; text-decoration-color: #000080; font-weight: bold\">)</span><span style=\"color: #000080; text-decoration-color: #000080\"> - </span><span style=\"color: #000080; text-decoration-color: #000080; font-weight: bold\">3</span><span style=\"color: #000080; text-decoration-color: #000080\"> sets of </span><span style=\"color: #000080; text-decoration-color: #000080; font-weight: bold\">10</span><span style=\"color: #000080; text-decoration-color: #000080\">-</span><span style=\"color: #000080; text-decoration-color: #000080; font-weight: bold\">12</span><span style=\"color: #000080; text-decoration-color: #000080\"> reps per leg</span>\n",
       "<span style=\"color: #000080; text-decoration-color: #000080\">- Deadlifts - </span><span style=\"color: #000080; text-decoration-color: #000080; font-weight: bold\">4</span><span style=\"color: #000080; text-decoration-color: #000080\"> sets of </span><span style=\"color: #000080; text-decoration-color: #000080; font-weight: bold\">8</span><span style=\"color: #000080; text-decoration-color: #000080\">-</span><span style=\"color: #000080; text-decoration-color: #000080; font-weight: bold\">12</span><span style=\"color: #000080; text-decoration-color: #000080\"> reps</span>\n",
       "<span style=\"color: #000080; text-decoration-color: #000080\">- Calf Raises - </span><span style=\"color: #000080; text-decoration-color: #000080; font-weight: bold\">3</span><span style=\"color: #000080; text-decoration-color: #000080\"> sets of </span><span style=\"color: #000080; text-decoration-color: #000080; font-weight: bold\">12</span><span style=\"color: #000080; text-decoration-color: #000080\">-</span><span style=\"color: #000080; text-decoration-color: #000080; font-weight: bold\">15</span><span style=\"color: #000080; text-decoration-color: #000080\"> reps</span>\n",
       "\n",
       "<span style=\"color: #000080; text-decoration-color: #000080\">### Wednesday: Back &amp; Biceps</span>\n",
       "<span style=\"color: #000080; text-decoration-color: #000080\">- Bent-Over Rows - </span><span style=\"color: #000080; text-decoration-color: #000080; font-weight: bold\">4</span><span style=\"color: #000080; text-decoration-color: #000080\"> sets of </span><span style=\"color: #000080; text-decoration-color: #000080; font-weight: bold\">8</span><span style=\"color: #000080; text-decoration-color: #000080\">-</span><span style=\"color: #000080; text-decoration-color: #000080; font-weight: bold\">12</span><span style=\"color: #000080; text-decoration-color: #000080\"> reps</span>\n",
       "<span style=\"color: #000080; text-decoration-color: #000080\">- Pull-Ups </span><span style=\"color: #000080; text-decoration-color: #000080; font-weight: bold\">(</span><span style=\"color: #000080; text-decoration-color: #000080\">assisted if necessary</span><span style=\"color: #000080; text-decoration-color: #000080; font-weight: bold\">)</span><span style=\"color: #000080; text-decoration-color: #000080\"> - </span><span style=\"color: #000080; text-decoration-color: #000080; font-weight: bold\">3</span><span style=\"color: #000080; text-decoration-color: #000080\"> sets of </span><span style=\"color: #000080; text-decoration-color: #000080; font-weight: bold\">5</span><span style=\"color: #000080; text-decoration-color: #000080\">-</span><span style=\"color: #000080; text-decoration-color: #000080; font-weight: bold\">8</span><span style=\"color: #000080; text-decoration-color: #000080\"> reps</span>\n",
       "<span style=\"color: #000080; text-decoration-color: #000080\">- Bicep Curls - </span><span style=\"color: #000080; text-decoration-color: #000080; font-weight: bold\">3</span><span style=\"color: #000080; text-decoration-color: #000080\"> sets of </span><span style=\"color: #000080; text-decoration-color: #000080; font-weight: bold\">10</span><span style=\"color: #000080; text-decoration-color: #000080\">-</span><span style=\"color: #000080; text-decoration-color: #000080; font-weight: bold\">12</span><span style=\"color: #000080; text-decoration-color: #000080\"> reps</span>\n",
       "<span style=\"color: #000080; text-decoration-color: #000080\">- Face Pulls </span><span style=\"color: #000080; text-decoration-color: #000080; font-weight: bold\">(</span><span style=\"color: #000080; text-decoration-color: #000080\">if equipment available</span><span style=\"color: #000080; text-decoration-color: #000080; font-weight: bold\">)</span><span style=\"color: #000080; text-decoration-color: #000080\"> - </span><span style=\"color: #000080; text-decoration-color: #000080; font-weight: bold\">3</span><span style=\"color: #000080; text-decoration-color: #000080\"> sets of </span><span style=\"color: #000080; text-decoration-color: #000080; font-weight: bold\">12</span><span style=\"color: #000080; text-decoration-color: #000080\">-</span><span style=\"color: #000080; text-decoration-color: #000080; font-weight: bold\">15</span><span style=\"color: #000080; text-decoration-color: #000080\"> reps</span>\n",
       "\n",
       "<span style=\"color: #000080; text-decoration-color: #000080\">### Thursday: Active Recovery</span>\n",
       "<span style=\"color: #000080; text-decoration-color: #000080\">- Light walking or stretching - </span><span style=\"color: #000080; text-decoration-color: #000080; font-weight: bold\">20</span><span style=\"color: #000080; text-decoration-color: #000080\">-</span><span style=\"color: #000080; text-decoration-color: #000080; font-weight: bold\">30</span><span style=\"color: #000080; text-decoration-color: #000080\"> minutes</span>\n",
       "<span style=\"color: #000080; text-decoration-color: #000080\">- Focus on flexibility exercises </span><span style=\"color: #000080; text-decoration-color: #000080; font-weight: bold\">(</span><span style=\"color: #000080; text-decoration-color: #000080\">e.g., seated toe touch, shoulder stretches</span><span style=\"color: #000080; text-decoration-color: #000080; font-weight: bold\">)</span>\n",
       "\n",
       "<span style=\"color: #000080; text-decoration-color: #000080\">### Friday: Full Body</span>\n",
       "<span style=\"color: #000080; text-decoration-color: #000080\">- Kettlebell Swings - </span><span style=\"color: #000080; text-decoration-color: #000080; font-weight: bold\">3</span><span style=\"color: #000080; text-decoration-color: #000080\"> sets of </span><span style=\"color: #000080; text-decoration-color: #000080; font-weight: bold\">10</span><span style=\"color: #000080; text-decoration-color: #000080\">-</span><span style=\"color: #000080; text-decoration-color: #000080; font-weight: bold\">15</span><span style=\"color: #000080; text-decoration-color: #000080\"> reps</span>\n",
       "<span style=\"color: #000080; text-decoration-color: #000080\">- Push Press - </span><span style=\"color: #000080; text-decoration-color: #000080; font-weight: bold\">3</span><span style=\"color: #000080; text-decoration-color: #000080\"> sets of </span><span style=\"color: #000080; text-decoration-color: #000080; font-weight: bold\">8</span><span style=\"color: #000080; text-decoration-color: #000080\">-</span><span style=\"color: #000080; text-decoration-color: #000080; font-weight: bold\">12</span><span style=\"color: #000080; text-decoration-color: #000080\"> reps</span>\n",
       "<span style=\"color: #000080; text-decoration-color: #000080\">- Plank with Dumbbell Row - </span><span style=\"color: #000080; text-decoration-color: #000080; font-weight: bold\">3</span><span style=\"color: #000080; text-decoration-color: #000080\"> sets of </span><span style=\"color: #000080; text-decoration-color: #000080; font-weight: bold\">8</span><span style=\"color: #000080; text-decoration-color: #000080\">-</span><span style=\"color: #000080; text-decoration-color: #000080; font-weight: bold\">10</span><span style=\"color: #000080; text-decoration-color: #000080\"> reps per arm</span>\n",
       "<span style=\"color: #000080; text-decoration-color: #000080\">- Burpees </span><span style=\"color: #000080; text-decoration-color: #000080; font-weight: bold\">(</span><span style=\"color: #000080; text-decoration-color: #000080\">modify if needed</span><span style=\"color: #000080; text-decoration-color: #000080; font-weight: bold\">)</span><span style=\"color: #000080; text-decoration-color: #000080\"> - </span><span style=\"color: #000080; text-decoration-color: #000080; font-weight: bold\">3</span><span style=\"color: #000080; text-decoration-color: #000080\"> sets of </span><span style=\"color: #000080; text-decoration-color: #000080; font-weight: bold\">5</span><span style=\"color: #000080; text-decoration-color: #000080\">-</span><span style=\"color: #000080; text-decoration-color: #000080; font-weight: bold\">8</span><span style=\"color: #000080; text-decoration-color: #000080\"> reps</span>\n",
       "\n",
       "<span style=\"color: #000080; text-decoration-color: #000080\">### Saturday: Core &amp; Flexibility</span>\n",
       "<span style=\"color: #000080; text-decoration-color: #000080\">- Plank - </span><span style=\"color: #000080; text-decoration-color: #000080; font-weight: bold\">3</span><span style=\"color: #000080; text-decoration-color: #000080\"> sets of </span><span style=\"color: #000080; text-decoration-color: #000080; font-weight: bold\">30</span><span style=\"color: #000080; text-decoration-color: #000080\">-</span><span style=\"color: #000080; text-decoration-color: #000080; font-weight: bold\">45</span><span style=\"color: #000080; text-decoration-color: #000080\"> seconds</span>\n",
       "<span style=\"color: #000080; text-decoration-color: #000080\">- Russian Twists </span><span style=\"color: #000080; text-decoration-color: #000080; font-weight: bold\">(</span><span style=\"color: #000080; text-decoration-color: #000080\">with weight</span><span style=\"color: #000080; text-decoration-color: #000080; font-weight: bold\">)</span><span style=\"color: #000080; text-decoration-color: #000080\"> - </span><span style=\"color: #000080; text-decoration-color: #000080; font-weight: bold\">3</span><span style=\"color: #000080; text-decoration-color: #000080\"> sets of </span><span style=\"color: #000080; text-decoration-color: #000080; font-weight: bold\">10</span><span style=\"color: #000080; text-decoration-color: #000080\">-</span><span style=\"color: #000080; text-decoration-color: #000080; font-weight: bold\">12</span><span style=\"color: #000080; text-decoration-color: #000080\"> reps per side</span>\n",
       "<span style=\"color: #000080; text-decoration-color: #000080\">- Leg Raises - </span><span style=\"color: #000080; text-decoration-color: #000080; font-weight: bold\">3</span><span style=\"color: #000080; text-decoration-color: #000080\"> sets of </span><span style=\"color: #000080; text-decoration-color: #000080; font-weight: bold\">10</span><span style=\"color: #000080; text-decoration-color: #000080\">-</span><span style=\"color: #000080; text-decoration-color: #000080; font-weight: bold\">15</span><span style=\"color: #000080; text-decoration-color: #000080\"> reps</span>\n",
       "<span style=\"color: #000080; text-decoration-color: #000080\">- Yoga or stretching session - </span><span style=\"color: #000080; text-decoration-color: #000080; font-weight: bold\">20</span><span style=\"color: #000080; text-decoration-color: #000080\">-</span><span style=\"color: #000080; text-decoration-color: #000080; font-weight: bold\">30</span><span style=\"color: #000080; text-decoration-color: #000080\"> minutes</span>\n",
       "\n",
       "<span style=\"color: #000080; text-decoration-color: #000080\">### Sunday: Rest Day</span>\n",
       "<span style=\"color: #000080; text-decoration-color: #000080\">- Rest and recovery; hydrate and focus on nutrition</span>\n",
       "\n",
       "<span style=\"color: #000080; text-decoration-color: #000080\">---</span>\n",
       "\n",
       "<span style=\"color: #000080; text-decoration-color: #000080\">## Body-Weight-Based Plan</span>\n",
       "\n",
       "<span style=\"color: #000080; text-decoration-color: #000080\">### Monday: Chest &amp; Triceps</span>\n",
       "<span style=\"color: #000080; text-decoration-color: #000080\">- Standard Push-Ups - </span><span style=\"color: #000080; text-decoration-color: #000080; font-weight: bold\">4</span><span style=\"color: #000080; text-decoration-color: #000080\"> sets of </span><span style=\"color: #000080; text-decoration-color: #000080; font-weight: bold\">8</span><span style=\"color: #000080; text-decoration-color: #000080\">-</span><span style=\"color: #000080; text-decoration-color: #000080; font-weight: bold\">12</span><span style=\"color: #000080; text-decoration-color: #000080\"> reps</span>\n",
       "<span style=\"color: #000080; text-decoration-color: #000080\">- Decline Push-Ups </span><span style=\"color: #000080; text-decoration-color: #000080; font-weight: bold\">(</span><span style=\"color: #000080; text-decoration-color: #000080\">feet elevated</span><span style=\"color: #000080; text-decoration-color: #000080; font-weight: bold\">)</span><span style=\"color: #000080; text-decoration-color: #000080\"> - </span><span style=\"color: #000080; text-decoration-color: #000080; font-weight: bold\">3</span><span style=\"color: #000080; text-decoration-color: #000080\"> sets of </span><span style=\"color: #000080; text-decoration-color: #000080; font-weight: bold\">8</span><span style=\"color: #000080; text-decoration-color: #000080\">-</span><span style=\"color: #000080; text-decoration-color: #000080; font-weight: bold\">10</span><span style=\"color: #000080; text-decoration-color: #000080\"> reps</span>\n",
       "<span style=\"color: #000080; text-decoration-color: #000080\">- Tricep Dips </span><span style=\"color: #000080; text-decoration-color: #000080; font-weight: bold\">(</span><span style=\"color: #000080; text-decoration-color: #000080\">using a chair</span><span style=\"color: #000080; text-decoration-color: #000080; font-weight: bold\">)</span><span style=\"color: #000080; text-decoration-color: #000080\"> - </span><span style=\"color: #000080; text-decoration-color: #000080; font-weight: bold\">3</span><span style=\"color: #000080; text-decoration-color: #000080\"> sets of </span><span style=\"color: #000080; text-decoration-color: #000080; font-weight: bold\">10</span><span style=\"color: #000080; text-decoration-color: #000080\">-</span><span style=\"color: #000080; text-decoration-color: #000080; font-weight: bold\">15</span><span style=\"color: #000080; text-decoration-color: #000080\"> reps</span>\n",
       "<span style=\"color: #000080; text-decoration-color: #000080\">- Diamond Push-Ups - </span><span style=\"color: #000080; text-decoration-color: #000080; font-weight: bold\">3</span><span style=\"color: #000080; text-decoration-color: #000080\"> sets of </span><span style=\"color: #000080; text-decoration-color: #000080; font-weight: bold\">5</span><span style=\"color: #000080; text-decoration-color: #000080\">-</span><span style=\"color: #000080; text-decoration-color: #000080; font-weight: bold\">8</span><span style=\"color: #000080; text-decoration-color: #000080\"> reps</span>\n",
       "\n",
       "<span style=\"color: #000080; text-decoration-color: #000080\">### Tuesday: Legs</span>\n",
       "<span style=\"color: #000080; text-decoration-color: #000080\">- Bodyweight Squats - </span><span style=\"color: #000080; text-decoration-color: #000080; font-weight: bold\">4</span><span style=\"color: #000080; text-decoration-color: #000080\"> sets of </span><span style=\"color: #000080; text-decoration-color: #000080; font-weight: bold\">12</span><span style=\"color: #000080; text-decoration-color: #000080\">-</span><span style=\"color: #000080; text-decoration-color: #000080; font-weight: bold\">15</span><span style=\"color: #000080; text-decoration-color: #000080\"> reps</span>\n",
       "<span style=\"color: #000080; text-decoration-color: #000080\">- Step-Ups </span><span style=\"color: #000080; text-decoration-color: #000080; font-weight: bold\">(</span><span style=\"color: #000080; text-decoration-color: #000080\">on a sturdy chair or step</span><span style=\"color: #000080; text-decoration-color: #000080; font-weight: bold\">)</span><span style=\"color: #000080; text-decoration-color: #000080\"> - </span><span style=\"color: #000080; text-decoration-color: #000080; font-weight: bold\">3</span><span style=\"color: #000080; text-decoration-color: #000080\"> sets of </span><span style=\"color: #000080; text-decoration-color: #000080; font-weight: bold\">10</span><span style=\"color: #000080; text-decoration-color: #000080\">-</span><span style=\"color: #000080; text-decoration-color: #000080; font-weight: bold\">12</span><span style=\"color: #000080; text-decoration-color: #000080\"> reps per leg</span>\n",
       "<span style=\"color: #000080; text-decoration-color: #000080\">- Glute Bridges - </span><span style=\"color: #000080; text-decoration-color: #000080; font-weight: bold\">3</span><span style=\"color: #000080; text-decoration-color: #000080\"> sets of </span><span style=\"color: #000080; text-decoration-color: #000080; font-weight: bold\">12</span><span style=\"color: #000080; text-decoration-color: #000080\">-</span><span style=\"color: #000080; text-decoration-color: #000080; font-weight: bold\">15</span><span style=\"color: #000080; text-decoration-color: #000080\"> reps</span>\n",
       "<span style=\"color: #000080; text-decoration-color: #000080\">- Calf Raises - </span><span style=\"color: #000080; text-decoration-color: #000080; font-weight: bold\">3</span><span style=\"color: #000080; text-decoration-color: #000080\"> sets of </span><span style=\"color: #000080; text-decoration-color: #000080; font-weight: bold\">15</span><span style=\"color: #000080; text-decoration-color: #000080\">-</span><span style=\"color: #000080; text-decoration-color: #000080; font-weight: bold\">20</span><span style=\"color: #000080; text-decoration-color: #000080\"> reps</span>\n",
       "\n",
       "<span style=\"color: #000080; text-decoration-color: #000080\">### Wednesday: Back &amp; Biceps</span>\n",
       "<span style=\"color: #000080; text-decoration-color: #000080\">- Inverted Rows </span><span style=\"color: #000080; text-decoration-color: #000080; font-weight: bold\">(</span><span style=\"color: #000080; text-decoration-color: #000080\">under a sturdy table</span><span style=\"color: #000080; text-decoration-color: #000080; font-weight: bold\">)</span><span style=\"color: #000080; text-decoration-color: #000080\"> - </span><span style=\"color: #000080; text-decoration-color: #000080; font-weight: bold\">4</span><span style=\"color: #000080; text-decoration-color: #000080\"> sets of </span><span style=\"color: #000080; text-decoration-color: #000080; font-weight: bold\">8</span><span style=\"color: #000080; text-decoration-color: #000080\">-</span><span style=\"color: #000080; text-decoration-color: #000080; font-weight: bold\">12</span><span style=\"color: #000080; text-decoration-color: #000080\"> reps</span>\n",
       "<span style=\"color: #000080; text-decoration-color: #000080\">- Close-Grip Push-Ups - </span><span style=\"color: #000080; text-decoration-color: #000080; font-weight: bold\">3</span><span style=\"color: #000080; text-decoration-color: #000080\"> sets of </span><span style=\"color: #000080; text-decoration-color: #000080; font-weight: bold\">8</span><span style=\"color: #000080; text-decoration-color: #000080\">-</span><span style=\"color: #000080; text-decoration-color: #000080; font-weight: bold\">10</span><span style=\"color: #000080; text-decoration-color: #000080\"> reps</span>\n",
       "<span style=\"color: #000080; text-decoration-color: #000080\">- Plank to Push-Up Position - </span><span style=\"color: #000080; text-decoration-color: #000080; font-weight: bold\">3</span><span style=\"color: #000080; text-decoration-color: #000080\"> sets of </span><span style=\"color: #000080; text-decoration-color: #000080; font-weight: bold\">5</span><span style=\"color: #000080; text-decoration-color: #000080\">-</span><span style=\"color: #000080; text-decoration-color: #000080; font-weight: bold\">8</span><span style=\"color: #000080; text-decoration-color: #000080\"> reps</span>\n",
       "<span style=\"color: #000080; text-decoration-color: #000080\">- Supermans - </span><span style=\"color: #000080; text-decoration-color: #000080; font-weight: bold\">3</span><span style=\"color: #000080; text-decoration-color: #000080\"> sets of </span><span style=\"color: #000080; text-decoration-color: #000080; font-weight: bold\">10</span><span style=\"color: #000080; text-decoration-color: #000080\">-</span><span style=\"color: #000080; text-decoration-color: #000080; font-weight: bold\">15</span><span style=\"color: #000080; text-decoration-color: #000080\"> reps</span>\n",
       "\n",
       "<span style=\"color: #000080; text-decoration-color: #000080\">### Thursday: Active Recovery</span>\n",
       "<span style=\"color: #000080; text-decoration-color: #000080\">- Light walking or stretching - </span><span style=\"color: #000080; text-decoration-color: #000080; font-weight: bold\">20</span><span style=\"color: #000080; text-decoration-color: #000080\">-</span><span style=\"color: #000080; text-decoration-color: #000080; font-weight: bold\">30</span><span style=\"color: #000080; text-decoration-color: #000080\"> minutes</span>\n",
       "<span style=\"color: #000080; text-decoration-color: #000080\">- Focus on flexibility exercises </span><span style=\"color: #000080; text-decoration-color: #000080; font-weight: bold\">(</span><span style=\"color: #000080; text-decoration-color: #000080\">e.g., seated toe touch, shoulder stretches</span><span style=\"color: #000080; text-decoration-color: #000080; font-weight: bold\">)</span>\n",
       "\n",
       "<span style=\"color: #000080; text-decoration-color: #000080\">### Friday: Full Body</span>\n",
       "<span style=\"color: #000080; text-decoration-color: #000080\">- Burpees </span><span style=\"color: #000080; text-decoration-color: #000080; font-weight: bold\">(</span><span style=\"color: #000080; text-decoration-color: #000080\">modify if needed</span><span style=\"color: #000080; text-decoration-color: #000080; font-weight: bold\">)</span><span style=\"color: #000080; text-decoration-color: #000080\"> - </span><span style=\"color: #000080; text-decoration-color: #000080; font-weight: bold\">3</span><span style=\"color: #000080; text-decoration-color: #000080\"> sets of </span><span style=\"color: #000080; text-decoration-color: #000080; font-weight: bold\">5</span><span style=\"color: #000080; text-decoration-color: #000080\">-</span><span style=\"color: #000080; text-decoration-color: #000080; font-weight: bold\">8</span><span style=\"color: #000080; text-decoration-color: #000080\"> reps</span>\n",
       "<span style=\"color: #000080; text-decoration-color: #000080\">- Mountain Climbers - </span><span style=\"color: #000080; text-decoration-color: #000080; font-weight: bold\">3</span><span style=\"color: #000080; text-decoration-color: #000080\"> sets of </span><span style=\"color: #000080; text-decoration-color: #000080; font-weight: bold\">30</span><span style=\"color: #000080; text-decoration-color: #000080\"> seconds</span>\n",
       "<span style=\"color: #000080; text-decoration-color: #000080\">- Plank with Shoulder Taps - </span><span style=\"color: #000080; text-decoration-color: #000080; font-weight: bold\">3</span><span style=\"color: #000080; text-decoration-color: #000080\"> sets of </span><span style=\"color: #000080; text-decoration-color: #000080; font-weight: bold\">10</span><span style=\"color: #000080; text-decoration-color: #000080\">-</span><span style=\"color: #000080; text-decoration-color: #000080; font-weight: bold\">12</span><span style=\"color: #000080; text-decoration-color: #000080\"> reps per side</span>\n",
       "<span style=\"color: #000080; text-decoration-color: #000080\">- Jump Squats - </span><span style=\"color: #000080; text-decoration-color: #000080; font-weight: bold\">3</span><span style=\"color: #000080; text-decoration-color: #000080\"> sets of </span><span style=\"color: #000080; text-decoration-color: #000080; font-weight: bold\">10</span><span style=\"color: #000080; text-decoration-color: #000080\">-</span><span style=\"color: #000080; text-decoration-color: #000080; font-weight: bold\">12</span><span style=\"color: #000080; text-decoration-color: #000080\"> reps</span>\n",
       "\n",
       "<span style=\"color: #000080; text-decoration-color: #000080\">### Saturday: Core &amp; Flexibility</span>\n",
       "<span style=\"color: #000080; text-decoration-color: #000080\">- Side Plank - </span><span style=\"color: #000080; text-decoration-color: #000080; font-weight: bold\">3</span><span style=\"color: #000080; text-decoration-color: #000080\"> sets of </span><span style=\"color: #000080; text-decoration-color: #000080; font-weight: bold\">30</span><span style=\"color: #000080; text-decoration-color: #000080\"> seconds per side</span>\n",
       "<span style=\"color: #000080; text-decoration-color: #000080\">- Bicycle Crunches - </span><span style=\"color: #000080; text-decoration-color: #000080; font-weight: bold\">3</span><span style=\"color: #000080; text-decoration-color: #000080\"> sets of </span><span style=\"color: #000080; text-decoration-color: #000080; font-weight: bold\">15</span><span style=\"color: #000080; text-decoration-color: #000080\">-</span><span style=\"color: #000080; text-decoration-color: #000080; font-weight: bold\">20</span><span style=\"color: #000080; text-decoration-color: #000080\"> reps</span>\n",
       "<span style=\"color: #000080; text-decoration-color: #000080\">- Plank - </span><span style=\"color: #000080; text-decoration-color: #000080; font-weight: bold\">3</span><span style=\"color: #000080; text-decoration-color: #000080\"> sets of </span><span style=\"color: #000080; text-decoration-color: #000080; font-weight: bold\">30</span><span style=\"color: #000080; text-decoration-color: #000080\">-</span><span style=\"color: #000080; text-decoration-color: #000080; font-weight: bold\">45</span><span style=\"color: #000080; text-decoration-color: #000080\"> seconds</span>\n",
       "<span style=\"color: #000080; text-decoration-color: #000080\">- Yoga or stretching session - </span><span style=\"color: #000080; text-decoration-color: #000080; font-weight: bold\">20</span><span style=\"color: #000080; text-decoration-color: #000080\">-</span><span style=\"color: #000080; text-decoration-color: #000080; font-weight: bold\">30</span><span style=\"color: #000080; text-decoration-color: #000080\"> minutes</span>\n",
       "\n",
       "<span style=\"color: #000080; text-decoration-color: #000080\">### Sunday: Rest Day</span>\n",
       "<span style=\"color: #000080; text-decoration-color: #000080\">- Rest and recovery; hydrate and focus on nutrition</span>\n",
       "</pre>\n"
      ],
      "text/plain": [
       "\u001b[34m🤖 # Workout Schedule for BastiMax\u001b[0m\n",
       "\n",
       "\u001b[34m## Weight-Assistance-Based Plan\u001b[0m\n",
       "\n",
       "\u001b[34m### Monday: Chest & Triceps\u001b[0m\n",
       "\u001b[34m- Bench Press - \u001b[0m\u001b[1;34m4\u001b[0m\u001b[34m sets of \u001b[0m\u001b[1;34m8\u001b[0m\u001b[34m-\u001b[0m\u001b[1;34m12\u001b[0m\u001b[34m reps\u001b[0m\n",
       "\u001b[34m- Dumbbell Flyes - \u001b[0m\u001b[1;34m3\u001b[0m\u001b[34m sets of \u001b[0m\u001b[1;34m10\u001b[0m\u001b[34m-\u001b[0m\u001b[1;34m12\u001b[0m\u001b[34m reps\u001b[0m\n",
       "\u001b[34m- Tricep Dips - \u001b[0m\u001b[1;34m3\u001b[0m\u001b[34m sets of \u001b[0m\u001b[1;34m10\u001b[0m\u001b[34m-\u001b[0m\u001b[1;34m15\u001b[0m\u001b[34m reps\u001b[0m\n",
       "\u001b[34m- Push-Ups \u001b[0m\u001b[1;34m(\u001b[0m\u001b[34mweighted if possible\u001b[0m\u001b[1;34m)\u001b[0m\u001b[34m - \u001b[0m\u001b[1;34m3\u001b[0m\u001b[34m sets of \u001b[0m\u001b[1;34m8\u001b[0m\u001b[34m-\u001b[0m\u001b[1;34m12\u001b[0m\u001b[34m reps\u001b[0m\n",
       "\n",
       "\u001b[34m### Tuesday: Legs\u001b[0m\n",
       "\u001b[34m- Goblet Squats - \u001b[0m\u001b[1;34m4\u001b[0m\u001b[34m sets of \u001b[0m\u001b[1;34m8\u001b[0m\u001b[34m-\u001b[0m\u001b[1;34m12\u001b[0m\u001b[34m reps\u001b[0m\n",
       "\u001b[34m- Lunges \u001b[0m\u001b[1;34m(\u001b[0m\u001b[34mweighted\u001b[0m\u001b[1;34m)\u001b[0m\u001b[34m - \u001b[0m\u001b[1;34m3\u001b[0m\u001b[34m sets of \u001b[0m\u001b[1;34m10\u001b[0m\u001b[34m-\u001b[0m\u001b[1;34m12\u001b[0m\u001b[34m reps per leg\u001b[0m\n",
       "\u001b[34m- Deadlifts - \u001b[0m\u001b[1;34m4\u001b[0m\u001b[34m sets of \u001b[0m\u001b[1;34m8\u001b[0m\u001b[34m-\u001b[0m\u001b[1;34m12\u001b[0m\u001b[34m reps\u001b[0m\n",
       "\u001b[34m- Calf Raises - \u001b[0m\u001b[1;34m3\u001b[0m\u001b[34m sets of \u001b[0m\u001b[1;34m12\u001b[0m\u001b[34m-\u001b[0m\u001b[1;34m15\u001b[0m\u001b[34m reps\u001b[0m\n",
       "\n",
       "\u001b[34m### Wednesday: Back & Biceps\u001b[0m\n",
       "\u001b[34m- Bent-Over Rows - \u001b[0m\u001b[1;34m4\u001b[0m\u001b[34m sets of \u001b[0m\u001b[1;34m8\u001b[0m\u001b[34m-\u001b[0m\u001b[1;34m12\u001b[0m\u001b[34m reps\u001b[0m\n",
       "\u001b[34m- Pull-Ups \u001b[0m\u001b[1;34m(\u001b[0m\u001b[34massisted if necessary\u001b[0m\u001b[1;34m)\u001b[0m\u001b[34m - \u001b[0m\u001b[1;34m3\u001b[0m\u001b[34m sets of \u001b[0m\u001b[1;34m5\u001b[0m\u001b[34m-\u001b[0m\u001b[1;34m8\u001b[0m\u001b[34m reps\u001b[0m\n",
       "\u001b[34m- Bicep Curls - \u001b[0m\u001b[1;34m3\u001b[0m\u001b[34m sets of \u001b[0m\u001b[1;34m10\u001b[0m\u001b[34m-\u001b[0m\u001b[1;34m12\u001b[0m\u001b[34m reps\u001b[0m\n",
       "\u001b[34m- Face Pulls \u001b[0m\u001b[1;34m(\u001b[0m\u001b[34mif equipment available\u001b[0m\u001b[1;34m)\u001b[0m\u001b[34m - \u001b[0m\u001b[1;34m3\u001b[0m\u001b[34m sets of \u001b[0m\u001b[1;34m12\u001b[0m\u001b[34m-\u001b[0m\u001b[1;34m15\u001b[0m\u001b[34m reps\u001b[0m\n",
       "\n",
       "\u001b[34m### Thursday: Active Recovery\u001b[0m\n",
       "\u001b[34m- Light walking or stretching - \u001b[0m\u001b[1;34m20\u001b[0m\u001b[34m-\u001b[0m\u001b[1;34m30\u001b[0m\u001b[34m minutes\u001b[0m\n",
       "\u001b[34m- Focus on flexibility exercises \u001b[0m\u001b[1;34m(\u001b[0m\u001b[34me.g., seated toe touch, shoulder stretches\u001b[0m\u001b[1;34m)\u001b[0m\n",
       "\n",
       "\u001b[34m### Friday: Full Body\u001b[0m\n",
       "\u001b[34m- Kettlebell Swings - \u001b[0m\u001b[1;34m3\u001b[0m\u001b[34m sets of \u001b[0m\u001b[1;34m10\u001b[0m\u001b[34m-\u001b[0m\u001b[1;34m15\u001b[0m\u001b[34m reps\u001b[0m\n",
       "\u001b[34m- Push Press - \u001b[0m\u001b[1;34m3\u001b[0m\u001b[34m sets of \u001b[0m\u001b[1;34m8\u001b[0m\u001b[34m-\u001b[0m\u001b[1;34m12\u001b[0m\u001b[34m reps\u001b[0m\n",
       "\u001b[34m- Plank with Dumbbell Row - \u001b[0m\u001b[1;34m3\u001b[0m\u001b[34m sets of \u001b[0m\u001b[1;34m8\u001b[0m\u001b[34m-\u001b[0m\u001b[1;34m10\u001b[0m\u001b[34m reps per arm\u001b[0m\n",
       "\u001b[34m- Burpees \u001b[0m\u001b[1;34m(\u001b[0m\u001b[34mmodify if needed\u001b[0m\u001b[1;34m)\u001b[0m\u001b[34m - \u001b[0m\u001b[1;34m3\u001b[0m\u001b[34m sets of \u001b[0m\u001b[1;34m5\u001b[0m\u001b[34m-\u001b[0m\u001b[1;34m8\u001b[0m\u001b[34m reps\u001b[0m\n",
       "\n",
       "\u001b[34m### Saturday: Core & Flexibility\u001b[0m\n",
       "\u001b[34m- Plank - \u001b[0m\u001b[1;34m3\u001b[0m\u001b[34m sets of \u001b[0m\u001b[1;34m30\u001b[0m\u001b[34m-\u001b[0m\u001b[1;34m45\u001b[0m\u001b[34m seconds\u001b[0m\n",
       "\u001b[34m- Russian Twists \u001b[0m\u001b[1;34m(\u001b[0m\u001b[34mwith weight\u001b[0m\u001b[1;34m)\u001b[0m\u001b[34m - \u001b[0m\u001b[1;34m3\u001b[0m\u001b[34m sets of \u001b[0m\u001b[1;34m10\u001b[0m\u001b[34m-\u001b[0m\u001b[1;34m12\u001b[0m\u001b[34m reps per side\u001b[0m\n",
       "\u001b[34m- Leg Raises - \u001b[0m\u001b[1;34m3\u001b[0m\u001b[34m sets of \u001b[0m\u001b[1;34m10\u001b[0m\u001b[34m-\u001b[0m\u001b[1;34m15\u001b[0m\u001b[34m reps\u001b[0m\n",
       "\u001b[34m- Yoga or stretching session - \u001b[0m\u001b[1;34m20\u001b[0m\u001b[34m-\u001b[0m\u001b[1;34m30\u001b[0m\u001b[34m minutes\u001b[0m\n",
       "\n",
       "\u001b[34m### Sunday: Rest Day\u001b[0m\n",
       "\u001b[34m- Rest and recovery; hydrate and focus on nutrition\u001b[0m\n",
       "\n",
       "\u001b[34m---\u001b[0m\n",
       "\n",
       "\u001b[34m## Body-Weight-Based Plan\u001b[0m\n",
       "\n",
       "\u001b[34m### Monday: Chest & Triceps\u001b[0m\n",
       "\u001b[34m- Standard Push-Ups - \u001b[0m\u001b[1;34m4\u001b[0m\u001b[34m sets of \u001b[0m\u001b[1;34m8\u001b[0m\u001b[34m-\u001b[0m\u001b[1;34m12\u001b[0m\u001b[34m reps\u001b[0m\n",
       "\u001b[34m- Decline Push-Ups \u001b[0m\u001b[1;34m(\u001b[0m\u001b[34mfeet elevated\u001b[0m\u001b[1;34m)\u001b[0m\u001b[34m - \u001b[0m\u001b[1;34m3\u001b[0m\u001b[34m sets of \u001b[0m\u001b[1;34m8\u001b[0m\u001b[34m-\u001b[0m\u001b[1;34m10\u001b[0m\u001b[34m reps\u001b[0m\n",
       "\u001b[34m- Tricep Dips \u001b[0m\u001b[1;34m(\u001b[0m\u001b[34musing a chair\u001b[0m\u001b[1;34m)\u001b[0m\u001b[34m - \u001b[0m\u001b[1;34m3\u001b[0m\u001b[34m sets of \u001b[0m\u001b[1;34m10\u001b[0m\u001b[34m-\u001b[0m\u001b[1;34m15\u001b[0m\u001b[34m reps\u001b[0m\n",
       "\u001b[34m- Diamond Push-Ups - \u001b[0m\u001b[1;34m3\u001b[0m\u001b[34m sets of \u001b[0m\u001b[1;34m5\u001b[0m\u001b[34m-\u001b[0m\u001b[1;34m8\u001b[0m\u001b[34m reps\u001b[0m\n",
       "\n",
       "\u001b[34m### Tuesday: Legs\u001b[0m\n",
       "\u001b[34m- Bodyweight Squats - \u001b[0m\u001b[1;34m4\u001b[0m\u001b[34m sets of \u001b[0m\u001b[1;34m12\u001b[0m\u001b[34m-\u001b[0m\u001b[1;34m15\u001b[0m\u001b[34m reps\u001b[0m\n",
       "\u001b[34m- Step-Ups \u001b[0m\u001b[1;34m(\u001b[0m\u001b[34mon a sturdy chair or step\u001b[0m\u001b[1;34m)\u001b[0m\u001b[34m - \u001b[0m\u001b[1;34m3\u001b[0m\u001b[34m sets of \u001b[0m\u001b[1;34m10\u001b[0m\u001b[34m-\u001b[0m\u001b[1;34m12\u001b[0m\u001b[34m reps per leg\u001b[0m\n",
       "\u001b[34m- Glute Bridges - \u001b[0m\u001b[1;34m3\u001b[0m\u001b[34m sets of \u001b[0m\u001b[1;34m12\u001b[0m\u001b[34m-\u001b[0m\u001b[1;34m15\u001b[0m\u001b[34m reps\u001b[0m\n",
       "\u001b[34m- Calf Raises - \u001b[0m\u001b[1;34m3\u001b[0m\u001b[34m sets of \u001b[0m\u001b[1;34m15\u001b[0m\u001b[34m-\u001b[0m\u001b[1;34m20\u001b[0m\u001b[34m reps\u001b[0m\n",
       "\n",
       "\u001b[34m### Wednesday: Back & Biceps\u001b[0m\n",
       "\u001b[34m- Inverted Rows \u001b[0m\u001b[1;34m(\u001b[0m\u001b[34munder a sturdy table\u001b[0m\u001b[1;34m)\u001b[0m\u001b[34m - \u001b[0m\u001b[1;34m4\u001b[0m\u001b[34m sets of \u001b[0m\u001b[1;34m8\u001b[0m\u001b[34m-\u001b[0m\u001b[1;34m12\u001b[0m\u001b[34m reps\u001b[0m\n",
       "\u001b[34m- Close-Grip Push-Ups - \u001b[0m\u001b[1;34m3\u001b[0m\u001b[34m sets of \u001b[0m\u001b[1;34m8\u001b[0m\u001b[34m-\u001b[0m\u001b[1;34m10\u001b[0m\u001b[34m reps\u001b[0m\n",
       "\u001b[34m- Plank to Push-Up Position - \u001b[0m\u001b[1;34m3\u001b[0m\u001b[34m sets of \u001b[0m\u001b[1;34m5\u001b[0m\u001b[34m-\u001b[0m\u001b[1;34m8\u001b[0m\u001b[34m reps\u001b[0m\n",
       "\u001b[34m- Supermans - \u001b[0m\u001b[1;34m3\u001b[0m\u001b[34m sets of \u001b[0m\u001b[1;34m10\u001b[0m\u001b[34m-\u001b[0m\u001b[1;34m15\u001b[0m\u001b[34m reps\u001b[0m\n",
       "\n",
       "\u001b[34m### Thursday: Active Recovery\u001b[0m\n",
       "\u001b[34m- Light walking or stretching - \u001b[0m\u001b[1;34m20\u001b[0m\u001b[34m-\u001b[0m\u001b[1;34m30\u001b[0m\u001b[34m minutes\u001b[0m\n",
       "\u001b[34m- Focus on flexibility exercises \u001b[0m\u001b[1;34m(\u001b[0m\u001b[34me.g., seated toe touch, shoulder stretches\u001b[0m\u001b[1;34m)\u001b[0m\n",
       "\n",
       "\u001b[34m### Friday: Full Body\u001b[0m\n",
       "\u001b[34m- Burpees \u001b[0m\u001b[1;34m(\u001b[0m\u001b[34mmodify if needed\u001b[0m\u001b[1;34m)\u001b[0m\u001b[34m - \u001b[0m\u001b[1;34m3\u001b[0m\u001b[34m sets of \u001b[0m\u001b[1;34m5\u001b[0m\u001b[34m-\u001b[0m\u001b[1;34m8\u001b[0m\u001b[34m reps\u001b[0m\n",
       "\u001b[34m- Mountain Climbers - \u001b[0m\u001b[1;34m3\u001b[0m\u001b[34m sets of \u001b[0m\u001b[1;34m30\u001b[0m\u001b[34m seconds\u001b[0m\n",
       "\u001b[34m- Plank with Shoulder Taps - \u001b[0m\u001b[1;34m3\u001b[0m\u001b[34m sets of \u001b[0m\u001b[1;34m10\u001b[0m\u001b[34m-\u001b[0m\u001b[1;34m12\u001b[0m\u001b[34m reps per side\u001b[0m\n",
       "\u001b[34m- Jump Squats - \u001b[0m\u001b[1;34m3\u001b[0m\u001b[34m sets of \u001b[0m\u001b[1;34m10\u001b[0m\u001b[34m-\u001b[0m\u001b[1;34m12\u001b[0m\u001b[34m reps\u001b[0m\n",
       "\n",
       "\u001b[34m### Saturday: Core & Flexibility\u001b[0m\n",
       "\u001b[34m- Side Plank - \u001b[0m\u001b[1;34m3\u001b[0m\u001b[34m sets of \u001b[0m\u001b[1;34m30\u001b[0m\u001b[34m seconds per side\u001b[0m\n",
       "\u001b[34m- Bicycle Crunches - \u001b[0m\u001b[1;34m3\u001b[0m\u001b[34m sets of \u001b[0m\u001b[1;34m15\u001b[0m\u001b[34m-\u001b[0m\u001b[1;34m20\u001b[0m\u001b[34m reps\u001b[0m\n",
       "\u001b[34m- Plank - \u001b[0m\u001b[1;34m3\u001b[0m\u001b[34m sets of \u001b[0m\u001b[1;34m30\u001b[0m\u001b[34m-\u001b[0m\u001b[1;34m45\u001b[0m\u001b[34m seconds\u001b[0m\n",
       "\u001b[34m- Yoga or stretching session - \u001b[0m\u001b[1;34m20\u001b[0m\u001b[34m-\u001b[0m\u001b[1;34m30\u001b[0m\u001b[34m minutes\u001b[0m\n",
       "\n",
       "\u001b[34m### Sunday: Rest Day\u001b[0m\n",
       "\u001b[34m- Rest and recovery; hydrate and focus on nutrition\u001b[0m\n"
      ]
     },
     "metadata": {},
     "output_type": "display_data"
    }
   ],
   "source": [
    "workout_schedule = await design_workout(user_info, health_recommendations, meal_plan)"
   ]
  },
  {
   "cell_type": "code",
   "execution_count": 20,
   "id": "2b2991aa-1b14-4f01-87c7-843a5831fac4",
   "metadata": {
    "scrolled": true
   },
   "outputs": [
    {
     "data": {
      "text/markdown": [
       "# Workout Schedule for BastiMax\n",
       "\n",
       "## Weight-Assistance-Based Plan\n",
       "\n",
       "### Monday: Chest & Triceps\n",
       "- Bench Press - 4 sets of 8-12 reps\n",
       "- Dumbbell Flyes - 3 sets of 10-12 reps\n",
       "- Tricep Dips - 3 sets of 10-15 reps\n",
       "- Push-Ups (weighted if possible) - 3 sets of 8-12 reps\n",
       "\n",
       "### Tuesday: Legs\n",
       "- Goblet Squats - 4 sets of 8-12 reps\n",
       "- Lunges (weighted) - 3 sets of 10-12 reps per leg\n",
       "- Deadlifts - 4 sets of 8-12 reps\n",
       "- Calf Raises - 3 sets of 12-15 reps\n",
       "\n",
       "### Wednesday: Back & Biceps\n",
       "- Bent-Over Rows - 4 sets of 8-12 reps\n",
       "- Pull-Ups (assisted if necessary) - 3 sets of 5-8 reps\n",
       "- Bicep Curls - 3 sets of 10-12 reps\n",
       "- Face Pulls (if equipment available) - 3 sets of 12-15 reps\n",
       "\n",
       "### Thursday: Active Recovery\n",
       "- Light walking or stretching - 20-30 minutes\n",
       "- Focus on flexibility exercises (e.g., seated toe touch, shoulder stretches)\n",
       "\n",
       "### Friday: Full Body\n",
       "- Kettlebell Swings - 3 sets of 10-15 reps\n",
       "- Push Press - 3 sets of 8-12 reps\n",
       "- Plank with Dumbbell Row - 3 sets of 8-10 reps per arm\n",
       "- Burpees (modify if needed) - 3 sets of 5-8 reps\n",
       "\n",
       "### Saturday: Core & Flexibility\n",
       "- Plank - 3 sets of 30-45 seconds\n",
       "- Russian Twists (with weight) - 3 sets of 10-12 reps per side\n",
       "- Leg Raises - 3 sets of 10-15 reps\n",
       "- Yoga or stretching session - 20-30 minutes\n",
       "\n",
       "### Sunday: Rest Day\n",
       "- Rest and recovery; hydrate and focus on nutrition\n",
       "\n",
       "---\n",
       "\n",
       "## Body-Weight-Based Plan\n",
       "\n",
       "### Monday: Chest & Triceps\n",
       "- Standard Push-Ups - 4 sets of 8-12 reps\n",
       "- Decline Push-Ups (feet elevated) - 3 sets of 8-10 reps\n",
       "- Tricep Dips (using a chair) - 3 sets of 10-15 reps\n",
       "- Diamond Push-Ups - 3 sets of 5-8 reps\n",
       "\n",
       "### Tuesday: Legs\n",
       "- Bodyweight Squats - 4 sets of 12-15 reps\n",
       "- Step-Ups (on a sturdy chair or step) - 3 sets of 10-12 reps per leg\n",
       "- Glute Bridges - 3 sets of 12-15 reps\n",
       "- Calf Raises - 3 sets of 15-20 reps\n",
       "\n",
       "### Wednesday: Back & Biceps\n",
       "- Inverted Rows (under a sturdy table) - 4 sets of 8-12 reps\n",
       "- Close-Grip Push-Ups - 3 sets of 8-10 reps\n",
       "- Plank to Push-Up Position - 3 sets of 5-8 reps\n",
       "- Supermans - 3 sets of 10-15 reps\n",
       "\n",
       "### Thursday: Active Recovery\n",
       "- Light walking or stretching - 20-30 minutes\n",
       "- Focus on flexibility exercises (e.g., seated toe touch, shoulder stretches)\n",
       "\n",
       "### Friday: Full Body\n",
       "- Burpees (modify if needed) - 3 sets of 5-8 reps\n",
       "- Mountain Climbers - 3 sets of 30 seconds\n",
       "- Plank with Shoulder Taps - 3 sets of 10-12 reps per side\n",
       "- Jump Squats - 3 sets of 10-12 reps\n",
       "\n",
       "### Saturday: Core & Flexibility\n",
       "- Side Plank - 3 sets of 30 seconds per side\n",
       "- Bicycle Crunches - 3 sets of 15-20 reps\n",
       "- Plank - 3 sets of 30-45 seconds\n",
       "- Yoga or stretching session - 20-30 minutes\n",
       "\n",
       "### Sunday: Rest Day\n",
       "- Rest and recovery; hydrate and focus on nutrition"
      ],
      "text/plain": [
       "<IPython.core.display.Markdown object>"
      ]
     },
     "execution_count": 20,
     "metadata": {},
     "output_type": "execute_result"
    }
   ],
   "source": [
    "Markdown(workout_schedule)"
   ]
  },
  {
   "cell_type": "markdown",
   "id": "4bacecf1-da0a-4427-be30-646316fbe2bb",
   "metadata": {
    "jp-MarkdownHeadingCollapsed": true
   },
   "source": [
    "### Personalized Wellness Report "
   ]
  },
  {
   "cell_type": "code",
   "execution_count": 21,
   "id": "125fc6ee-880d-40af-a354-5d0eb028b40a",
   "metadata": {},
   "outputs": [],
   "source": [
    "reporter = AssistantAgent(\n",
    "    name=\"reporter\",\n",
    "    system_message=\"\"\"\n",
    "    You are the final agent in a team working on Smart Health Assistance.\n",
    "\n",
    "    Your task is to compile all the information received from previous agents into a well-structured and user-friendly Markdown report. \n",
    "    This report is intended for the end user and should clearly present their health profile, BMI analysis, personalized health recommendations, meal plan, and workout schedule.\n",
    "    \n",
    "    The tone should be encouraging, clear, and professional. Focus on clarity, formatting, and a personalized feel.\n",
    "    \n",
    "    Here is the expected structure of the report you must generate (You can refactor to fit the users profile/needs/interest):\n",
    "    \n",
    "    # 🧾 Your Personalized Wellness Report\n",
    "    \n",
    "    ## 👤 Profile Summary\n",
    "    Summarize the user's key data: age, gender, weight, height, dietary preference, and any additional information (like goals or health conditions).\n",
    "    \n",
    "    ## 📊 BMI Analysis\n",
    "    Include BMI score and category (e.g., Normal, Overweight) and explain what it means.\n",
    "    \n",
    "    ## 🩺 Health Recommendations\n",
    "    Summarize actionable lifestyle or health advice from the analysis.\n",
    "    \n",
    "    ## 🍽️ Meal Plan\n",
    "    Present a sample meal plan in a clean format (e.g., breakfast, lunch, dinner, snacks).\n",
    "    \n",
    "    ## 🏋️ Workout Schedule\n",
    "    Include a weekly workout plan with intensity, type of exercise, and notes if needed.\n",
    "    \n",
    "    ---\n",
    "    \n",
    "    Ensure the formatting uses markdown headers, bullet points, and other features to improve readability.\n",
    "    \n",
    "    Return only the complete report in Markdown format.\n",
    "    Do not include anything outside of the report or comment on the task.\n",
    "    \"\"\",\n",
    "    model_client=openai_client,\n",
    "    )"
   ]
  },
  {
   "cell_type": "code",
   "execution_count": 22,
   "id": "2e4ff79f-9923-4dc7-963d-9ea03810596b",
   "metadata": {},
   "outputs": [],
   "source": [
    "async def create_wellness_plan_overview(data_collected, health_recommendations, meal_plan, workout_schedule) -> dict:\n",
    "    profile_str = json.dumps(data_collected, indent=2)\n",
    "    health_recomm_str = json.dumps(health_recommendations, indent=2)\n",
    "    response = await reporter.on_messages([\n",
    "        TextMessage(content=profile_str, source=\"user\"),\n",
    "        TextMessage(content=health_recomm_str, source=\"user\"),\n",
    "        TextMessage(content=meal_plan, source=\"user\"),\n",
    "        TextMessage(content=workout_schedule, source=\"user\"),\n",
    "    ], CancellationToken())\n",
    "    response_text = response.chat_message.to_text()\n",
    "    print(f\"[blue]🤖 {response_text}[/blue]\")\n",
    "    return response_text"
   ]
  },
  {
   "cell_type": "code",
   "execution_count": 23,
   "id": "48f748c5-4d35-4516-91db-4f9aeccdd302",
   "metadata": {
    "scrolled": true
   },
   "outputs": [
    {
     "data": {
      "text/html": [
       "<pre style=\"white-space:pre;overflow-x:auto;line-height:normal;font-family:Menlo,'DejaVu Sans Mono',consolas,'Courier New',monospace\"><span style=\"color: #000080; text-decoration-color: #000080\">🤖 # 🧾 Your Personalized Wellness Report</span>\n",
       "\n",
       "<span style=\"color: #000080; text-decoration-color: #000080\">## 👤 Profile Summary</span>\n",
       "<span style=\"color: #000080; text-decoration-color: #000080\">- **Name:** BastiMax</span>\n",
       "<span style=\"color: #000080; text-decoration-color: #000080\">- **Age:** </span><span style=\"color: #000080; text-decoration-color: #000080; font-weight: bold\">33</span>\n",
       "<span style=\"color: #000080; text-decoration-color: #000080\">- **Gender:** Male</span>\n",
       "<span style=\"color: #000080; text-decoration-color: #000080\">- **Weight:** </span><span style=\"color: #000080; text-decoration-color: #000080; font-weight: bold\">73</span><span style=\"color: #000080; text-decoration-color: #000080\"> kg</span>\n",
       "<span style=\"color: #000080; text-decoration-color: #000080\">- **Height:** </span><span style=\"color: #000080; text-decoration-color: #000080; font-weight: bold\">179</span><span style=\"color: #000080; text-decoration-color: #000080\"> cm</span>\n",
       "<span style=\"color: #000080; text-decoration-color: #000080\">- **Dietary Preference:** </span><span style=\"color: #000080; text-decoration-color: #000080; font-style: italic\">None</span>\n",
       "<span style=\"color: #000080; text-decoration-color: #000080\">- **Goals:** Build muscle</span>\n",
       "<span style=\"color: #000080; text-decoration-color: #000080\">- **Fitness Level:** Good</span>\n",
       "<span style=\"color: #000080; text-decoration-color: #000080\">- **Workout Environment:** Home</span>\n",
       "<span style=\"color: #000080; text-decoration-color: #000080\">- **Equipment Available:** Weights</span>\n",
       "\n",
       "<span style=\"color: #000080; text-decoration-color: #000080\">## 📊 BMI Analysis</span>\n",
       "<span style=\"color: #000080; text-decoration-color: #000080\">- **BMI Score:** </span><span style=\"color: #000080; text-decoration-color: #000080; font-weight: bold\">22.78</span>\n",
       "<span style=\"color: #000080; text-decoration-color: #000080\">- **Category:** Normal Weight</span>\n",
       "\n",
       "<span style=\"color: #000080; text-decoration-color: #000080\">Your BMI of </span><span style=\"color: #000080; text-decoration-color: #000080; font-weight: bold\">22.78</span><span style=\"color: #000080; text-decoration-color: #000080\"> falls within the normal weight category, which is excellent for your age and height. This </span>\n",
       "<span style=\"color: #000080; text-decoration-color: #000080\">indicates that you're at a healthy weight, allowing you to effectively pursue your muscle-building goals.</span>\n",
       "\n",
       "<span style=\"color: #000080; text-decoration-color: #000080\">## 🩺 Health Recommendations</span>\n",
       "<span style=\"color: #000080; text-decoration-color: #000080\">BastiMax, to support your muscle-building efforts and maintain your overall health, consider the following </span>\n",
       "<span style=\"color: #000080; text-decoration-color: #000080\">recommendations:</span>\n",
       "<span style=\"color: #000080; text-decoration-color: #000080\">- **Structured Workout Plan:** Focus on resistance training using the weights you have at home. Target major muscle</span>\n",
       "<span style=\"color: #000080; text-decoration-color: #000080\">groups with compound exercises.</span>\n",
       "<span style=\"color: #000080; text-decoration-color: #000080\">- **Dietary Focus:** Include a high-protein diet to support muscle repair and growth. Sources can include chicken, </span>\n",
       "<span style=\"color: #000080; text-decoration-color: #000080\">fish, eggs, legumes, and dairy.</span>\n",
       "<span style=\"color: #000080; text-decoration-color: #000080\">- **Hydration:** Stay adequately hydrated throughout the day.</span>\n",
       "<span style=\"color: #000080; text-decoration-color: #000080\">- **Rest Days:** Incorporate rest days into your routine to allow for muscle recovery.</span>\n",
       "<span style=\"color: #000080; text-decoration-color: #000080\">- **Balanced Nutrition:** Since you have no dietary restrictions, maintain a balance of carbohydrates and healthy </span>\n",
       "<span style=\"color: #000080; text-decoration-color: #000080\">fats to fuel your workouts.</span>\n",
       "\n",
       "<span style=\"color: #000080; text-decoration-color: #000080\">## 🍽️ Meal Plan</span>\n",
       "<span style=\"color: #000080; text-decoration-color: #000080\">Here’s a sample meal plan tailored to support muscle building:</span>\n",
       "\n",
       "<span style=\"color: #000080; text-decoration-color: #000080\">### Breakfast</span>\n",
       "<span style=\"color: #000080; text-decoration-color: #000080\">- Scrambled eggs with spinach and feta cheese</span>\n",
       "<span style=\"color: #000080; text-decoration-color: #000080\">- Whole-grain toast with avocado</span>\n",
       "\n",
       "<span style=\"color: #000080; text-decoration-color: #000080\">### Lunch</span>\n",
       "<span style=\"color: #000080; text-decoration-color: #000080\">- Grilled chicken breast with quinoa and steamed broccoli</span>\n",
       "<span style=\"color: #000080; text-decoration-color: #000080\">- Chickpea salad with cherry tomatoes, cucumber, and olive oil dressing</span>\n",
       "\n",
       "<span style=\"color: #000080; text-decoration-color: #000080\">### Snack</span>\n",
       "<span style=\"color: #000080; text-decoration-color: #000080\">- Greek yogurt with honey and mixed berries</span>\n",
       "<span style=\"color: #000080; text-decoration-color: #000080\">- Protein smoothie with banana, spinach, and almond milk</span>\n",
       "\n",
       "<span style=\"color: #000080; text-decoration-color: #000080\">### Dinner</span>\n",
       "<span style=\"color: #000080; text-decoration-color: #000080\">- Baked salmon with sweet potato and asparagus</span>\n",
       "<span style=\"color: #000080; text-decoration-color: #000080\">- Stir-fried tofu with mixed vegetables and brown rice</span>\n",
       "\n",
       "<span style=\"color: #000080; text-decoration-color: #000080\">## 🏋️ Workout Schedule</span>\n",
       "\n",
       "<span style=\"color: #000080; text-decoration-color: #000080\">### Weight-Assistance-Based Plan</span>\n",
       "\n",
       "<span style=\"color: #000080; text-decoration-color: #000080\">#### Monday: Chest &amp; Triceps</span>\n",
       "<span style=\"color: #000080; text-decoration-color: #000080\">- Bench Press - </span><span style=\"color: #000080; text-decoration-color: #000080; font-weight: bold\">4</span><span style=\"color: #000080; text-decoration-color: #000080\"> sets of </span><span style=\"color: #000080; text-decoration-color: #000080; font-weight: bold\">8</span><span style=\"color: #000080; text-decoration-color: #000080\">-</span><span style=\"color: #000080; text-decoration-color: #000080; font-weight: bold\">12</span><span style=\"color: #000080; text-decoration-color: #000080\"> reps</span>\n",
       "<span style=\"color: #000080; text-decoration-color: #000080\">- Dumbbell Flyes - </span><span style=\"color: #000080; text-decoration-color: #000080; font-weight: bold\">3</span><span style=\"color: #000080; text-decoration-color: #000080\"> sets of </span><span style=\"color: #000080; text-decoration-color: #000080; font-weight: bold\">10</span><span style=\"color: #000080; text-decoration-color: #000080\">-</span><span style=\"color: #000080; text-decoration-color: #000080; font-weight: bold\">12</span><span style=\"color: #000080; text-decoration-color: #000080\"> reps</span>\n",
       "<span style=\"color: #000080; text-decoration-color: #000080\">- Tricep Dips - </span><span style=\"color: #000080; text-decoration-color: #000080; font-weight: bold\">3</span><span style=\"color: #000080; text-decoration-color: #000080\"> sets of </span><span style=\"color: #000080; text-decoration-color: #000080; font-weight: bold\">10</span><span style=\"color: #000080; text-decoration-color: #000080\">-</span><span style=\"color: #000080; text-decoration-color: #000080; font-weight: bold\">15</span><span style=\"color: #000080; text-decoration-color: #000080\"> reps</span>\n",
       "<span style=\"color: #000080; text-decoration-color: #000080\">- Push-Ups </span><span style=\"color: #000080; text-decoration-color: #000080; font-weight: bold\">(</span><span style=\"color: #000080; text-decoration-color: #000080\">weighted if possible</span><span style=\"color: #000080; text-decoration-color: #000080; font-weight: bold\">)</span><span style=\"color: #000080; text-decoration-color: #000080\"> - </span><span style=\"color: #000080; text-decoration-color: #000080; font-weight: bold\">3</span><span style=\"color: #000080; text-decoration-color: #000080\"> sets of </span><span style=\"color: #000080; text-decoration-color: #000080; font-weight: bold\">8</span><span style=\"color: #000080; text-decoration-color: #000080\">-</span><span style=\"color: #000080; text-decoration-color: #000080; font-weight: bold\">12</span><span style=\"color: #000080; text-decoration-color: #000080\"> reps</span>\n",
       "\n",
       "<span style=\"color: #000080; text-decoration-color: #000080\">#### Tuesday: Legs</span>\n",
       "<span style=\"color: #000080; text-decoration-color: #000080\">- Goblet Squats - </span><span style=\"color: #000080; text-decoration-color: #000080; font-weight: bold\">4</span><span style=\"color: #000080; text-decoration-color: #000080\"> sets of </span><span style=\"color: #000080; text-decoration-color: #000080; font-weight: bold\">8</span><span style=\"color: #000080; text-decoration-color: #000080\">-</span><span style=\"color: #000080; text-decoration-color: #000080; font-weight: bold\">12</span><span style=\"color: #000080; text-decoration-color: #000080\"> reps</span>\n",
       "<span style=\"color: #000080; text-decoration-color: #000080\">- Lunges </span><span style=\"color: #000080; text-decoration-color: #000080; font-weight: bold\">(</span><span style=\"color: #000080; text-decoration-color: #000080\">weighted</span><span style=\"color: #000080; text-decoration-color: #000080; font-weight: bold\">)</span><span style=\"color: #000080; text-decoration-color: #000080\"> - </span><span style=\"color: #000080; text-decoration-color: #000080; font-weight: bold\">3</span><span style=\"color: #000080; text-decoration-color: #000080\"> sets of </span><span style=\"color: #000080; text-decoration-color: #000080; font-weight: bold\">10</span><span style=\"color: #000080; text-decoration-color: #000080\">-</span><span style=\"color: #000080; text-decoration-color: #000080; font-weight: bold\">12</span><span style=\"color: #000080; text-decoration-color: #000080\"> reps per leg</span>\n",
       "<span style=\"color: #000080; text-decoration-color: #000080\">- Deadlifts - </span><span style=\"color: #000080; text-decoration-color: #000080; font-weight: bold\">4</span><span style=\"color: #000080; text-decoration-color: #000080\"> sets of </span><span style=\"color: #000080; text-decoration-color: #000080; font-weight: bold\">8</span><span style=\"color: #000080; text-decoration-color: #000080\">-</span><span style=\"color: #000080; text-decoration-color: #000080; font-weight: bold\">12</span><span style=\"color: #000080; text-decoration-color: #000080\"> reps</span>\n",
       "<span style=\"color: #000080; text-decoration-color: #000080\">- Calf Raises - </span><span style=\"color: #000080; text-decoration-color: #000080; font-weight: bold\">3</span><span style=\"color: #000080; text-decoration-color: #000080\"> sets of </span><span style=\"color: #000080; text-decoration-color: #000080; font-weight: bold\">12</span><span style=\"color: #000080; text-decoration-color: #000080\">-</span><span style=\"color: #000080; text-decoration-color: #000080; font-weight: bold\">15</span><span style=\"color: #000080; text-decoration-color: #000080\"> reps</span>\n",
       "\n",
       "<span style=\"color: #000080; text-decoration-color: #000080\">#### Wednesday: Back &amp; Biceps</span>\n",
       "<span style=\"color: #000080; text-decoration-color: #000080\">- Bent-Over Rows - </span><span style=\"color: #000080; text-decoration-color: #000080; font-weight: bold\">4</span><span style=\"color: #000080; text-decoration-color: #000080\"> sets of </span><span style=\"color: #000080; text-decoration-color: #000080; font-weight: bold\">8</span><span style=\"color: #000080; text-decoration-color: #000080\">-</span><span style=\"color: #000080; text-decoration-color: #000080; font-weight: bold\">12</span><span style=\"color: #000080; text-decoration-color: #000080\"> reps</span>\n",
       "<span style=\"color: #000080; text-decoration-color: #000080\">- Pull-Ups </span><span style=\"color: #000080; text-decoration-color: #000080; font-weight: bold\">(</span><span style=\"color: #000080; text-decoration-color: #000080\">assisted if necessary</span><span style=\"color: #000080; text-decoration-color: #000080; font-weight: bold\">)</span><span style=\"color: #000080; text-decoration-color: #000080\"> - </span><span style=\"color: #000080; text-decoration-color: #000080; font-weight: bold\">3</span><span style=\"color: #000080; text-decoration-color: #000080\"> sets of </span><span style=\"color: #000080; text-decoration-color: #000080; font-weight: bold\">5</span><span style=\"color: #000080; text-decoration-color: #000080\">-</span><span style=\"color: #000080; text-decoration-color: #000080; font-weight: bold\">8</span><span style=\"color: #000080; text-decoration-color: #000080\"> reps</span>\n",
       "<span style=\"color: #000080; text-decoration-color: #000080\">- Bicep Curls - </span><span style=\"color: #000080; text-decoration-color: #000080; font-weight: bold\">3</span><span style=\"color: #000080; text-decoration-color: #000080\"> sets of </span><span style=\"color: #000080; text-decoration-color: #000080; font-weight: bold\">10</span><span style=\"color: #000080; text-decoration-color: #000080\">-</span><span style=\"color: #000080; text-decoration-color: #000080; font-weight: bold\">12</span><span style=\"color: #000080; text-decoration-color: #000080\"> reps</span>\n",
       "<span style=\"color: #000080; text-decoration-color: #000080\">- Face Pulls </span><span style=\"color: #000080; text-decoration-color: #000080; font-weight: bold\">(</span><span style=\"color: #000080; text-decoration-color: #000080\">if equipment available</span><span style=\"color: #000080; text-decoration-color: #000080; font-weight: bold\">)</span><span style=\"color: #000080; text-decoration-color: #000080\"> - </span><span style=\"color: #000080; text-decoration-color: #000080; font-weight: bold\">3</span><span style=\"color: #000080; text-decoration-color: #000080\"> sets of </span><span style=\"color: #000080; text-decoration-color: #000080; font-weight: bold\">12</span><span style=\"color: #000080; text-decoration-color: #000080\">-</span><span style=\"color: #000080; text-decoration-color: #000080; font-weight: bold\">15</span><span style=\"color: #000080; text-decoration-color: #000080\"> reps</span>\n",
       "\n",
       "<span style=\"color: #000080; text-decoration-color: #000080\">#### Thursday: Active Recovery</span>\n",
       "<span style=\"color: #000080; text-decoration-color: #000080\">- Light walking or stretching - </span><span style=\"color: #000080; text-decoration-color: #000080; font-weight: bold\">20</span><span style=\"color: #000080; text-decoration-color: #000080\">-</span><span style=\"color: #000080; text-decoration-color: #000080; font-weight: bold\">30</span><span style=\"color: #000080; text-decoration-color: #000080\"> minutes</span>\n",
       "<span style=\"color: #000080; text-decoration-color: #000080\">- Focus on flexibility exercises </span><span style=\"color: #000080; text-decoration-color: #000080; font-weight: bold\">(</span><span style=\"color: #000080; text-decoration-color: #000080\">e.g., seated toe touch, shoulder stretches</span><span style=\"color: #000080; text-decoration-color: #000080; font-weight: bold\">)</span>\n",
       "\n",
       "<span style=\"color: #000080; text-decoration-color: #000080\">#### Friday: Full Body</span>\n",
       "<span style=\"color: #000080; text-decoration-color: #000080\">- Kettlebell Swings - </span><span style=\"color: #000080; text-decoration-color: #000080; font-weight: bold\">3</span><span style=\"color: #000080; text-decoration-color: #000080\"> sets of </span><span style=\"color: #000080; text-decoration-color: #000080; font-weight: bold\">10</span><span style=\"color: #000080; text-decoration-color: #000080\">-</span><span style=\"color: #000080; text-decoration-color: #000080; font-weight: bold\">15</span><span style=\"color: #000080; text-decoration-color: #000080\"> reps</span>\n",
       "<span style=\"color: #000080; text-decoration-color: #000080\">- Push Press - </span><span style=\"color: #000080; text-decoration-color: #000080; font-weight: bold\">3</span><span style=\"color: #000080; text-decoration-color: #000080\"> sets of </span><span style=\"color: #000080; text-decoration-color: #000080; font-weight: bold\">8</span><span style=\"color: #000080; text-decoration-color: #000080\">-</span><span style=\"color: #000080; text-decoration-color: #000080; font-weight: bold\">12</span><span style=\"color: #000080; text-decoration-color: #000080\"> reps</span>\n",
       "<span style=\"color: #000080; text-decoration-color: #000080\">- Plank with Dumbbell Row - </span><span style=\"color: #000080; text-decoration-color: #000080; font-weight: bold\">3</span><span style=\"color: #000080; text-decoration-color: #000080\"> sets of </span><span style=\"color: #000080; text-decoration-color: #000080; font-weight: bold\">8</span><span style=\"color: #000080; text-decoration-color: #000080\">-</span><span style=\"color: #000080; text-decoration-color: #000080; font-weight: bold\">10</span><span style=\"color: #000080; text-decoration-color: #000080\"> reps per arm</span>\n",
       "<span style=\"color: #000080; text-decoration-color: #000080\">- Burpees </span><span style=\"color: #000080; text-decoration-color: #000080; font-weight: bold\">(</span><span style=\"color: #000080; text-decoration-color: #000080\">modify if needed</span><span style=\"color: #000080; text-decoration-color: #000080; font-weight: bold\">)</span><span style=\"color: #000080; text-decoration-color: #000080\"> - </span><span style=\"color: #000080; text-decoration-color: #000080; font-weight: bold\">3</span><span style=\"color: #000080; text-decoration-color: #000080\"> sets of </span><span style=\"color: #000080; text-decoration-color: #000080; font-weight: bold\">5</span><span style=\"color: #000080; text-decoration-color: #000080\">-</span><span style=\"color: #000080; text-decoration-color: #000080; font-weight: bold\">8</span><span style=\"color: #000080; text-decoration-color: #000080\"> reps</span>\n",
       "\n",
       "<span style=\"color: #000080; text-decoration-color: #000080\">#### Saturday: Core &amp; Flexibility</span>\n",
       "<span style=\"color: #000080; text-decoration-color: #000080\">- Plank - </span><span style=\"color: #000080; text-decoration-color: #000080; font-weight: bold\">3</span><span style=\"color: #000080; text-decoration-color: #000080\"> sets of </span><span style=\"color: #000080; text-decoration-color: #000080; font-weight: bold\">30</span><span style=\"color: #000080; text-decoration-color: #000080\">-</span><span style=\"color: #000080; text-decoration-color: #000080; font-weight: bold\">45</span><span style=\"color: #000080; text-decoration-color: #000080\"> seconds</span>\n",
       "<span style=\"color: #000080; text-decoration-color: #000080\">- Russian Twists </span><span style=\"color: #000080; text-decoration-color: #000080; font-weight: bold\">(</span><span style=\"color: #000080; text-decoration-color: #000080\">with weight</span><span style=\"color: #000080; text-decoration-color: #000080; font-weight: bold\">)</span><span style=\"color: #000080; text-decoration-color: #000080\"> - </span><span style=\"color: #000080; text-decoration-color: #000080; font-weight: bold\">3</span><span style=\"color: #000080; text-decoration-color: #000080\"> sets of </span><span style=\"color: #000080; text-decoration-color: #000080; font-weight: bold\">10</span><span style=\"color: #000080; text-decoration-color: #000080\">-</span><span style=\"color: #000080; text-decoration-color: #000080; font-weight: bold\">12</span><span style=\"color: #000080; text-decoration-color: #000080\"> reps per side</span>\n",
       "<span style=\"color: #000080; text-decoration-color: #000080\">- Leg Raises - </span><span style=\"color: #000080; text-decoration-color: #000080; font-weight: bold\">3</span><span style=\"color: #000080; text-decoration-color: #000080\"> sets of </span><span style=\"color: #000080; text-decoration-color: #000080; font-weight: bold\">10</span><span style=\"color: #000080; text-decoration-color: #000080\">-</span><span style=\"color: #000080; text-decoration-color: #000080; font-weight: bold\">15</span><span style=\"color: #000080; text-decoration-color: #000080\"> reps</span>\n",
       "<span style=\"color: #000080; text-decoration-color: #000080\">- Yoga or stretching session - </span><span style=\"color: #000080; text-decoration-color: #000080; font-weight: bold\">20</span><span style=\"color: #000080; text-decoration-color: #000080\">-</span><span style=\"color: #000080; text-decoration-color: #000080; font-weight: bold\">30</span><span style=\"color: #000080; text-decoration-color: #000080\"> minutes</span>\n",
       "\n",
       "<span style=\"color: #000080; text-decoration-color: #000080\">#### Sunday: Rest Day</span>\n",
       "<span style=\"color: #000080; text-decoration-color: #000080\">- Rest and recovery; hydrate and focus on nutrition</span>\n",
       "\n",
       "<span style=\"color: #000080; text-decoration-color: #000080\">---</span>\n",
       "\n",
       "<span style=\"color: #000080; text-decoration-color: #000080\">You are on a promising path to achieve your goals. Stay committed, and you'll see great results!</span>\n",
       "</pre>\n"
      ],
      "text/plain": [
       "\u001b[34m🤖 # 🧾 Your Personalized Wellness Report\u001b[0m\n",
       "\n",
       "\u001b[34m## 👤 Profile Summary\u001b[0m\n",
       "\u001b[34m- **Name:** BastiMax\u001b[0m\n",
       "\u001b[34m- **Age:** \u001b[0m\u001b[1;34m33\u001b[0m\n",
       "\u001b[34m- **Gender:** Male\u001b[0m\n",
       "\u001b[34m- **Weight:** \u001b[0m\u001b[1;34m73\u001b[0m\u001b[34m kg\u001b[0m\n",
       "\u001b[34m- **Height:** \u001b[0m\u001b[1;34m179\u001b[0m\u001b[34m cm\u001b[0m\n",
       "\u001b[34m- **Dietary Preference:** \u001b[0m\u001b[3;34mNone\u001b[0m\n",
       "\u001b[34m- **Goals:** Build muscle\u001b[0m\n",
       "\u001b[34m- **Fitness Level:** Good\u001b[0m\n",
       "\u001b[34m- **Workout Environment:** Home\u001b[0m\n",
       "\u001b[34m- **Equipment Available:** Weights\u001b[0m\n",
       "\n",
       "\u001b[34m## 📊 BMI Analysis\u001b[0m\n",
       "\u001b[34m- **BMI Score:** \u001b[0m\u001b[1;34m22.78\u001b[0m\n",
       "\u001b[34m- **Category:** Normal Weight\u001b[0m\n",
       "\n",
       "\u001b[34mYour BMI of \u001b[0m\u001b[1;34m22.78\u001b[0m\u001b[34m falls within the normal weight category, which is excellent for your age and height. This \u001b[0m\n",
       "\u001b[34mindicates that you're at a healthy weight, allowing you to effectively pursue your muscle-building goals.\u001b[0m\n",
       "\n",
       "\u001b[34m## 🩺 Health Recommendations\u001b[0m\n",
       "\u001b[34mBastiMax, to support your muscle-building efforts and maintain your overall health, consider the following \u001b[0m\n",
       "\u001b[34mrecommendations:\u001b[0m\n",
       "\u001b[34m- **Structured Workout Plan:** Focus on resistance training using the weights you have at home. Target major muscle\u001b[0m\n",
       "\u001b[34mgroups with compound exercises.\u001b[0m\n",
       "\u001b[34m- **Dietary Focus:** Include a high-protein diet to support muscle repair and growth. Sources can include chicken, \u001b[0m\n",
       "\u001b[34mfish, eggs, legumes, and dairy.\u001b[0m\n",
       "\u001b[34m- **Hydration:** Stay adequately hydrated throughout the day.\u001b[0m\n",
       "\u001b[34m- **Rest Days:** Incorporate rest days into your routine to allow for muscle recovery.\u001b[0m\n",
       "\u001b[34m- **Balanced Nutrition:** Since you have no dietary restrictions, maintain a balance of carbohydrates and healthy \u001b[0m\n",
       "\u001b[34mfats to fuel your workouts.\u001b[0m\n",
       "\n",
       "\u001b[34m## 🍽️ Meal Plan\u001b[0m\n",
       "\u001b[34mHere’s a sample meal plan tailored to support muscle building:\u001b[0m\n",
       "\n",
       "\u001b[34m### Breakfast\u001b[0m\n",
       "\u001b[34m- Scrambled eggs with spinach and feta cheese\u001b[0m\n",
       "\u001b[34m- Whole-grain toast with avocado\u001b[0m\n",
       "\n",
       "\u001b[34m### Lunch\u001b[0m\n",
       "\u001b[34m- Grilled chicken breast with quinoa and steamed broccoli\u001b[0m\n",
       "\u001b[34m- Chickpea salad with cherry tomatoes, cucumber, and olive oil dressing\u001b[0m\n",
       "\n",
       "\u001b[34m### Snack\u001b[0m\n",
       "\u001b[34m- Greek yogurt with honey and mixed berries\u001b[0m\n",
       "\u001b[34m- Protein smoothie with banana, spinach, and almond milk\u001b[0m\n",
       "\n",
       "\u001b[34m### Dinner\u001b[0m\n",
       "\u001b[34m- Baked salmon with sweet potato and asparagus\u001b[0m\n",
       "\u001b[34m- Stir-fried tofu with mixed vegetables and brown rice\u001b[0m\n",
       "\n",
       "\u001b[34m## 🏋️ Workout Schedule\u001b[0m\n",
       "\n",
       "\u001b[34m### Weight-Assistance-Based Plan\u001b[0m\n",
       "\n",
       "\u001b[34m#### Monday: Chest & Triceps\u001b[0m\n",
       "\u001b[34m- Bench Press - \u001b[0m\u001b[1;34m4\u001b[0m\u001b[34m sets of \u001b[0m\u001b[1;34m8\u001b[0m\u001b[34m-\u001b[0m\u001b[1;34m12\u001b[0m\u001b[34m reps\u001b[0m\n",
       "\u001b[34m- Dumbbell Flyes - \u001b[0m\u001b[1;34m3\u001b[0m\u001b[34m sets of \u001b[0m\u001b[1;34m10\u001b[0m\u001b[34m-\u001b[0m\u001b[1;34m12\u001b[0m\u001b[34m reps\u001b[0m\n",
       "\u001b[34m- Tricep Dips - \u001b[0m\u001b[1;34m3\u001b[0m\u001b[34m sets of \u001b[0m\u001b[1;34m10\u001b[0m\u001b[34m-\u001b[0m\u001b[1;34m15\u001b[0m\u001b[34m reps\u001b[0m\n",
       "\u001b[34m- Push-Ups \u001b[0m\u001b[1;34m(\u001b[0m\u001b[34mweighted if possible\u001b[0m\u001b[1;34m)\u001b[0m\u001b[34m - \u001b[0m\u001b[1;34m3\u001b[0m\u001b[34m sets of \u001b[0m\u001b[1;34m8\u001b[0m\u001b[34m-\u001b[0m\u001b[1;34m12\u001b[0m\u001b[34m reps\u001b[0m\n",
       "\n",
       "\u001b[34m#### Tuesday: Legs\u001b[0m\n",
       "\u001b[34m- Goblet Squats - \u001b[0m\u001b[1;34m4\u001b[0m\u001b[34m sets of \u001b[0m\u001b[1;34m8\u001b[0m\u001b[34m-\u001b[0m\u001b[1;34m12\u001b[0m\u001b[34m reps\u001b[0m\n",
       "\u001b[34m- Lunges \u001b[0m\u001b[1;34m(\u001b[0m\u001b[34mweighted\u001b[0m\u001b[1;34m)\u001b[0m\u001b[34m - \u001b[0m\u001b[1;34m3\u001b[0m\u001b[34m sets of \u001b[0m\u001b[1;34m10\u001b[0m\u001b[34m-\u001b[0m\u001b[1;34m12\u001b[0m\u001b[34m reps per leg\u001b[0m\n",
       "\u001b[34m- Deadlifts - \u001b[0m\u001b[1;34m4\u001b[0m\u001b[34m sets of \u001b[0m\u001b[1;34m8\u001b[0m\u001b[34m-\u001b[0m\u001b[1;34m12\u001b[0m\u001b[34m reps\u001b[0m\n",
       "\u001b[34m- Calf Raises - \u001b[0m\u001b[1;34m3\u001b[0m\u001b[34m sets of \u001b[0m\u001b[1;34m12\u001b[0m\u001b[34m-\u001b[0m\u001b[1;34m15\u001b[0m\u001b[34m reps\u001b[0m\n",
       "\n",
       "\u001b[34m#### Wednesday: Back & Biceps\u001b[0m\n",
       "\u001b[34m- Bent-Over Rows - \u001b[0m\u001b[1;34m4\u001b[0m\u001b[34m sets of \u001b[0m\u001b[1;34m8\u001b[0m\u001b[34m-\u001b[0m\u001b[1;34m12\u001b[0m\u001b[34m reps\u001b[0m\n",
       "\u001b[34m- Pull-Ups \u001b[0m\u001b[1;34m(\u001b[0m\u001b[34massisted if necessary\u001b[0m\u001b[1;34m)\u001b[0m\u001b[34m - \u001b[0m\u001b[1;34m3\u001b[0m\u001b[34m sets of \u001b[0m\u001b[1;34m5\u001b[0m\u001b[34m-\u001b[0m\u001b[1;34m8\u001b[0m\u001b[34m reps\u001b[0m\n",
       "\u001b[34m- Bicep Curls - \u001b[0m\u001b[1;34m3\u001b[0m\u001b[34m sets of \u001b[0m\u001b[1;34m10\u001b[0m\u001b[34m-\u001b[0m\u001b[1;34m12\u001b[0m\u001b[34m reps\u001b[0m\n",
       "\u001b[34m- Face Pulls \u001b[0m\u001b[1;34m(\u001b[0m\u001b[34mif equipment available\u001b[0m\u001b[1;34m)\u001b[0m\u001b[34m - \u001b[0m\u001b[1;34m3\u001b[0m\u001b[34m sets of \u001b[0m\u001b[1;34m12\u001b[0m\u001b[34m-\u001b[0m\u001b[1;34m15\u001b[0m\u001b[34m reps\u001b[0m\n",
       "\n",
       "\u001b[34m#### Thursday: Active Recovery\u001b[0m\n",
       "\u001b[34m- Light walking or stretching - \u001b[0m\u001b[1;34m20\u001b[0m\u001b[34m-\u001b[0m\u001b[1;34m30\u001b[0m\u001b[34m minutes\u001b[0m\n",
       "\u001b[34m- Focus on flexibility exercises \u001b[0m\u001b[1;34m(\u001b[0m\u001b[34me.g., seated toe touch, shoulder stretches\u001b[0m\u001b[1;34m)\u001b[0m\n",
       "\n",
       "\u001b[34m#### Friday: Full Body\u001b[0m\n",
       "\u001b[34m- Kettlebell Swings - \u001b[0m\u001b[1;34m3\u001b[0m\u001b[34m sets of \u001b[0m\u001b[1;34m10\u001b[0m\u001b[34m-\u001b[0m\u001b[1;34m15\u001b[0m\u001b[34m reps\u001b[0m\n",
       "\u001b[34m- Push Press - \u001b[0m\u001b[1;34m3\u001b[0m\u001b[34m sets of \u001b[0m\u001b[1;34m8\u001b[0m\u001b[34m-\u001b[0m\u001b[1;34m12\u001b[0m\u001b[34m reps\u001b[0m\n",
       "\u001b[34m- Plank with Dumbbell Row - \u001b[0m\u001b[1;34m3\u001b[0m\u001b[34m sets of \u001b[0m\u001b[1;34m8\u001b[0m\u001b[34m-\u001b[0m\u001b[1;34m10\u001b[0m\u001b[34m reps per arm\u001b[0m\n",
       "\u001b[34m- Burpees \u001b[0m\u001b[1;34m(\u001b[0m\u001b[34mmodify if needed\u001b[0m\u001b[1;34m)\u001b[0m\u001b[34m - \u001b[0m\u001b[1;34m3\u001b[0m\u001b[34m sets of \u001b[0m\u001b[1;34m5\u001b[0m\u001b[34m-\u001b[0m\u001b[1;34m8\u001b[0m\u001b[34m reps\u001b[0m\n",
       "\n",
       "\u001b[34m#### Saturday: Core & Flexibility\u001b[0m\n",
       "\u001b[34m- Plank - \u001b[0m\u001b[1;34m3\u001b[0m\u001b[34m sets of \u001b[0m\u001b[1;34m30\u001b[0m\u001b[34m-\u001b[0m\u001b[1;34m45\u001b[0m\u001b[34m seconds\u001b[0m\n",
       "\u001b[34m- Russian Twists \u001b[0m\u001b[1;34m(\u001b[0m\u001b[34mwith weight\u001b[0m\u001b[1;34m)\u001b[0m\u001b[34m - \u001b[0m\u001b[1;34m3\u001b[0m\u001b[34m sets of \u001b[0m\u001b[1;34m10\u001b[0m\u001b[34m-\u001b[0m\u001b[1;34m12\u001b[0m\u001b[34m reps per side\u001b[0m\n",
       "\u001b[34m- Leg Raises - \u001b[0m\u001b[1;34m3\u001b[0m\u001b[34m sets of \u001b[0m\u001b[1;34m10\u001b[0m\u001b[34m-\u001b[0m\u001b[1;34m15\u001b[0m\u001b[34m reps\u001b[0m\n",
       "\u001b[34m- Yoga or stretching session - \u001b[0m\u001b[1;34m20\u001b[0m\u001b[34m-\u001b[0m\u001b[1;34m30\u001b[0m\u001b[34m minutes\u001b[0m\n",
       "\n",
       "\u001b[34m#### Sunday: Rest Day\u001b[0m\n",
       "\u001b[34m- Rest and recovery; hydrate and focus on nutrition\u001b[0m\n",
       "\n",
       "\u001b[34m---\u001b[0m\n",
       "\n",
       "\u001b[34mYou are on a promising path to achieve your goals. Stay committed, and you'll see great results!\u001b[0m\n"
      ]
     },
     "metadata": {},
     "output_type": "display_data"
    }
   ],
   "source": [
    "wellness_plan_summary = await create_wellness_plan_overview(user_info, health_recommendations, meal_plan, workout_schedule)"
   ]
  },
  {
   "cell_type": "code",
   "execution_count": 24,
   "id": "c3fa6858-fddf-4286-80f3-944d7ecec1bb",
   "metadata": {
    "scrolled": true
   },
   "outputs": [
    {
     "data": {
      "text/markdown": [
       "# 🧾 Your Personalized Wellness Report\n",
       "\n",
       "## 👤 Profile Summary\n",
       "- **Name:** BastiMax\n",
       "- **Age:** 33\n",
       "- **Gender:** Male\n",
       "- **Weight:** 73 kg\n",
       "- **Height:** 179 cm\n",
       "- **Dietary Preference:** None\n",
       "- **Goals:** Build muscle\n",
       "- **Fitness Level:** Good\n",
       "- **Workout Environment:** Home\n",
       "- **Equipment Available:** Weights\n",
       "\n",
       "## 📊 BMI Analysis\n",
       "- **BMI Score:** 22.78\n",
       "- **Category:** Normal Weight\n",
       "\n",
       "Your BMI of 22.78 falls within the normal weight category, which is excellent for your age and height. This indicates that you're at a healthy weight, allowing you to effectively pursue your muscle-building goals.\n",
       "\n",
       "## 🩺 Health Recommendations\n",
       "BastiMax, to support your muscle-building efforts and maintain your overall health, consider the following recommendations:\n",
       "- **Structured Workout Plan:** Focus on resistance training using the weights you have at home. Target major muscle groups with compound exercises.\n",
       "- **Dietary Focus:** Include a high-protein diet to support muscle repair and growth. Sources can include chicken, fish, eggs, legumes, and dairy.\n",
       "- **Hydration:** Stay adequately hydrated throughout the day.\n",
       "- **Rest Days:** Incorporate rest days into your routine to allow for muscle recovery.\n",
       "- **Balanced Nutrition:** Since you have no dietary restrictions, maintain a balance of carbohydrates and healthy fats to fuel your workouts.\n",
       "\n",
       "## 🍽️ Meal Plan\n",
       "Here’s a sample meal plan tailored to support muscle building:\n",
       "\n",
       "### Breakfast\n",
       "- Scrambled eggs with spinach and feta cheese\n",
       "- Whole-grain toast with avocado\n",
       "\n",
       "### Lunch\n",
       "- Grilled chicken breast with quinoa and steamed broccoli\n",
       "- Chickpea salad with cherry tomatoes, cucumber, and olive oil dressing\n",
       "\n",
       "### Snack\n",
       "- Greek yogurt with honey and mixed berries\n",
       "- Protein smoothie with banana, spinach, and almond milk\n",
       "\n",
       "### Dinner\n",
       "- Baked salmon with sweet potato and asparagus\n",
       "- Stir-fried tofu with mixed vegetables and brown rice\n",
       "\n",
       "## 🏋️ Workout Schedule\n",
       "\n",
       "### Weight-Assistance-Based Plan\n",
       "\n",
       "#### Monday: Chest & Triceps\n",
       "- Bench Press - 4 sets of 8-12 reps\n",
       "- Dumbbell Flyes - 3 sets of 10-12 reps\n",
       "- Tricep Dips - 3 sets of 10-15 reps\n",
       "- Push-Ups (weighted if possible) - 3 sets of 8-12 reps\n",
       "\n",
       "#### Tuesday: Legs\n",
       "- Goblet Squats - 4 sets of 8-12 reps\n",
       "- Lunges (weighted) - 3 sets of 10-12 reps per leg\n",
       "- Deadlifts - 4 sets of 8-12 reps\n",
       "- Calf Raises - 3 sets of 12-15 reps\n",
       "\n",
       "#### Wednesday: Back & Biceps\n",
       "- Bent-Over Rows - 4 sets of 8-12 reps\n",
       "- Pull-Ups (assisted if necessary) - 3 sets of 5-8 reps\n",
       "- Bicep Curls - 3 sets of 10-12 reps\n",
       "- Face Pulls (if equipment available) - 3 sets of 12-15 reps\n",
       "\n",
       "#### Thursday: Active Recovery\n",
       "- Light walking or stretching - 20-30 minutes\n",
       "- Focus on flexibility exercises (e.g., seated toe touch, shoulder stretches)\n",
       "\n",
       "#### Friday: Full Body\n",
       "- Kettlebell Swings - 3 sets of 10-15 reps\n",
       "- Push Press - 3 sets of 8-12 reps\n",
       "- Plank with Dumbbell Row - 3 sets of 8-10 reps per arm\n",
       "- Burpees (modify if needed) - 3 sets of 5-8 reps\n",
       "\n",
       "#### Saturday: Core & Flexibility\n",
       "- Plank - 3 sets of 30-45 seconds\n",
       "- Russian Twists (with weight) - 3 sets of 10-12 reps per side\n",
       "- Leg Raises - 3 sets of 10-15 reps\n",
       "- Yoga or stretching session - 20-30 minutes\n",
       "\n",
       "#### Sunday: Rest Day\n",
       "- Rest and recovery; hydrate and focus on nutrition\n",
       "\n",
       "---\n",
       "\n",
       "You are on a promising path to achieve your goals. Stay committed, and you'll see great results!"
      ],
      "text/plain": [
       "<IPython.core.display.Markdown object>"
      ]
     },
     "execution_count": 24,
     "metadata": {},
     "output_type": "execute_result"
    }
   ],
   "source": [
    "Markdown(wellness_plan_summary)"
   ]
  },
  {
   "cell_type": "markdown",
   "id": "ffdeba98-88c5-4ea4-bbc2-766a7d5a1b87",
   "metadata": {
    "jp-MarkdownHeadingCollapsed": true
   },
   "source": [
    "### Markdown to HTML with Antropic"
   ]
  },
  {
   "cell_type": "code",
   "execution_count": 56,
   "id": "5147c1e5-0543-448f-89c4-27d722e687ed",
   "metadata": {},
   "outputs": [],
   "source": [
    "from autogen_ext.models.anthropic import AnthropicChatCompletionClient\n",
    "\n",
    "anthropic_client = AnthropicChatCompletionClient(\n",
    "    model=\"claude-opus-4-20250514\",\n",
    "    max_tokens=8000,\n",
    "    temperature=0.3,\n",
    ")"
   ]
  },
  {
   "cell_type": "code",
   "execution_count": 57,
   "id": "39e584f0-cc91-46e3-9c08-a03513593ad5",
   "metadata": {
    "scrolled": true
   },
   "outputs": [],
   "source": [
    "report_html_generator = AssistantAgent(\n",
    "    name=\"report_html_generator\",\n",
    "    system_message=f\"\"\"\n",
    "        You are a professional health dashboard web designer. Convert the following Markdown health report into a **modern, visually engaging, and responsive HTML page**.\n",
    "        You are a health-focused web designer.\n",
    "        \n",
    "        Convert the following Markdown report into a **complete, visually appealing, responsive HTML page**:\n",
    "        - Render all tables fully (do not truncate or skip days).\n",
    "        - Include semantic HTML, inline styles, and graphs where appropriate.\n",
    "        - You must make a week calendar with the workout schedule/plan. Make sure all the workout details are properly displayed. This is critical.\n",
    "        - Enhance layout clarity with sections and headers.\n",
    "        - Use icons or subtle visuals to improve appeal.\n",
    "        - The page should feel like a polished health dashboard for end users.\n",
    "        \n",
    "        Markdown Content:\n",
    "        \n",
    "        {wellness_plan_summary}\n",
    "        \n",
    "        Instructions:\n",
    "        - Add **header banners, colors, and visual hierarchy** for sections (e.g., bold headers, subheaders, separators).\n",
    "        - **Convert health metrics** (e.g., BMI, meal plans, workout schedules) into **semantic layouts** (e.g., tables, lists, blocks).\n",
    "        - If appropriate, **embed graphs** (simple bar/line charts using inline SVG or styled divs), especially for tracking health progress or nutrition breakdown.\n",
    "        - Make the page **mobile-friendly and easy to read**.\n",
    "        - Use **semantic HTML5**: `<header>`, `<section>`, `<article>`, `<footer>`, etc.\n",
    "        - Add minimal but elegant **inline CSS styles** for layout and visual appeal (no external stylesheets or JS).\n",
    "        - Include a proper `<title>` tag and a `<meta charset=\"UTF-8\">`.\n",
    "        - Ensure special characters are escaped and valid.\n",
    "        - Output only the **full HTML document** — no comments or explanations.\n",
    "        \n",
    "        Final HTML should look professional and user-friendly.\n",
    "        \"\"\",\n",
    "    model_client=anthropic_client,\n",
    ")"
   ]
  },
  {
   "cell_type": "code",
   "execution_count": 58,
   "id": "d908769c-42c3-4b5d-ab9c-98b96bc96b97",
   "metadata": {},
   "outputs": [],
   "source": [
    "async def convert_report_to_html(markdown_text: str, filename: str = \"final_report.html\") -> str:\n",
    "    messages = [TextMessage(content=markdown_text, source=\"user\")]\n",
    "    response = await report_html_generator.on_messages(messages, CancellationToken())\n",
    "    html = response.chat_message.to_text()\n",
    "\n",
    "    with open(filename, \"w\", encoding=\"utf-8\") as f:\n",
    "        f.write(html)\n",
    "\n",
    "    print(f\"[✅] HTML report saved to: {filename}\")\n",
    "    return html"
   ]
  },
  {
   "cell_type": "code",
   "execution_count": 59,
   "id": "871692cc-adcc-451b-adb6-8e171683af81",
   "metadata": {},
   "outputs": [
    {
     "data": {
      "text/html": [
       "<pre style=\"white-space:pre;overflow-x:auto;line-height:normal;font-family:Menlo,'DejaVu Sans Mono',consolas,'Courier New',monospace\"><span style=\"font-weight: bold\">[</span>✅<span style=\"font-weight: bold\">]</span> HTML report saved to: sebastian_wellness_report.html\n",
       "</pre>\n"
      ],
      "text/plain": [
       "\u001b[1m[\u001b[0m✅\u001b[1m]\u001b[0m HTML report saved to: sebastian_wellness_report.html\n"
      ]
     },
     "metadata": {},
     "output_type": "display_data"
    }
   ],
   "source": [
    "report_html = await convert_report_to_html(wellness_plan_summary, \"sebastian_wellness_report.html\")"
   ]
  },
  {
   "cell_type": "code",
   "execution_count": 60,
   "id": "f9dc04d2-8f84-45e9-ae37-ac75aaba7e77",
   "metadata": {
    "scrolled": true
   },
   "outputs": [
    {
     "data": {
      "text/html": [
       "<!DOCTYPE html>\n",
       "<html lang=\"en\">\n",
       "<head>\n",
       "    <meta charset=\"UTF-8\">\n",
       "    <meta name=\"viewport\" content=\"width=device-width, initial-scale=1.0\">\n",
       "    <title>BastiMax - Personalized Wellness Report</title>\n",
       "    <style>\n",
       "        * {\n",
       "            margin: 0;\n",
       "            padding: 0;\n",
       "            box-sizing: border-box;\n",
       "        }\n",
       "        \n",
       "        body {\n",
       "            font-family: -apple-system, BlinkMacSystemFont, 'Segoe UI', Roboto, Oxygen, Ubuntu, Cantarell, sans-serif;\n",
       "            line-height: 1.6;\n",
       "            color: #333;\n",
       "            background-color: #f5f7fa;\n",
       "        }\n",
       "        \n",
       "        .container {\n",
       "            max-width: 1200px;\n",
       "            margin: 0 auto;\n",
       "            padding: 20px;\n",
       "        }\n",
       "        \n",
       "        header {\n",
       "            background: linear-gradient(135deg, #667eea 0%, #764ba2 100%);\n",
       "            color: white;\n",
       "            padding: 40px 0;\n",
       "            text-align: center;\n",
       "            box-shadow: 0 4px 6px rgba(0,0,0,0.1);\n",
       "            margin-bottom: 30px;\n",
       "        }\n",
       "        \n",
       "        h1 {\n",
       "            font-size: 2.5em;\n",
       "            margin-bottom: 10px;\n",
       "        }\n",
       "        \n",
       "        .subtitle {\n",
       "            font-size: 1.2em;\n",
       "            opacity: 0.9;\n",
       "        }\n",
       "        \n",
       "        section {\n",
       "            background: white;\n",
       "            border-radius: 10px;\n",
       "            padding: 30px;\n",
       "            margin-bottom: 25px;\n",
       "            box-shadow: 0 2px 10px rgba(0,0,0,0.05);\n",
       "        }\n",
       "        \n",
       "        h2 {\n",
       "            color: #667eea;\n",
       "            margin-bottom: 20px;\n",
       "            font-size: 1.8em;\n",
       "            display: flex;\n",
       "            align-items: center;\n",
       "            gap: 10px;\n",
       "        }\n",
       "        \n",
       "        h3 {\n",
       "            color: #764ba2;\n",
       "            margin: 20px 0 15px 0;\n",
       "            font-size: 1.3em;\n",
       "        }\n",
       "        \n",
       "        .profile-grid {\n",
       "            display: grid;\n",
       "            grid-template-columns: repeat(auto-fit, minmax(200px, 1fr));\n",
       "            gap: 15px;\n",
       "            margin-top: 20px;\n",
       "        }\n",
       "        \n",
       "        .profile-item {\n",
       "            background: #f8f9fa;\n",
       "            padding: 15px;\n",
       "            border-radius: 8px;\n",
       "            border-left: 4px solid #667eea;\n",
       "        }\n",
       "        \n",
       "        .profile-item strong {\n",
       "            color: #667eea;\n",
       "            display: block;\n",
       "            margin-bottom: 5px;\n",
       "        }\n",
       "        \n",
       "        .bmi-card {\n",
       "            background: linear-gradient(135deg, #84fab0 0%, #8fd3f4 100%);\n",
       "            color: white;\n",
       "            padding: 30px;\n",
       "            border-radius: 10px;\n",
       "            text-align: center;\n",
       "            margin: 20px 0;\n",
       "        }\n",
       "        \n",
       "        .bmi-score {\n",
       "            font-size: 3em;\n",
       "            font-weight: bold;\n",
       "            margin: 10px 0;\n",
       "        }\n",
       "        \n",
       "        .bmi-category {\n",
       "            font-size: 1.5em;\n",
       "            margin-bottom: 15px;\n",
       "        }\n",
       "        \n",
       "        .recommendations-list {\n",
       "            list-style: none;\n",
       "            padding: 0;\n",
       "        }\n",
       "        \n",
       "        .recommendations-list li {\n",
       "            background: #f8f9fa;\n",
       "            padding: 15px;\n",
       "            margin-bottom: 10px;\n",
       "            border-radius: 8px;\n",
       "            border-left: 4px solid #84fab0;\n",
       "        }\n",
       "        \n",
       "        .meal-section {\n",
       "            background: #fef3c7;\n",
       "            padding: 20px;\n",
       "            border-radius: 8px;\n",
       "            margin: 15px 0;\n",
       "        }\n",
       "        \n",
       "        .meal-section h3 {\n",
       "            color: #d97706;\n",
       "            margin-bottom: 10px;\n",
       "        }\n",
       "        \n",
       "        .meal-section ul {\n",
       "            list-style: none;\n",
       "            padding-left: 0;\n",
       "        }\n",
       "        \n",
       "        .meal-section li {\n",
       "            padding: 5px 0;\n",
       "            padding-left: 20px;\n",
       "            position: relative;\n",
       "        }\n",
       "        \n",
       "        .meal-section li:before {\n",
       "            content: \"🍽️\";\n",
       "            position: absolute;\n",
       "            left: 0;\n",
       "        }\n",
       "        \n",
       "        .workout-calendar {\n",
       "            display: grid;\n",
       "            grid-template-columns: repeat(auto-fit, minmax(250px, 1fr));\n",
       "            gap: 20px;\n",
       "            margin-top: 20px;\n",
       "        }\n",
       "        \n",
       "        .workout-day {\n",
       "            background: #f8f9fa;\n",
       "            border-radius: 10px;\n",
       "            padding: 20px;\n",
       "            border-top: 4px solid #667eea;\n",
       "            transition: transform 0.2s;\n",
       "        }\n",
       "        \n",
       "        .workout-day:hover {\n",
       "            transform: translateY(-5px);\n",
       "            box-shadow: 0 5px 20px rgba(0,0,0,0.1);\n",
       "        }\n",
       "        \n",
       "        .workout-day h4 {\n",
       "            color: #667eea;\n",
       "            margin-bottom: 15px;\n",
       "            font-size: 1.2em;\n",
       "        }\n",
       "        \n",
       "        .exercise-list {\n",
       "            list-style: none;\n",
       "            padding: 0;\n",
       "        }\n",
       "        \n",
       "        .exercise-list li {\n",
       "            padding: 8px 0;\n",
       "            border-bottom: 1px solid #e5e7eb;\n",
       "            font-size: 0.95em;\n",
       "        }\n",
       "        \n",
       "        .exercise-list li:last-child {\n",
       "            border-bottom: none;\n",
       "        }\n",
       "        \n",
       "        .rest-day {\n",
       "            background: #e0e7ff;\n",
       "            border-top-color: #764ba2;\n",
       "        }\n",
       "        \n",
       "        .active-recovery {\n",
       "            background: #d1fae5;\n",
       "            border-top-color: #10b981;\n",
       "        }\n",
       "        \n",
       "        .progress-bar {\n",
       "            width: 100%;\n",
       "            height: 30px;\n",
       "            background: #e5e7eb;\n",
       "            border-radius: 15px;\n",
       "            overflow: hidden;\n",
       "            margin: 20px 0;\n",
       "        }\n",
       "        \n",
       "        .progress-fill {\n",
       "            height: 100%;\n",
       "            background: linear-gradient(90deg, #667eea 0%, #764ba2 100%);\n",
       "            width: 75%;\n",
       "            display: flex;\n",
       "            align-items: center;\n",
       "            justify-content: center;\n",
       "            color: white;\n",
       "            font-weight: bold;\n",
       "        }\n",
       "        \n",
       "        footer {\n",
       "            text-align: center;\n",
       "            padding: 30px;\n",
       "            color: #6b7280;\n",
       "            font-style: italic;\n",
       "        }\n",
       "        \n",
       "        @media (max-width: 768px) {\n",
       "            h1 {\n",
       "                font-size: 2em;\n",
       "            }\n",
       "            \n",
       "            .container {\n",
       "                padding: 10px;\n",
       "            }\n",
       "            \n",
       "            section {\n",
       "                padding: 20px;\n",
       "            }\n",
       "            \n",
       "            .workout-calendar {\n",
       "                grid-template-columns: 1fr;\n",
       "            }\n",
       "        }\n",
       "    </style>\n",
       "</head>\n",
       "<body>\n",
       "    <header>\n",
       "        <div class=\"container\">\n",
       "            <h1>🧾 Your Personalized Wellness Report</h1>\n",
       "            <p class=\"subtitle\">Your journey to better health starts here</p>\n",
       "        </div>\n",
       "    </header>\n",
       "    \n",
       "    <main class=\"container\">\n",
       "        <section>\n",
       "            <h2>👤 Profile Summary</h2>\n",
       "            <div class=\"profile-grid\">\n",
       "                <div class=\"profile-item\">\n",
       "                    <strong>Name</strong>\n",
       "                    BastiMax\n",
       "                </div>\n",
       "                <div class=\"profile-item\">\n",
       "                    <strong>Age</strong>\n",
       "                    33 years\n",
       "                </div>\n",
       "                <div class=\"profile-item\">\n",
       "                    <strong>Gender</strong>\n",
       "                    Male\n",
       "                </div>\n",
       "                <div class=\"profile-item\">\n",
       "                    <strong>Weight</strong>\n",
       "                    73 kg\n",
       "                </div>\n",
       "                <div class=\"profile-item\">\n",
       "                    <strong>Height</strong>\n",
       "                    179 cm\n",
       "                </div>\n",
       "                <div class=\"profile-item\">\n",
       "                    <strong>Goals</strong>\n",
       "                    Build muscle\n",
       "                </div>\n",
       "                <div class=\"profile-item\">\n",
       "                    <strong>Fitness Level</strong>\n",
       "                    Good\n",
       "                </div>\n",
       "                <div class=\"profile-item\">\n",
       "                    <strong>Equipment</strong>\n",
       "                    Weights (Home)\n",
       "                </div>\n",
       "            </div>\n",
       "        </section>\n",
       "        \n",
       "        <section>\n",
       "            <h2>📊 BMI Analysis</h2>\n",
       "            <div class=\"bmi-card\">\n",
       "                <div class=\"bmi-score\">22.78</div>\n",
       "                <div class=\"bmi-category\">Normal Weight</div>\n",
       "                <p>Excellent! Your BMI indicates you're at a healthy weight for your height.</p>\n",
       "            </div>\n",
       "            <p>Your BMI of 22.78 falls within the normal weight category, which is excellent for your age and height. This indicates that you're at a healthy weight, allowing you to effectively pursue your muscle-building goals.</p>\n",
       "            \n",
       "            <div class=\"progress-bar\">\n",
       "                <div class=\"progress-fill\">Healthy Range</div>\n",
       "            </div>\n",
       "        </section>\n",
       "        \n",
       "        <section>\n",
       "            <h2>🩺 Health Recommendations</h2>\n",
       "            <p style=\"margin-bottom: 20px;\">BastiMax, to support your muscle-building efforts and maintain your overall health, consider the following recommendations:</p>\n",
       "            <ul class=\"recommendations-list\">\n",
       "                <li><strong>Structured Workout Plan:</strong> Focus on resistance training using the weights you have at home. Target major muscle groups with compound exercises.</li>\n",
       "                <li><strong>Dietary Focus:</strong> Include a high-protein diet to support muscle repair and growth. Sources can include chicken, fish, eggs, legumes, and dairy.</li>\n",
       "                <li><strong>Hydration:</strong> Stay adequately hydrated throughout the day.</li>\n",
       "                <li><strong>Rest Days:</strong> Incorporate rest days into your routine to allow for muscle recovery.</li>\n",
       "                <li><strong>Balanced Nutrition:</strong> Since you have no dietary restrictions, maintain a balance of carbohydrates and healthy fats to fuel your workouts.</li>\n",
       "            </ul>\n",
       "        </section>\n",
       "        \n",
       "        <section>\n",
       "            <h2>🍽️ Meal Plan</h2>\n",
       "            <p>Here's a sample meal plan tailored to support muscle building:</p>\n",
       "            \n",
       "            <div class=\"meal-section\">\n",
       "                <h3>Breakfast</h3>\n",
       "                <ul>\n",
       "                    <li>Scrambled eggs with spinach and feta cheese</li>\n",
       "                    <li>Whole-grain toast with avocado</li>\n",
       "                </ul>\n",
       "            </div>\n",
       "            \n",
       "            <div class=\"meal-section\">\n",
       "                <h3>Lunch</h3>\n",
       "                <ul>\n",
       "                    <li>Grilled chicken breast with quinoa and steamed broccoli</li>\n",
       "                    <li>Chickpea salad with cherry tomatoes, cucumber, and olive oil dressing</li>\n",
       "                </ul>\n",
       "            </div>\n",
       "            \n",
       "            <div class=\"meal-section\">\n",
       "                <h3>Snack</h3>\n",
       "                <ul>\n",
       "                    <li>Greek yogurt with honey and mixed berries</li>\n",
       "                    <li>Protein smoothie with banana, spinach, and almond milk</li>\n",
       "                </ul>\n",
       "            </div>\n",
       "            \n",
       "            <div class=\"meal-section\">\n",
       "                <h3>Dinner</h3>\n",
       "                <ul>\n",
       "                    <li>Baked salmon with sweet potato and asparagus</li>\n",
       "                    <li>Stir-fried tofu with mixed vegetables and brown rice</li>\n",
       "                </ul>\n",
       "            </div>\n",
       "        </section>\n",
       "        \n",
       "        <section>\n",
       "            <h2>🏋️ Weekly Workout Schedule</h2>\n",
       "            <p style=\"margin-bottom: 20px;\">Weight-Assistance-Based Plan</p>\n",
       "            \n",
       "            <div class=\"workout-calendar\">\n",
       "                <div class=\"workout-day\">\n",
       "                    <h4>Monday: Chest &amp; Triceps</h4>\n",
       "                    <ul class=\"exercise-list\">\n",
       "                        <li>Bench Press - 4 sets of 8-12 reps</li>\n",
       "                        <li>Dumbbell Flyes - 3 sets of 10-12 reps</li>\n",
       "                        <li>Tricep Dips - 3 sets of 10-15 reps</li>\n",
       "                        <li>Push-Ups (weighted if possible) - 3 sets of 8-12 reps</li>\n",
       "                    </ul>\n",
       "                </div>\n",
       "                \n",
       "                <div class=\"workout-day\">\n",
       "                    <h4>Tuesday: Legs</h4>\n",
       "                    <ul class=\"exercise-list\">\n",
       "                        <li>Goblet Squats - 4 sets of 8-12 reps</li>\n",
       "                        <li>Lunges (weighted) - 3 sets of 10-12 reps per leg</li>\n",
       "                        <li>Deadlifts - 4 sets of 8-12 reps</li>\n",
       "                        <li>Calf Raises - 3 sets of 12-15 reps</li>\n",
       "                    </ul>\n",
       "                </div>\n",
       "                \n",
       "                <div class=\"workout-day\">\n",
       "                    <h4>Wednesday: Back &amp; Biceps</h4>\n",
       "                    <ul class=\"exercise-list\">\n",
       "                        <li>Bent-Over Rows - 4 sets of 8-12 reps</li>\n",
       "                        <li>Pull-Ups (assisted if necessary) - 3 sets of 5-8 reps</li>\n",
       "                        <li>Bicep Curls - 3 sets of 10-12 reps</li>\n",
       "                        <li>Face Pulls (if equipment available) - 3 sets of 12-15 reps</li>\n",
       "                    </ul>\n",
       "                </div>\n",
       "                \n",
       "                <div class=\"workout-day active-recovery\">\n",
       "                    <h4>Thursday: Active Recovery</h4>\n",
       "                    <ul class=\"exercise-list\">\n",
       "                        <li>Light walking or stretching - 20-30 minutes</li>\n",
       "                        <li>Focus on flexibility exercises (e.g., seated toe touch, shoulder stretches)</li>\n",
       "                    </ul>\n",
       "                </div>\n",
       "                \n",
       "                <div class=\"workout-day\">\n",
       "                    <h4>Friday: Full Body</h4>\n",
       "                    <ul class=\"exercise-list\">\n",
       "                        <li>Kettlebell Swings - 3 sets of 10-15 reps</li>\n",
       "                        <li>Push Press - 3 sets of 8-12 reps</li>\n",
       "                        <li>Plank with Dumbbell Row - 3 sets of 8-10 reps per arm</li>\n",
       "                        <li>Burpees (modify if needed) - 3 sets of 5-8 reps</li>\n",
       "                    </ul>\n",
       "                </div>\n",
       "                \n",
       "                <div class=\"workout-day\">\n",
       "                    <h4>Saturday: Core &amp; Flexibility</h4>\n",
       "                    <ul class=\"exercise-list\">\n",
       "                        <li>Plank - 3 sets of 30-45 seconds</li>\n",
       "                        <li>Russian Twists (with weight) - 3 sets of 10-12 reps per side</li>\n",
       "                        <li>Leg Raises - 3 sets of 10-15 reps</li>\n",
       "                        <li>Yoga or stretching session - 20-30 minutes</li>\n",
       "                    </ul>\n",
       "                </div>\n",
       "                \n",
       "                <div class=\"workout-day rest-day\">\n",
       "                    <h4>Sunday: Rest Day</h4>\n",
       "                    <ul class=\"exercise-list\">\n",
       "                        <li>Rest and recovery</li>\n",
       "                        <li>Hydrate and focus on nutrition</li>\n",
       "                    </ul>\n",
       "                </div>\n",
       "            </div>\n",
       "        </section>\n",
       "    </main>\n",
       "    \n",
       "    <footer>\n",
       "        <p>You are on a promising path to achieve your goals. Stay committed, and you'll see great results!</p>\n",
       "    </footer>\n",
       "</body>\n",
       "</html>"
      ],
      "text/plain": [
       "<IPython.core.display.HTML object>"
      ]
     },
     "execution_count": 60,
     "metadata": {},
     "output_type": "execute_result"
    }
   ],
   "source": [
    "from IPython.core.display import HTML\n",
    "HTML(report_html)"
   ]
  },
  {
   "cell_type": "markdown",
   "id": "ac33f8f8-1e0b-4675-9466-022358477a3e",
   "metadata": {
    "jp-MarkdownHeadingCollapsed": true
   },
   "source": [
    "## Workflow"
   ]
  },
  {
   "cell_type": "code",
   "execution_count": 81,
   "id": "10b2b306-130a-46f1-b347-822e426e0e23",
   "metadata": {
    "scrolled": true
   },
   "outputs": [
    {
     "data": {
      "text/html": [
       "<pre style=\"white-space:pre;overflow-x:auto;line-height:normal;font-family:Menlo,'DejaVu Sans Mono',consolas,'Courier New',monospace\"></pre>\n"
      ],
      "text/plain": []
     },
     "metadata": {},
     "output_type": "display_data"
    },
    {
     "name": "stdin",
     "output_type": "stream",
     "text": [
      "Enter your response:  Papi\n"
     ]
    },
    {
     "data": {
      "text/html": [
       "<pre style=\"white-space:pre;overflow-x:auto;line-height:normal;font-family:Menlo,'DejaVu Sans Mono',consolas,'Courier New',monospace\"><span style=\"color: #008000; text-decoration-color: #008000\">Papi</span></pre>\n"
      ],
      "text/plain": [
       "\u001b[32mPapi\u001b[0m"
      ]
     },
     "metadata": {},
     "output_type": "display_data"
    },
    {
     "data": {
      "text/html": [
       "<pre style=\"white-space:pre;overflow-x:auto;line-height:normal;font-family:Menlo,'DejaVu Sans Mono',consolas,'Courier New',monospace\"><span style=\"color: #000080; text-decoration-color: #000080\">🤖 Great! I’ll format your name as </span><span style=\"color: #000080; text-decoration-color: #000080\">\"Papi.\"</span>\n",
       "\n",
       "<span style=\"color: #000080; text-decoration-color: #000080\">Now, could you please provide me with your weight in kilograms?</span></pre>\n"
      ],
      "text/plain": [
       "\u001b[34m🤖 Great! I’ll format your name as \u001b[0m\u001b[34m\"Papi.\"\u001b[0m\n",
       "\n",
       "\u001b[34mNow, could you please provide me with your weight in kilograms?\u001b[0m"
      ]
     },
     "metadata": {},
     "output_type": "display_data"
    },
    {
     "data": {
      "text/html": [
       "<pre style=\"white-space:pre;overflow-x:auto;line-height:normal;font-family:Menlo,'DejaVu Sans Mono',consolas,'Courier New',monospace\"></pre>\n"
      ],
      "text/plain": []
     },
     "metadata": {},
     "output_type": "display_data"
    },
    {
     "name": "stdin",
     "output_type": "stream",
     "text": [
      "Enter your response:  75\n"
     ]
    },
    {
     "data": {
      "text/html": [
       "<pre style=\"white-space:pre;overflow-x:auto;line-height:normal;font-family:Menlo,'DejaVu Sans Mono',consolas,'Courier New',monospace\"><span style=\"color: #008000; text-decoration-color: #008000; font-weight: bold\">75</span></pre>\n"
      ],
      "text/plain": [
       "\u001b[1;32m75\u001b[0m"
      ]
     },
     "metadata": {},
     "output_type": "display_data"
    },
    {
     "data": {
      "text/html": [
       "<pre style=\"white-space:pre;overflow-x:auto;line-height:normal;font-family:Menlo,'DejaVu Sans Mono',consolas,'Courier New',monospace\"><span style=\"color: #000080; text-decoration-color: #000080\">🤖 Thanks, I have your weight as </span><span style=\"color: #000080; text-decoration-color: #000080; font-weight: bold\">75</span><span style=\"color: #000080; text-decoration-color: #000080\"> kg.</span>\n",
       "\n",
       "<span style=\"color: #000080; text-decoration-color: #000080\">Next, could you tell me your height in centimeters?</span></pre>\n"
      ],
      "text/plain": [
       "\u001b[34m🤖 Thanks, I have your weight as \u001b[0m\u001b[1;34m75\u001b[0m\u001b[34m kg.\u001b[0m\n",
       "\n",
       "\u001b[34mNext, could you tell me your height in centimeters?\u001b[0m"
      ]
     },
     "metadata": {},
     "output_type": "display_data"
    },
    {
     "data": {
      "text/html": [
       "<pre style=\"white-space:pre;overflow-x:auto;line-height:normal;font-family:Menlo,'DejaVu Sans Mono',consolas,'Courier New',monospace\"></pre>\n"
      ],
      "text/plain": []
     },
     "metadata": {},
     "output_type": "display_data"
    },
    {
     "name": "stdin",
     "output_type": "stream",
     "text": [
      "Enter your response:  189\n"
     ]
    },
    {
     "data": {
      "text/html": [
       "<pre style=\"white-space:pre;overflow-x:auto;line-height:normal;font-family:Menlo,'DejaVu Sans Mono',consolas,'Courier New',monospace\"><span style=\"color: #008000; text-decoration-color: #008000; font-weight: bold\">189</span></pre>\n"
      ],
      "text/plain": [
       "\u001b[1;32m189\u001b[0m"
      ]
     },
     "metadata": {},
     "output_type": "display_data"
    },
    {
     "data": {
      "text/html": [
       "<pre style=\"white-space:pre;overflow-x:auto;line-height:normal;font-family:Menlo,'DejaVu Sans Mono',consolas,'Courier New',monospace\"><span style=\"color: #000080; text-decoration-color: #000080\">🤖 Got it, your height is </span><span style=\"color: #000080; text-decoration-color: #000080; font-weight: bold\">189</span><span style=\"color: #000080; text-decoration-color: #000080\"> cm. </span>\n",
       "\n",
       "<span style=\"color: #000080; text-decoration-color: #000080\">Now, may I know your age, please?</span></pre>\n"
      ],
      "text/plain": [
       "\u001b[34m🤖 Got it, your height is \u001b[0m\u001b[1;34m189\u001b[0m\u001b[34m cm. \u001b[0m\n",
       "\n",
       "\u001b[34mNow, may I know your age, please?\u001b[0m"
      ]
     },
     "metadata": {},
     "output_type": "display_data"
    },
    {
     "data": {
      "text/html": [
       "<pre style=\"white-space:pre;overflow-x:auto;line-height:normal;font-family:Menlo,'DejaVu Sans Mono',consolas,'Courier New',monospace\"></pre>\n"
      ],
      "text/plain": []
     },
     "metadata": {},
     "output_type": "display_data"
    },
    {
     "name": "stdin",
     "output_type": "stream",
     "text": [
      "Enter your response:  31\n"
     ]
    },
    {
     "data": {
      "text/html": [
       "<pre style=\"white-space:pre;overflow-x:auto;line-height:normal;font-family:Menlo,'DejaVu Sans Mono',consolas,'Courier New',monospace\"><span style=\"color: #008000; text-decoration-color: #008000; font-weight: bold\">31</span></pre>\n"
      ],
      "text/plain": [
       "\u001b[1;32m31\u001b[0m"
      ]
     },
     "metadata": {},
     "output_type": "display_data"
    },
    {
     "data": {
      "text/html": [
       "<pre style=\"white-space:pre;overflow-x:auto;line-height:normal;font-family:Menlo,'DejaVu Sans Mono',consolas,'Courier New',monospace\"><span style=\"color: #000080; text-decoration-color: #000080\">🤖 Thank you! Your age is </span><span style=\"color: #000080; text-decoration-color: #000080; font-weight: bold\">31</span><span style=\"color: #000080; text-decoration-color: #000080\">. </span>\n",
       "\n",
       "<span style=\"color: #000080; text-decoration-color: #000080\">Now, could you please specify your gender?</span></pre>\n"
      ],
      "text/plain": [
       "\u001b[34m🤖 Thank you! Your age is \u001b[0m\u001b[1;34m31\u001b[0m\u001b[34m. \u001b[0m\n",
       "\n",
       "\u001b[34mNow, could you please specify your gender?\u001b[0m"
      ]
     },
     "metadata": {},
     "output_type": "display_data"
    },
    {
     "data": {
      "text/html": [
       "<pre style=\"white-space:pre;overflow-x:auto;line-height:normal;font-family:Menlo,'DejaVu Sans Mono',consolas,'Courier New',monospace\"></pre>\n"
      ],
      "text/plain": []
     },
     "metadata": {},
     "output_type": "display_data"
    },
    {
     "name": "stdin",
     "output_type": "stream",
     "text": [
      "Enter your response:  male\n"
     ]
    },
    {
     "data": {
      "text/html": [
       "<pre style=\"white-space:pre;overflow-x:auto;line-height:normal;font-family:Menlo,'DejaVu Sans Mono',consolas,'Courier New',monospace\"><span style=\"color: #008000; text-decoration-color: #008000\">male</span></pre>\n"
      ],
      "text/plain": [
       "\u001b[32mmale\u001b[0m"
      ]
     },
     "metadata": {},
     "output_type": "display_data"
    },
    {
     "data": {
      "text/html": [
       "<pre style=\"white-space:pre;overflow-x:auto;line-height:normal;font-family:Menlo,'DejaVu Sans Mono',consolas,'Courier New',monospace\"><span style=\"color: #000080; text-decoration-color: #000080\">🤖 Thanks for sharing that you are male. </span>\n",
       "\n",
       "<span style=\"color: #000080; text-decoration-color: #000080\">Next, what’s your dietary preference? You can choose from options like Veg, Non-Veg, Vegan, or anything else you </span>\n",
       "<span style=\"color: #000080; text-decoration-color: #000080\">might have in mind.</span></pre>\n"
      ],
      "text/plain": [
       "\u001b[34m🤖 Thanks for sharing that you are male. \u001b[0m\n",
       "\n",
       "\u001b[34mNext, what’s your dietary preference? You can choose from options like Veg, Non-Veg, Vegan, or anything else you \u001b[0m\n",
       "\u001b[34mmight have in mind.\u001b[0m"
      ]
     },
     "metadata": {},
     "output_type": "display_data"
    },
    {
     "data": {
      "text/html": [
       "<pre style=\"white-space:pre;overflow-x:auto;line-height:normal;font-family:Menlo,'DejaVu Sans Mono',consolas,'Courier New',monospace\"></pre>\n"
      ],
      "text/plain": []
     },
     "metadata": {},
     "output_type": "display_data"
    },
    {
     "name": "stdin",
     "output_type": "stream",
     "text": [
      "Enter your response:  none\n"
     ]
    },
    {
     "data": {
      "text/html": [
       "<pre style=\"white-space:pre;overflow-x:auto;line-height:normal;font-family:Menlo,'DejaVu Sans Mono',consolas,'Courier New',monospace\"><span style=\"color: #008000; text-decoration-color: #008000\">none</span></pre>\n"
      ],
      "text/plain": [
       "\u001b[32mnone\u001b[0m"
      ]
     },
     "metadata": {},
     "output_type": "display_data"
    },
    {
     "data": {
      "text/html": [
       "<pre style=\"white-space:pre;overflow-x:auto;line-height:normal;font-family:Menlo,'DejaVu Sans Mono',consolas,'Courier New',monospace\"><span style=\"color: #000080; text-decoration-color: #000080\">🤖 Got it! Your dietary preference is none. </span>\n",
       "\n",
       "<span style=\"color: #000080; text-decoration-color: #000080\">Before I finalize your profile, is there any additional information you'd like to share, such as health conditions,</span>\n",
       "<span style=\"color: #000080; text-decoration-color: #000080\">specific goals, or any circumstances that could impact your health recommendations?</span></pre>\n"
      ],
      "text/plain": [
       "\u001b[34m🤖 Got it! Your dietary preference is none. \u001b[0m\n",
       "\n",
       "\u001b[34mBefore I finalize your profile, is there any additional information you'd like to share, such as health conditions,\u001b[0m\n",
       "\u001b[34mspecific goals, or any circumstances that could impact your health recommendations?\u001b[0m"
      ]
     },
     "metadata": {},
     "output_type": "display_data"
    },
    {
     "data": {
      "text/html": [
       "<pre style=\"white-space:pre;overflow-x:auto;line-height:normal;font-family:Menlo,'DejaVu Sans Mono',consolas,'Courier New',monospace\"></pre>\n"
      ],
      "text/plain": []
     },
     "metadata": {},
     "output_type": "display_data"
    },
    {
     "name": "stdin",
     "output_type": "stream",
     "text": [
      "Enter your response:  Nothing else\n"
     ]
    },
    {
     "data": {
      "text/html": [
       "<pre style=\"white-space:pre;overflow-x:auto;line-height:normal;font-family:Menlo,'DejaVu Sans Mono',consolas,'Courier New',monospace\"><span style=\"color: #008000; text-decoration-color: #008000\">Nothing else</span></pre>\n"
      ],
      "text/plain": [
       "\u001b[32mNothing else\u001b[0m"
      ]
     },
     "metadata": {},
     "output_type": "display_data"
    },
    {
     "data": {
      "text/html": [
       "<pre style=\"white-space:pre;overflow-x:auto;line-height:normal;font-family:Menlo,'DejaVu Sans Mono',consolas,'Courier New',monospace\"><span style=\"color: #000080; text-decoration-color: #000080\">🤖 Alright! Let’s summarize everything I’ve collected so far:</span>\n",
       "\n",
       "<span style=\"color: #000080; text-decoration-color: #000080\">```json</span>\n",
       "<span style=\"color: #000080; text-decoration-color: #000080; font-weight: bold\">{</span>\n",
       "<span style=\"color: #000080; text-decoration-color: #000080\">    </span><span style=\"color: #000080; text-decoration-color: #000080\">\"Name\"</span><span style=\"color: #000080; text-decoration-color: #000080\">: </span><span style=\"color: #000080; text-decoration-color: #000080\">\"Papi\"</span><span style=\"color: #000080; text-decoration-color: #000080\">,</span>\n",
       "<span style=\"color: #000080; text-decoration-color: #000080\">    </span><span style=\"color: #000080; text-decoration-color: #000080\">\"weight\"</span><span style=\"color: #000080; text-decoration-color: #000080\">: </span><span style=\"color: #000080; text-decoration-color: #000080; font-weight: bold\">75</span><span style=\"color: #000080; text-decoration-color: #000080\">,</span>\n",
       "<span style=\"color: #000080; text-decoration-color: #000080\">    </span><span style=\"color: #000080; text-decoration-color: #000080\">\"height\"</span><span style=\"color: #000080; text-decoration-color: #000080\">: </span><span style=\"color: #000080; text-decoration-color: #000080; font-weight: bold\">189</span><span style=\"color: #000080; text-decoration-color: #000080\">,</span>\n",
       "<span style=\"color: #000080; text-decoration-color: #000080\">    </span><span style=\"color: #000080; text-decoration-color: #000080\">\"age\"</span><span style=\"color: #000080; text-decoration-color: #000080\">: </span><span style=\"color: #000080; text-decoration-color: #000080; font-weight: bold\">31</span><span style=\"color: #000080; text-decoration-color: #000080\">,</span>\n",
       "<span style=\"color: #000080; text-decoration-color: #000080\">    </span><span style=\"color: #000080; text-decoration-color: #000080\">\"gender\"</span><span style=\"color: #000080; text-decoration-color: #000080\">: </span><span style=\"color: #000080; text-decoration-color: #000080\">\"male\"</span><span style=\"color: #000080; text-decoration-color: #000080\">,</span>\n",
       "<span style=\"color: #000080; text-decoration-color: #000080\">    </span><span style=\"color: #000080; text-decoration-color: #000080\">\"dietary_preference\"</span><span style=\"color: #000080; text-decoration-color: #000080\">: </span><span style=\"color: #000080; text-decoration-color: #000080\">\"none\"</span><span style=\"color: #000080; text-decoration-color: #000080\">,</span>\n",
       "<span style=\"color: #000080; text-decoration-color: #000080\">    </span><span style=\"color: #000080; text-decoration-color: #000080\">\"additional_information\"</span><span style=\"color: #000080; text-decoration-color: #000080\">: </span><span style=\"color: #000080; text-decoration-color: #000080; font-weight: bold\">{}</span>\n",
       "<span style=\"color: #000080; text-decoration-color: #000080; font-weight: bold\">}</span>\n",
       "<span style=\"color: #000080; text-decoration-color: #000080\">```</span>\n",
       "<span style=\"color: #000080; text-decoration-color: #000080\">DATA COLLECTED</span></pre>\n"
      ],
      "text/plain": [
       "\u001b[34m🤖 Alright! Let’s summarize everything I’ve collected so far:\u001b[0m\n",
       "\n",
       "\u001b[34m```json\u001b[0m\n",
       "\u001b[1;34m{\u001b[0m\n",
       "\u001b[34m    \u001b[0m\u001b[34m\"Name\"\u001b[0m\u001b[34m: \u001b[0m\u001b[34m\"Papi\"\u001b[0m\u001b[34m,\u001b[0m\n",
       "\u001b[34m    \u001b[0m\u001b[34m\"weight\"\u001b[0m\u001b[34m: \u001b[0m\u001b[1;34m75\u001b[0m\u001b[34m,\u001b[0m\n",
       "\u001b[34m    \u001b[0m\u001b[34m\"height\"\u001b[0m\u001b[34m: \u001b[0m\u001b[1;34m189\u001b[0m\u001b[34m,\u001b[0m\n",
       "\u001b[34m    \u001b[0m\u001b[34m\"age\"\u001b[0m\u001b[34m: \u001b[0m\u001b[1;34m31\u001b[0m\u001b[34m,\u001b[0m\n",
       "\u001b[34m    \u001b[0m\u001b[34m\"gender\"\u001b[0m\u001b[34m: \u001b[0m\u001b[34m\"male\"\u001b[0m\u001b[34m,\u001b[0m\n",
       "\u001b[34m    \u001b[0m\u001b[34m\"dietary_preference\"\u001b[0m\u001b[34m: \u001b[0m\u001b[34m\"none\"\u001b[0m\u001b[34m,\u001b[0m\n",
       "\u001b[34m    \u001b[0m\u001b[34m\"additional_information\"\u001b[0m\u001b[34m: \u001b[0m\u001b[1;34m{\u001b[0m\u001b[1;34m}\u001b[0m\n",
       "\u001b[1;34m}\u001b[0m\n",
       "\u001b[34m```\u001b[0m\n",
       "\u001b[34mDATA COLLECTED\u001b[0m"
      ]
     },
     "metadata": {},
     "output_type": "display_data"
    },
    {
     "data": {
      "text/html": [
       "<pre style=\"white-space:pre;overflow-x:auto;line-height:normal;font-family:Menlo,'DejaVu Sans Mono',consolas,'Courier New',monospace\"><span style=\"color: #000080; text-decoration-color: #000080\">🤖 </span><span style=\"color: #000080; text-decoration-color: #000080; font-weight: bold\">{</span>\n",
       "<span style=\"color: #000080; text-decoration-color: #000080\">  </span><span style=\"color: #000080; text-decoration-color: #000080\">\"bmi\"</span><span style=\"color: #000080; text-decoration-color: #000080\">: </span><span style=\"color: #000080; text-decoration-color: #000080; font-weight: bold\">21.0</span><span style=\"color: #000080; text-decoration-color: #000080\">,</span>\n",
       "<span style=\"color: #000080; text-decoration-color: #000080\">  </span><span style=\"color: #000080; text-decoration-color: #000080\">\"bmi_category\"</span><span style=\"color: #000080; text-decoration-color: #000080\">: </span><span style=\"color: #000080; text-decoration-color: #000080\">\"normal weight\"</span><span style=\"color: #000080; text-decoration-color: #000080\">,</span>\n",
       "<span style=\"color: #000080; text-decoration-color: #000080\">  </span><span style=\"color: #000080; text-decoration-color: #000080\">\"recommendations\"</span><span style=\"color: #000080; text-decoration-color: #000080\">: </span><span style=\"color: #000080; text-decoration-color: #000080\">\"Papi, with a BMI of 21.0, is classified within the normal weight range, indicating a healthy </span>\n",
       "<span style=\"color: #000080; text-decoration-color: #000080\">body weight relative to your height and age. To maintain your weight and support overall health, focus on a </span>\n",
       "<span style=\"color: #000080; text-decoration-color: #000080\">balanced diet consisting of a variety of foods. Since you have no specific dietary preferences or additional </span>\n",
       "<span style=\"color: #000080; text-decoration-color: #000080\">information, include ample fruits and vegetables, whole grains, lean proteins, and healthy fats in your meals. </span>\n",
       "<span style=\"color: #000080; text-decoration-color: #000080\">Engage in regular physical activity to enhance cardiovascular fitness and strength, aiming for at least 150 minutes</span>\n",
       "<span style=\"color: #000080; text-decoration-color: #000080\">of moderate aerobic exercise each week, along with muscle-strengthening activities on two or more days. This </span>\n",
       "<span style=\"color: #000080; text-decoration-color: #000080\">approach will help you maintain muscle mass, support metabolic health, and promote overall well-being.\"</span>\n",
       "<span style=\"color: #000080; text-decoration-color: #000080; font-weight: bold\">}</span>\n",
       "</pre>\n"
      ],
      "text/plain": [
       "\u001b[34m🤖 \u001b[0m\u001b[1;34m{\u001b[0m\n",
       "\u001b[34m  \u001b[0m\u001b[34m\"bmi\"\u001b[0m\u001b[34m: \u001b[0m\u001b[1;34m21.0\u001b[0m\u001b[34m,\u001b[0m\n",
       "\u001b[34m  \u001b[0m\u001b[34m\"bmi_category\"\u001b[0m\u001b[34m: \u001b[0m\u001b[34m\"normal weight\"\u001b[0m\u001b[34m,\u001b[0m\n",
       "\u001b[34m  \u001b[0m\u001b[34m\"recommendations\"\u001b[0m\u001b[34m: \u001b[0m\u001b[34m\"Papi, with a BMI of 21.0, is classified within the normal weight range, indicating a healthy \u001b[0m\n",
       "\u001b[34mbody weight relative to your height and age. To maintain your weight and support overall health, focus on a \u001b[0m\n",
       "\u001b[34mbalanced diet consisting of a variety of foods. Since you have no specific dietary preferences or additional \u001b[0m\n",
       "\u001b[34minformation, include ample fruits and vegetables, whole grains, lean proteins, and healthy fats in your meals. \u001b[0m\n",
       "\u001b[34mEngage in regular physical activity to enhance cardiovascular fitness and strength, aiming for at least 150 minutes\u001b[0m\n",
       "\u001b[34mof moderate aerobic exercise each week, along with muscle-strengthening activities on two or more days. This \u001b[0m\n",
       "\u001b[34mapproach will help you maintain muscle mass, support metabolic health, and promote overall well-being.\"\u001b[0m\n",
       "\u001b[1;34m}\u001b[0m\n"
      ]
     },
     "metadata": {},
     "output_type": "display_data"
    },
    {
     "data": {
      "text/html": [
       "<pre style=\"white-space:pre;overflow-x:auto;line-height:normal;font-family:Menlo,'DejaVu Sans Mono',consolas,'Courier New',monospace\"><span style=\"color: #000080; text-decoration-color: #000080\">🤖 # Daily Meal Plan</span>\n",
       "\n",
       "<span style=\"color: #000080; text-decoration-color: #000080\">## Breakfast</span>\n",
       "<span style=\"color: #000080; text-decoration-color: #000080\">- Oatmeal topped with sliced banana and a sprinkle of cinnamon</span>\n",
       "<span style=\"color: #000080; text-decoration-color: #000080\">- Smoothie with spinach, mixed berries, and protein powder</span>\n",
       "\n",
       "<span style=\"color: #000080; text-decoration-color: #000080\">## Lunch</span>\n",
       "<span style=\"color: #000080; text-decoration-color: #000080\">- Turkey and avocado wrap in a whole grain tortilla with spinach and tomatoes</span>\n",
       "<span style=\"color: #000080; text-decoration-color: #000080\">- Quinoa salad with black beans, corn, bell peppers, and lime dressing</span>\n",
       "\n",
       "<span style=\"color: #000080; text-decoration-color: #000080\">## Snack</span>\n",
       "<span style=\"color: #000080; text-decoration-color: #000080\">- Apple slices with almond butter</span>\n",
       "<span style=\"color: #000080; text-decoration-color: #000080\">- Cottage cheese with pineapple chunks</span>\n",
       "\n",
       "<span style=\"color: #000080; text-decoration-color: #000080\">## Dinner</span>\n",
       "<span style=\"color: #000080; text-decoration-color: #000080\">- Grilled chicken breast with brown rice and steamed mixed vegetables</span>\n",
       "<span style=\"color: #000080; text-decoration-color: #000080\">- Baked tilapia with quinoa and a side salad of mixed greens with olive oil vinaigrette</span>\n",
       "</pre>\n"
      ],
      "text/plain": [
       "\u001b[34m🤖 # Daily Meal Plan\u001b[0m\n",
       "\n",
       "\u001b[34m## Breakfast\u001b[0m\n",
       "\u001b[34m- Oatmeal topped with sliced banana and a sprinkle of cinnamon\u001b[0m\n",
       "\u001b[34m- Smoothie with spinach, mixed berries, and protein powder\u001b[0m\n",
       "\n",
       "\u001b[34m## Lunch\u001b[0m\n",
       "\u001b[34m- Turkey and avocado wrap in a whole grain tortilla with spinach and tomatoes\u001b[0m\n",
       "\u001b[34m- Quinoa salad with black beans, corn, bell peppers, and lime dressing\u001b[0m\n",
       "\n",
       "\u001b[34m## Snack\u001b[0m\n",
       "\u001b[34m- Apple slices with almond butter\u001b[0m\n",
       "\u001b[34m- Cottage cheese with pineapple chunks\u001b[0m\n",
       "\n",
       "\u001b[34m## Dinner\u001b[0m\n",
       "\u001b[34m- Grilled chicken breast with brown rice and steamed mixed vegetables\u001b[0m\n",
       "\u001b[34m- Baked tilapia with quinoa and a side salad of mixed greens with olive oil vinaigrette\u001b[0m\n"
      ]
     },
     "metadata": {},
     "output_type": "display_data"
    },
    {
     "data": {
      "text/html": [
       "<pre style=\"white-space:pre;overflow-x:auto;line-height:normal;font-family:Menlo,'DejaVu Sans Mono',consolas,'Courier New',monospace\"><span style=\"color: #000080; text-decoration-color: #000080\">🤖 # Workout Schedule for Papi</span>\n",
       "\n",
       "<span style=\"color: #000080; text-decoration-color: #000080\">## Weight-Assistance-Based Plan</span>\n",
       "\n",
       "<span style=\"color: #000080; text-decoration-color: #000080\">### Monday: Chest &amp; Triceps</span>\n",
       "<span style=\"color: #000080; text-decoration-color: #000080\">- Bench Press - </span><span style=\"color: #000080; text-decoration-color: #000080; font-weight: bold\">3</span><span style=\"color: #000080; text-decoration-color: #000080\"> sets of </span><span style=\"color: #000080; text-decoration-color: #000080; font-weight: bold\">8</span><span style=\"color: #000080; text-decoration-color: #000080\">-</span><span style=\"color: #000080; text-decoration-color: #000080; font-weight: bold\">12</span><span style=\"color: #000080; text-decoration-color: #000080\"> reps</span>\n",
       "<span style=\"color: #000080; text-decoration-color: #000080\">- Incline Dumbbell Press - </span><span style=\"color: #000080; text-decoration-color: #000080; font-weight: bold\">3</span><span style=\"color: #000080; text-decoration-color: #000080\"> sets of </span><span style=\"color: #000080; text-decoration-color: #000080; font-weight: bold\">8</span><span style=\"color: #000080; text-decoration-color: #000080\">-</span><span style=\"color: #000080; text-decoration-color: #000080; font-weight: bold\">12</span><span style=\"color: #000080; text-decoration-color: #000080\"> reps</span>\n",
       "<span style=\"color: #000080; text-decoration-color: #000080\">- Tricep Pressdown </span><span style=\"color: #000080; text-decoration-color: #000080; font-weight: bold\">(</span><span style=\"color: #000080; text-decoration-color: #000080\">using cable or resistance band</span><span style=\"color: #000080; text-decoration-color: #000080; font-weight: bold\">)</span><span style=\"color: #000080; text-decoration-color: #000080\"> - </span><span style=\"color: #000080; text-decoration-color: #000080; font-weight: bold\">3</span><span style=\"color: #000080; text-decoration-color: #000080\"> sets of </span><span style=\"color: #000080; text-decoration-color: #000080; font-weight: bold\">10</span><span style=\"color: #000080; text-decoration-color: #000080\">-</span><span style=\"color: #000080; text-decoration-color: #000080; font-weight: bold\">15</span><span style=\"color: #000080; text-decoration-color: #000080\"> reps</span>\n",
       "<span style=\"color: #000080; text-decoration-color: #000080\">- Push-Ups - </span><span style=\"color: #000080; text-decoration-color: #000080; font-weight: bold\">3</span><span style=\"color: #000080; text-decoration-color: #000080\"> sets of </span><span style=\"color: #000080; text-decoration-color: #000080; font-weight: bold\">8</span><span style=\"color: #000080; text-decoration-color: #000080\">-</span><span style=\"color: #000080; text-decoration-color: #000080; font-weight: bold\">12</span><span style=\"color: #000080; text-decoration-color: #000080\"> reps</span>\n",
       "\n",
       "<span style=\"color: #000080; text-decoration-color: #000080\">### Tuesday: Legs</span>\n",
       "<span style=\"color: #000080; text-decoration-color: #000080\">- Barbell Squats - </span><span style=\"color: #000080; text-decoration-color: #000080; font-weight: bold\">4</span><span style=\"color: #000080; text-decoration-color: #000080\"> sets of </span><span style=\"color: #000080; text-decoration-color: #000080; font-weight: bold\">8</span><span style=\"color: #000080; text-decoration-color: #000080\">-</span><span style=\"color: #000080; text-decoration-color: #000080; font-weight: bold\">12</span><span style=\"color: #000080; text-decoration-color: #000080\"> reps</span>\n",
       "<span style=\"color: #000080; text-decoration-color: #000080\">- Romanian Deadlifts - </span><span style=\"color: #000080; text-decoration-color: #000080; font-weight: bold\">3</span><span style=\"color: #000080; text-decoration-color: #000080\"> sets of </span><span style=\"color: #000080; text-decoration-color: #000080; font-weight: bold\">8</span><span style=\"color: #000080; text-decoration-color: #000080\">-</span><span style=\"color: #000080; text-decoration-color: #000080; font-weight: bold\">12</span><span style=\"color: #000080; text-decoration-color: #000080\"> reps</span>\n",
       "<span style=\"color: #000080; text-decoration-color: #000080\">- Lunges </span><span style=\"color: #000080; text-decoration-color: #000080; font-weight: bold\">(</span><span style=\"color: #000080; text-decoration-color: #000080\">weighted</span><span style=\"color: #000080; text-decoration-color: #000080; font-weight: bold\">)</span><span style=\"color: #000080; text-decoration-color: #000080\"> - </span><span style=\"color: #000080; text-decoration-color: #000080; font-weight: bold\">3</span><span style=\"color: #000080; text-decoration-color: #000080\"> sets of </span><span style=\"color: #000080; text-decoration-color: #000080; font-weight: bold\">10</span><span style=\"color: #000080; text-decoration-color: #000080\">-</span><span style=\"color: #000080; text-decoration-color: #000080; font-weight: bold\">12</span><span style=\"color: #000080; text-decoration-color: #000080\"> reps per leg</span>\n",
       "<span style=\"color: #000080; text-decoration-color: #000080\">- Leg Press </span><span style=\"color: #000080; text-decoration-color: #000080; font-weight: bold\">(</span><span style=\"color: #000080; text-decoration-color: #000080\">if available</span><span style=\"color: #000080; text-decoration-color: #000080; font-weight: bold\">)</span><span style=\"color: #000080; text-decoration-color: #000080\"> - </span><span style=\"color: #000080; text-decoration-color: #000080; font-weight: bold\">3</span><span style=\"color: #000080; text-decoration-color: #000080\"> sets of </span><span style=\"color: #000080; text-decoration-color: #000080; font-weight: bold\">10</span><span style=\"color: #000080; text-decoration-color: #000080\">-</span><span style=\"color: #000080; text-decoration-color: #000080; font-weight: bold\">12</span><span style=\"color: #000080; text-decoration-color: #000080\"> reps</span>\n",
       "\n",
       "<span style=\"color: #000080; text-decoration-color: #000080\">### Wednesday: Back &amp; Biceps</span>\n",
       "<span style=\"color: #000080; text-decoration-color: #000080\">- Bent-Over Rows - </span><span style=\"color: #000080; text-decoration-color: #000080; font-weight: bold\">4</span><span style=\"color: #000080; text-decoration-color: #000080\"> sets of </span><span style=\"color: #000080; text-decoration-color: #000080; font-weight: bold\">8</span><span style=\"color: #000080; text-decoration-color: #000080\">-</span><span style=\"color: #000080; text-decoration-color: #000080; font-weight: bold\">12</span><span style=\"color: #000080; text-decoration-color: #000080\"> reps</span>\n",
       "<span style=\"color: #000080; text-decoration-color: #000080\">- Pull-Ups </span><span style=\"color: #000080; text-decoration-color: #000080; font-weight: bold\">(</span><span style=\"color: #000080; text-decoration-color: #000080\">assisted if necessary</span><span style=\"color: #000080; text-decoration-color: #000080; font-weight: bold\">)</span><span style=\"color: #000080; text-decoration-color: #000080\"> - </span><span style=\"color: #000080; text-decoration-color: #000080; font-weight: bold\">3</span><span style=\"color: #000080; text-decoration-color: #000080\"> sets of </span><span style=\"color: #000080; text-decoration-color: #000080; font-weight: bold\">5</span><span style=\"color: #000080; text-decoration-color: #000080\">-</span><span style=\"color: #000080; text-decoration-color: #000080; font-weight: bold\">8</span><span style=\"color: #000080; text-decoration-color: #000080\"> reps</span>\n",
       "<span style=\"color: #000080; text-decoration-color: #000080\">- Bicep Curls - </span><span style=\"color: #000080; text-decoration-color: #000080; font-weight: bold\">3</span><span style=\"color: #000080; text-decoration-color: #000080\"> sets of </span><span style=\"color: #000080; text-decoration-color: #000080; font-weight: bold\">10</span><span style=\"color: #000080; text-decoration-color: #000080\">-</span><span style=\"color: #000080; text-decoration-color: #000080; font-weight: bold\">12</span><span style=\"color: #000080; text-decoration-color: #000080\"> reps</span>\n",
       "<span style=\"color: #000080; text-decoration-color: #000080\">- Seated Rows </span><span style=\"color: #000080; text-decoration-color: #000080; font-weight: bold\">(</span><span style=\"color: #000080; text-decoration-color: #000080\">machine</span><span style=\"color: #000080; text-decoration-color: #000080; font-weight: bold\">)</span><span style=\"color: #000080; text-decoration-color: #000080\"> - </span><span style=\"color: #000080; text-decoration-color: #000080; font-weight: bold\">3</span><span style=\"color: #000080; text-decoration-color: #000080\"> sets of </span><span style=\"color: #000080; text-decoration-color: #000080; font-weight: bold\">10</span><span style=\"color: #000080; text-decoration-color: #000080\">-</span><span style=\"color: #000080; text-decoration-color: #000080; font-weight: bold\">12</span><span style=\"color: #000080; text-decoration-color: #000080\"> reps</span>\n",
       "\n",
       "<span style=\"color: #000080; text-decoration-color: #000080\">### Thursday: Active Recovery</span>\n",
       "<span style=\"color: #000080; text-decoration-color: #000080\">- Light walking or dynamic stretching - </span><span style=\"color: #000080; text-decoration-color: #000080; font-weight: bold\">20</span><span style=\"color: #000080; text-decoration-color: #000080\">-</span><span style=\"color: #000080; text-decoration-color: #000080; font-weight: bold\">30</span><span style=\"color: #000080; text-decoration-color: #000080\"> minutes</span>\n",
       "<span style=\"color: #000080; text-decoration-color: #000080\">- Focus on flexibility exercises </span><span style=\"color: #000080; text-decoration-color: #000080; font-weight: bold\">(</span><span style=\"color: #000080; text-decoration-color: #000080\">e.g., quadriceps stretch, hamstring stretch</span><span style=\"color: #000080; text-decoration-color: #000080; font-weight: bold\">)</span>\n",
       "\n",
       "<span style=\"color: #000080; text-decoration-color: #000080\">### Friday: Full Body</span>\n",
       "<span style=\"color: #000080; text-decoration-color: #000080\">- Kettlebell Swings - </span><span style=\"color: #000080; text-decoration-color: #000080; font-weight: bold\">3</span><span style=\"color: #000080; text-decoration-color: #000080\"> sets of </span><span style=\"color: #000080; text-decoration-color: #000080; font-weight: bold\">10</span><span style=\"color: #000080; text-decoration-color: #000080\">-</span><span style=\"color: #000080; text-decoration-color: #000080; font-weight: bold\">15</span><span style=\"color: #000080; text-decoration-color: #000080\"> reps</span>\n",
       "<span style=\"color: #000080; text-decoration-color: #000080\">- Dumbbell Thrusters - </span><span style=\"color: #000080; text-decoration-color: #000080; font-weight: bold\">3</span><span style=\"color: #000080; text-decoration-color: #000080\"> sets of </span><span style=\"color: #000080; text-decoration-color: #000080; font-weight: bold\">8</span><span style=\"color: #000080; text-decoration-color: #000080\">-</span><span style=\"color: #000080; text-decoration-color: #000080; font-weight: bold\">12</span><span style=\"color: #000080; text-decoration-color: #000080\"> reps</span>\n",
       "<span style=\"color: #000080; text-decoration-color: #000080\">- Plank with Dumbbell Row - </span><span style=\"color: #000080; text-decoration-color: #000080; font-weight: bold\">3</span><span style=\"color: #000080; text-decoration-color: #000080\"> sets of </span><span style=\"color: #000080; text-decoration-color: #000080; font-weight: bold\">8</span><span style=\"color: #000080; text-decoration-color: #000080\">-</span><span style=\"color: #000080; text-decoration-color: #000080; font-weight: bold\">10</span><span style=\"color: #000080; text-decoration-color: #000080\"> reps per side</span>\n",
       "<span style=\"color: #000080; text-decoration-color: #000080\">- Burpees - </span><span style=\"color: #000080; text-decoration-color: #000080; font-weight: bold\">3</span><span style=\"color: #000080; text-decoration-color: #000080\"> sets of </span><span style=\"color: #000080; text-decoration-color: #000080; font-weight: bold\">5</span><span style=\"color: #000080; text-decoration-color: #000080\">-</span><span style=\"color: #000080; text-decoration-color: #000080; font-weight: bold\">8</span><span style=\"color: #000080; text-decoration-color: #000080\"> reps</span>\n",
       "\n",
       "<span style=\"color: #000080; text-decoration-color: #000080\">### Saturday: Core &amp; Flexibility</span>\n",
       "<span style=\"color: #000080; text-decoration-color: #000080\">- Plank - </span><span style=\"color: #000080; text-decoration-color: #000080; font-weight: bold\">3</span><span style=\"color: #000080; text-decoration-color: #000080\"> sets of </span><span style=\"color: #000080; text-decoration-color: #000080; font-weight: bold\">30</span><span style=\"color: #000080; text-decoration-color: #000080\">-</span><span style=\"color: #000080; text-decoration-color: #000080; font-weight: bold\">45</span><span style=\"color: #000080; text-decoration-color: #000080\"> seconds</span>\n",
       "<span style=\"color: #000080; text-decoration-color: #000080\">- Hanging Leg Raises - </span><span style=\"color: #000080; text-decoration-color: #000080; font-weight: bold\">3</span><span style=\"color: #000080; text-decoration-color: #000080\"> sets of </span><span style=\"color: #000080; text-decoration-color: #000080; font-weight: bold\">10</span><span style=\"color: #000080; text-decoration-color: #000080\">-</span><span style=\"color: #000080; text-decoration-color: #000080; font-weight: bold\">15</span><span style=\"color: #000080; text-decoration-color: #000080\"> reps</span>\n",
       "<span style=\"color: #000080; text-decoration-color: #000080\">- Russian Twists </span><span style=\"color: #000080; text-decoration-color: #000080; font-weight: bold\">(</span><span style=\"color: #000080; text-decoration-color: #000080\">with weight</span><span style=\"color: #000080; text-decoration-color: #000080; font-weight: bold\">)</span><span style=\"color: #000080; text-decoration-color: #000080\"> - </span><span style=\"color: #000080; text-decoration-color: #000080; font-weight: bold\">3</span><span style=\"color: #000080; text-decoration-color: #000080\"> sets of </span><span style=\"color: #000080; text-decoration-color: #000080; font-weight: bold\">10</span><span style=\"color: #000080; text-decoration-color: #000080\">-</span><span style=\"color: #000080; text-decoration-color: #000080; font-weight: bold\">12</span><span style=\"color: #000080; text-decoration-color: #000080\"> reps per side</span>\n",
       "<span style=\"color: #000080; text-decoration-color: #000080\">- Yoga session or stretching - </span><span style=\"color: #000080; text-decoration-color: #000080; font-weight: bold\">20</span><span style=\"color: #000080; text-decoration-color: #000080\">-</span><span style=\"color: #000080; text-decoration-color: #000080; font-weight: bold\">30</span><span style=\"color: #000080; text-decoration-color: #000080\"> minutes</span>\n",
       "\n",
       "<span style=\"color: #000080; text-decoration-color: #000080\">### Sunday: Rest Day</span>\n",
       "<span style=\"color: #000080; text-decoration-color: #000080\">- Rest and recovery; focus on hydration and nutrition</span>\n",
       "\n",
       "<span style=\"color: #000080; text-decoration-color: #000080\">---</span>\n",
       "\n",
       "<span style=\"color: #000080; text-decoration-color: #000080\">## Body-Weight-Based Plan</span>\n",
       "\n",
       "<span style=\"color: #000080; text-decoration-color: #000080\">### Monday: Chest &amp; Triceps</span>\n",
       "<span style=\"color: #000080; text-decoration-color: #000080\">- Standard Push-Ups - </span><span style=\"color: #000080; text-decoration-color: #000080; font-weight: bold\">3</span><span style=\"color: #000080; text-decoration-color: #000080\"> sets of </span><span style=\"color: #000080; text-decoration-color: #000080; font-weight: bold\">8</span><span style=\"color: #000080; text-decoration-color: #000080\">-</span><span style=\"color: #000080; text-decoration-color: #000080; font-weight: bold\">12</span><span style=\"color: #000080; text-decoration-color: #000080\"> reps</span>\n",
       "<span style=\"color: #000080; text-decoration-color: #000080\">- Incline Push-Ups </span><span style=\"color: #000080; text-decoration-color: #000080; font-weight: bold\">(</span><span style=\"color: #000080; text-decoration-color: #000080\">hands elevated</span><span style=\"color: #000080; text-decoration-color: #000080; font-weight: bold\">)</span><span style=\"color: #000080; text-decoration-color: #000080\"> - </span><span style=\"color: #000080; text-decoration-color: #000080; font-weight: bold\">3</span><span style=\"color: #000080; text-decoration-color: #000080\"> sets of </span><span style=\"color: #000080; text-decoration-color: #000080; font-weight: bold\">8</span><span style=\"color: #000080; text-decoration-color: #000080\">-</span><span style=\"color: #000080; text-decoration-color: #000080; font-weight: bold\">12</span><span style=\"color: #000080; text-decoration-color: #000080\"> reps</span>\n",
       "<span style=\"color: #000080; text-decoration-color: #000080\">- Tricep Dips </span><span style=\"color: #000080; text-decoration-color: #000080; font-weight: bold\">(</span><span style=\"color: #000080; text-decoration-color: #000080\">using a chair</span><span style=\"color: #000080; text-decoration-color: #000080; font-weight: bold\">)</span><span style=\"color: #000080; text-decoration-color: #000080\"> - </span><span style=\"color: #000080; text-decoration-color: #000080; font-weight: bold\">3</span><span style=\"color: #000080; text-decoration-color: #000080\"> sets of </span><span style=\"color: #000080; text-decoration-color: #000080; font-weight: bold\">10</span><span style=\"color: #000080; text-decoration-color: #000080\">-</span><span style=\"color: #000080; text-decoration-color: #000080; font-weight: bold\">15</span><span style=\"color: #000080; text-decoration-color: #000080\"> reps</span>\n",
       "<span style=\"color: #000080; text-decoration-color: #000080\">- Diamond Push-Ups - </span><span style=\"color: #000080; text-decoration-color: #000080; font-weight: bold\">3</span><span style=\"color: #000080; text-decoration-color: #000080\"> sets of </span><span style=\"color: #000080; text-decoration-color: #000080; font-weight: bold\">5</span><span style=\"color: #000080; text-decoration-color: #000080\">-</span><span style=\"color: #000080; text-decoration-color: #000080; font-weight: bold\">8</span><span style=\"color: #000080; text-decoration-color: #000080\"> reps</span>\n",
       "\n",
       "<span style=\"color: #000080; text-decoration-color: #000080\">### Tuesday: Legs</span>\n",
       "<span style=\"color: #000080; text-decoration-color: #000080\">- Bodyweight Squats - </span><span style=\"color: #000080; text-decoration-color: #000080; font-weight: bold\">4</span><span style=\"color: #000080; text-decoration-color: #000080\"> sets of </span><span style=\"color: #000080; text-decoration-color: #000080; font-weight: bold\">12</span><span style=\"color: #000080; text-decoration-color: #000080\">-</span><span style=\"color: #000080; text-decoration-color: #000080; font-weight: bold\">15</span><span style=\"color: #000080; text-decoration-color: #000080\"> reps</span>\n",
       "<span style=\"color: #000080; text-decoration-color: #000080\">- Step-Ups </span><span style=\"color: #000080; text-decoration-color: #000080; font-weight: bold\">(</span><span style=\"color: #000080; text-decoration-color: #000080\">onto a sturdy chair/step</span><span style=\"color: #000080; text-decoration-color: #000080; font-weight: bold\">)</span><span style=\"color: #000080; text-decoration-color: #000080\"> - </span><span style=\"color: #000080; text-decoration-color: #000080; font-weight: bold\">3</span><span style=\"color: #000080; text-decoration-color: #000080\"> sets of </span><span style=\"color: #000080; text-decoration-color: #000080; font-weight: bold\">10</span><span style=\"color: #000080; text-decoration-color: #000080\">-</span><span style=\"color: #000080; text-decoration-color: #000080; font-weight: bold\">12</span><span style=\"color: #000080; text-decoration-color: #000080\"> reps per leg</span>\n",
       "<span style=\"color: #000080; text-decoration-color: #000080\">- Walking Lunges - </span><span style=\"color: #000080; text-decoration-color: #000080; font-weight: bold\">3</span><span style=\"color: #000080; text-decoration-color: #000080\"> sets of </span><span style=\"color: #000080; text-decoration-color: #000080; font-weight: bold\">10</span><span style=\"color: #000080; text-decoration-color: #000080\">-</span><span style=\"color: #000080; text-decoration-color: #000080; font-weight: bold\">12</span><span style=\"color: #000080; text-decoration-color: #000080\"> reps per leg</span>\n",
       "<span style=\"color: #000080; text-decoration-color: #000080\">- Glute Bridges - </span><span style=\"color: #000080; text-decoration-color: #000080; font-weight: bold\">3</span><span style=\"color: #000080; text-decoration-color: #000080\"> sets of </span><span style=\"color: #000080; text-decoration-color: #000080; font-weight: bold\">12</span><span style=\"color: #000080; text-decoration-color: #000080\">-</span><span style=\"color: #000080; text-decoration-color: #000080; font-weight: bold\">15</span><span style=\"color: #000080; text-decoration-color: #000080\"> reps</span>\n",
       "\n",
       "<span style=\"color: #000080; text-decoration-color: #000080\">### Wednesday: Back &amp; Biceps</span>\n",
       "<span style=\"color: #000080; text-decoration-color: #000080\">- Inverted Rows </span><span style=\"color: #000080; text-decoration-color: #000080; font-weight: bold\">(</span><span style=\"color: #000080; text-decoration-color: #000080\">using a sturdy table</span><span style=\"color: #000080; text-decoration-color: #000080; font-weight: bold\">)</span><span style=\"color: #000080; text-decoration-color: #000080\"> - </span><span style=\"color: #000080; text-decoration-color: #000080; font-weight: bold\">4</span><span style=\"color: #000080; text-decoration-color: #000080\"> sets of </span><span style=\"color: #000080; text-decoration-color: #000080; font-weight: bold\">8</span><span style=\"color: #000080; text-decoration-color: #000080\">-</span><span style=\"color: #000080; text-decoration-color: #000080; font-weight: bold\">12</span><span style=\"color: #000080; text-decoration-color: #000080\"> reps</span>\n",
       "<span style=\"color: #000080; text-decoration-color: #000080\">- Close-Grip Push-Ups - </span><span style=\"color: #000080; text-decoration-color: #000080; font-weight: bold\">3</span><span style=\"color: #000080; text-decoration-color: #000080\"> sets of </span><span style=\"color: #000080; text-decoration-color: #000080; font-weight: bold\">8</span><span style=\"color: #000080; text-decoration-color: #000080\">-</span><span style=\"color: #000080; text-decoration-color: #000080; font-weight: bold\">10</span><span style=\"color: #000080; text-decoration-color: #000080\"> reps</span>\n",
       "<span style=\"color: #000080; text-decoration-color: #000080\">- Plank Up-Downs - </span><span style=\"color: #000080; text-decoration-color: #000080; font-weight: bold\">3</span><span style=\"color: #000080; text-decoration-color: #000080\"> sets of </span><span style=\"color: #000080; text-decoration-color: #000080; font-weight: bold\">5</span><span style=\"color: #000080; text-decoration-color: #000080\">-</span><span style=\"color: #000080; text-decoration-color: #000080; font-weight: bold\">8</span><span style=\"color: #000080; text-decoration-color: #000080\"> reps</span>\n",
       "<span style=\"color: #000080; text-decoration-color: #000080\">- Supermans - </span><span style=\"color: #000080; text-decoration-color: #000080; font-weight: bold\">3</span><span style=\"color: #000080; text-decoration-color: #000080\"> sets of </span><span style=\"color: #000080; text-decoration-color: #000080; font-weight: bold\">10</span><span style=\"color: #000080; text-decoration-color: #000080\">-</span><span style=\"color: #000080; text-decoration-color: #000080; font-weight: bold\">15</span><span style=\"color: #000080; text-decoration-color: #000080\"> reps</span>\n",
       "\n",
       "<span style=\"color: #000080; text-decoration-color: #000080\">### Thursday: Active Recovery</span>\n",
       "<span style=\"color: #000080; text-decoration-color: #000080\">- Light walking or dynamic stretching - </span><span style=\"color: #000080; text-decoration-color: #000080; font-weight: bold\">20</span><span style=\"color: #000080; text-decoration-color: #000080\">-</span><span style=\"color: #000080; text-decoration-color: #000080; font-weight: bold\">30</span><span style=\"color: #000080; text-decoration-color: #000080\"> minutes</span>\n",
       "<span style=\"color: #000080; text-decoration-color: #000080\">- Focus on flexibility exercises </span><span style=\"color: #000080; text-decoration-color: #000080; font-weight: bold\">(</span><span style=\"color: #000080; text-decoration-color: #000080\">e.g., quadriceps stretch, hamstring stretch</span><span style=\"color: #000080; text-decoration-color: #000080; font-weight: bold\">)</span>\n",
       "\n",
       "<span style=\"color: #000080; text-decoration-color: #000080\">### Friday: Full Body</span>\n",
       "<span style=\"color: #000080; text-decoration-color: #000080\">- Burpees </span><span style=\"color: #000080; text-decoration-color: #000080; font-weight: bold\">(</span><span style=\"color: #000080; text-decoration-color: #000080\">modify if needed</span><span style=\"color: #000080; text-decoration-color: #000080; font-weight: bold\">)</span><span style=\"color: #000080; text-decoration-color: #000080\"> - </span><span style=\"color: #000080; text-decoration-color: #000080; font-weight: bold\">3</span><span style=\"color: #000080; text-decoration-color: #000080\"> sets of </span><span style=\"color: #000080; text-decoration-color: #000080; font-weight: bold\">5</span><span style=\"color: #000080; text-decoration-color: #000080\">-</span><span style=\"color: #000080; text-decoration-color: #000080; font-weight: bold\">8</span><span style=\"color: #000080; text-decoration-color: #000080\"> reps</span>\n",
       "<span style=\"color: #000080; text-decoration-color: #000080\">- Mountain Climbers - </span><span style=\"color: #000080; text-decoration-color: #000080; font-weight: bold\">3</span><span style=\"color: #000080; text-decoration-color: #000080\"> sets of </span><span style=\"color: #000080; text-decoration-color: #000080; font-weight: bold\">30</span><span style=\"color: #000080; text-decoration-color: #000080\"> seconds</span>\n",
       "<span style=\"color: #000080; text-decoration-color: #000080\">- Plank with Shoulder Taps - </span><span style=\"color: #000080; text-decoration-color: #000080; font-weight: bold\">3</span><span style=\"color: #000080; text-decoration-color: #000080\"> sets of </span><span style=\"color: #000080; text-decoration-color: #000080; font-weight: bold\">10</span><span style=\"color: #000080; text-decoration-color: #000080\">-</span><span style=\"color: #000080; text-decoration-color: #000080; font-weight: bold\">12</span><span style=\"color: #000080; text-decoration-color: #000080\"> reps per side</span>\n",
       "<span style=\"color: #000080; text-decoration-color: #000080\">- Squat Jumps - </span><span style=\"color: #000080; text-decoration-color: #000080; font-weight: bold\">3</span><span style=\"color: #000080; text-decoration-color: #000080\"> sets of </span><span style=\"color: #000080; text-decoration-color: #000080; font-weight: bold\">10</span><span style=\"color: #000080; text-decoration-color: #000080\">-</span><span style=\"color: #000080; text-decoration-color: #000080; font-weight: bold\">12</span><span style=\"color: #000080; text-decoration-color: #000080\"> reps</span>\n",
       "\n",
       "<span style=\"color: #000080; text-decoration-color: #000080\">### Saturday: Core &amp; Flexibility</span>\n",
       "<span style=\"color: #000080; text-decoration-color: #000080\">- Side Plank - </span><span style=\"color: #000080; text-decoration-color: #000080; font-weight: bold\">3</span><span style=\"color: #000080; text-decoration-color: #000080\"> sets of </span><span style=\"color: #000080; text-decoration-color: #000080; font-weight: bold\">30</span><span style=\"color: #000080; text-decoration-color: #000080\"> seconds per side</span>\n",
       "<span style=\"color: #000080; text-decoration-color: #000080\">- Bicycle Crunches - </span><span style=\"color: #000080; text-decoration-color: #000080; font-weight: bold\">3</span><span style=\"color: #000080; text-decoration-color: #000080\"> sets of </span><span style=\"color: #000080; text-decoration-color: #000080; font-weight: bold\">15</span><span style=\"color: #000080; text-decoration-color: #000080\">-</span><span style=\"color: #000080; text-decoration-color: #000080; font-weight: bold\">20</span><span style=\"color: #000080; text-decoration-color: #000080\"> reps</span>\n",
       "<span style=\"color: #000080; text-decoration-color: #000080\">- Plank - </span><span style=\"color: #000080; text-decoration-color: #000080; font-weight: bold\">3</span><span style=\"color: #000080; text-decoration-color: #000080\"> sets of </span><span style=\"color: #000080; text-decoration-color: #000080; font-weight: bold\">30</span><span style=\"color: #000080; text-decoration-color: #000080\">-</span><span style=\"color: #000080; text-decoration-color: #000080; font-weight: bold\">45</span><span style=\"color: #000080; text-decoration-color: #000080\"> seconds</span>\n",
       "<span style=\"color: #000080; text-decoration-color: #000080\">- Yoga session or stretching - </span><span style=\"color: #000080; text-decoration-color: #000080; font-weight: bold\">20</span><span style=\"color: #000080; text-decoration-color: #000080\">-</span><span style=\"color: #000080; text-decoration-color: #000080; font-weight: bold\">30</span><span style=\"color: #000080; text-decoration-color: #000080\"> minutes</span>\n",
       "\n",
       "<span style=\"color: #000080; text-decoration-color: #000080\">### Sunday: Rest Day</span>\n",
       "<span style=\"color: #000080; text-decoration-color: #000080\">- Rest and recovery; focus on hydration and nutrition</span>\n",
       "</pre>\n"
      ],
      "text/plain": [
       "\u001b[34m🤖 # Workout Schedule for Papi\u001b[0m\n",
       "\n",
       "\u001b[34m## Weight-Assistance-Based Plan\u001b[0m\n",
       "\n",
       "\u001b[34m### Monday: Chest & Triceps\u001b[0m\n",
       "\u001b[34m- Bench Press - \u001b[0m\u001b[1;34m3\u001b[0m\u001b[34m sets of \u001b[0m\u001b[1;34m8\u001b[0m\u001b[34m-\u001b[0m\u001b[1;34m12\u001b[0m\u001b[34m reps\u001b[0m\n",
       "\u001b[34m- Incline Dumbbell Press - \u001b[0m\u001b[1;34m3\u001b[0m\u001b[34m sets of \u001b[0m\u001b[1;34m8\u001b[0m\u001b[34m-\u001b[0m\u001b[1;34m12\u001b[0m\u001b[34m reps\u001b[0m\n",
       "\u001b[34m- Tricep Pressdown \u001b[0m\u001b[1;34m(\u001b[0m\u001b[34musing cable or resistance band\u001b[0m\u001b[1;34m)\u001b[0m\u001b[34m - \u001b[0m\u001b[1;34m3\u001b[0m\u001b[34m sets of \u001b[0m\u001b[1;34m10\u001b[0m\u001b[34m-\u001b[0m\u001b[1;34m15\u001b[0m\u001b[34m reps\u001b[0m\n",
       "\u001b[34m- Push-Ups - \u001b[0m\u001b[1;34m3\u001b[0m\u001b[34m sets of \u001b[0m\u001b[1;34m8\u001b[0m\u001b[34m-\u001b[0m\u001b[1;34m12\u001b[0m\u001b[34m reps\u001b[0m\n",
       "\n",
       "\u001b[34m### Tuesday: Legs\u001b[0m\n",
       "\u001b[34m- Barbell Squats - \u001b[0m\u001b[1;34m4\u001b[0m\u001b[34m sets of \u001b[0m\u001b[1;34m8\u001b[0m\u001b[34m-\u001b[0m\u001b[1;34m12\u001b[0m\u001b[34m reps\u001b[0m\n",
       "\u001b[34m- Romanian Deadlifts - \u001b[0m\u001b[1;34m3\u001b[0m\u001b[34m sets of \u001b[0m\u001b[1;34m8\u001b[0m\u001b[34m-\u001b[0m\u001b[1;34m12\u001b[0m\u001b[34m reps\u001b[0m\n",
       "\u001b[34m- Lunges \u001b[0m\u001b[1;34m(\u001b[0m\u001b[34mweighted\u001b[0m\u001b[1;34m)\u001b[0m\u001b[34m - \u001b[0m\u001b[1;34m3\u001b[0m\u001b[34m sets of \u001b[0m\u001b[1;34m10\u001b[0m\u001b[34m-\u001b[0m\u001b[1;34m12\u001b[0m\u001b[34m reps per leg\u001b[0m\n",
       "\u001b[34m- Leg Press \u001b[0m\u001b[1;34m(\u001b[0m\u001b[34mif available\u001b[0m\u001b[1;34m)\u001b[0m\u001b[34m - \u001b[0m\u001b[1;34m3\u001b[0m\u001b[34m sets of \u001b[0m\u001b[1;34m10\u001b[0m\u001b[34m-\u001b[0m\u001b[1;34m12\u001b[0m\u001b[34m reps\u001b[0m\n",
       "\n",
       "\u001b[34m### Wednesday: Back & Biceps\u001b[0m\n",
       "\u001b[34m- Bent-Over Rows - \u001b[0m\u001b[1;34m4\u001b[0m\u001b[34m sets of \u001b[0m\u001b[1;34m8\u001b[0m\u001b[34m-\u001b[0m\u001b[1;34m12\u001b[0m\u001b[34m reps\u001b[0m\n",
       "\u001b[34m- Pull-Ups \u001b[0m\u001b[1;34m(\u001b[0m\u001b[34massisted if necessary\u001b[0m\u001b[1;34m)\u001b[0m\u001b[34m - \u001b[0m\u001b[1;34m3\u001b[0m\u001b[34m sets of \u001b[0m\u001b[1;34m5\u001b[0m\u001b[34m-\u001b[0m\u001b[1;34m8\u001b[0m\u001b[34m reps\u001b[0m\n",
       "\u001b[34m- Bicep Curls - \u001b[0m\u001b[1;34m3\u001b[0m\u001b[34m sets of \u001b[0m\u001b[1;34m10\u001b[0m\u001b[34m-\u001b[0m\u001b[1;34m12\u001b[0m\u001b[34m reps\u001b[0m\n",
       "\u001b[34m- Seated Rows \u001b[0m\u001b[1;34m(\u001b[0m\u001b[34mmachine\u001b[0m\u001b[1;34m)\u001b[0m\u001b[34m - \u001b[0m\u001b[1;34m3\u001b[0m\u001b[34m sets of \u001b[0m\u001b[1;34m10\u001b[0m\u001b[34m-\u001b[0m\u001b[1;34m12\u001b[0m\u001b[34m reps\u001b[0m\n",
       "\n",
       "\u001b[34m### Thursday: Active Recovery\u001b[0m\n",
       "\u001b[34m- Light walking or dynamic stretching - \u001b[0m\u001b[1;34m20\u001b[0m\u001b[34m-\u001b[0m\u001b[1;34m30\u001b[0m\u001b[34m minutes\u001b[0m\n",
       "\u001b[34m- Focus on flexibility exercises \u001b[0m\u001b[1;34m(\u001b[0m\u001b[34me.g., quadriceps stretch, hamstring stretch\u001b[0m\u001b[1;34m)\u001b[0m\n",
       "\n",
       "\u001b[34m### Friday: Full Body\u001b[0m\n",
       "\u001b[34m- Kettlebell Swings - \u001b[0m\u001b[1;34m3\u001b[0m\u001b[34m sets of \u001b[0m\u001b[1;34m10\u001b[0m\u001b[34m-\u001b[0m\u001b[1;34m15\u001b[0m\u001b[34m reps\u001b[0m\n",
       "\u001b[34m- Dumbbell Thrusters - \u001b[0m\u001b[1;34m3\u001b[0m\u001b[34m sets of \u001b[0m\u001b[1;34m8\u001b[0m\u001b[34m-\u001b[0m\u001b[1;34m12\u001b[0m\u001b[34m reps\u001b[0m\n",
       "\u001b[34m- Plank with Dumbbell Row - \u001b[0m\u001b[1;34m3\u001b[0m\u001b[34m sets of \u001b[0m\u001b[1;34m8\u001b[0m\u001b[34m-\u001b[0m\u001b[1;34m10\u001b[0m\u001b[34m reps per side\u001b[0m\n",
       "\u001b[34m- Burpees - \u001b[0m\u001b[1;34m3\u001b[0m\u001b[34m sets of \u001b[0m\u001b[1;34m5\u001b[0m\u001b[34m-\u001b[0m\u001b[1;34m8\u001b[0m\u001b[34m reps\u001b[0m\n",
       "\n",
       "\u001b[34m### Saturday: Core & Flexibility\u001b[0m\n",
       "\u001b[34m- Plank - \u001b[0m\u001b[1;34m3\u001b[0m\u001b[34m sets of \u001b[0m\u001b[1;34m30\u001b[0m\u001b[34m-\u001b[0m\u001b[1;34m45\u001b[0m\u001b[34m seconds\u001b[0m\n",
       "\u001b[34m- Hanging Leg Raises - \u001b[0m\u001b[1;34m3\u001b[0m\u001b[34m sets of \u001b[0m\u001b[1;34m10\u001b[0m\u001b[34m-\u001b[0m\u001b[1;34m15\u001b[0m\u001b[34m reps\u001b[0m\n",
       "\u001b[34m- Russian Twists \u001b[0m\u001b[1;34m(\u001b[0m\u001b[34mwith weight\u001b[0m\u001b[1;34m)\u001b[0m\u001b[34m - \u001b[0m\u001b[1;34m3\u001b[0m\u001b[34m sets of \u001b[0m\u001b[1;34m10\u001b[0m\u001b[34m-\u001b[0m\u001b[1;34m12\u001b[0m\u001b[34m reps per side\u001b[0m\n",
       "\u001b[34m- Yoga session or stretching - \u001b[0m\u001b[1;34m20\u001b[0m\u001b[34m-\u001b[0m\u001b[1;34m30\u001b[0m\u001b[34m minutes\u001b[0m\n",
       "\n",
       "\u001b[34m### Sunday: Rest Day\u001b[0m\n",
       "\u001b[34m- Rest and recovery; focus on hydration and nutrition\u001b[0m\n",
       "\n",
       "\u001b[34m---\u001b[0m\n",
       "\n",
       "\u001b[34m## Body-Weight-Based Plan\u001b[0m\n",
       "\n",
       "\u001b[34m### Monday: Chest & Triceps\u001b[0m\n",
       "\u001b[34m- Standard Push-Ups - \u001b[0m\u001b[1;34m3\u001b[0m\u001b[34m sets of \u001b[0m\u001b[1;34m8\u001b[0m\u001b[34m-\u001b[0m\u001b[1;34m12\u001b[0m\u001b[34m reps\u001b[0m\n",
       "\u001b[34m- Incline Push-Ups \u001b[0m\u001b[1;34m(\u001b[0m\u001b[34mhands elevated\u001b[0m\u001b[1;34m)\u001b[0m\u001b[34m - \u001b[0m\u001b[1;34m3\u001b[0m\u001b[34m sets of \u001b[0m\u001b[1;34m8\u001b[0m\u001b[34m-\u001b[0m\u001b[1;34m12\u001b[0m\u001b[34m reps\u001b[0m\n",
       "\u001b[34m- Tricep Dips \u001b[0m\u001b[1;34m(\u001b[0m\u001b[34musing a chair\u001b[0m\u001b[1;34m)\u001b[0m\u001b[34m - \u001b[0m\u001b[1;34m3\u001b[0m\u001b[34m sets of \u001b[0m\u001b[1;34m10\u001b[0m\u001b[34m-\u001b[0m\u001b[1;34m15\u001b[0m\u001b[34m reps\u001b[0m\n",
       "\u001b[34m- Diamond Push-Ups - \u001b[0m\u001b[1;34m3\u001b[0m\u001b[34m sets of \u001b[0m\u001b[1;34m5\u001b[0m\u001b[34m-\u001b[0m\u001b[1;34m8\u001b[0m\u001b[34m reps\u001b[0m\n",
       "\n",
       "\u001b[34m### Tuesday: Legs\u001b[0m\n",
       "\u001b[34m- Bodyweight Squats - \u001b[0m\u001b[1;34m4\u001b[0m\u001b[34m sets of \u001b[0m\u001b[1;34m12\u001b[0m\u001b[34m-\u001b[0m\u001b[1;34m15\u001b[0m\u001b[34m reps\u001b[0m\n",
       "\u001b[34m- Step-Ups \u001b[0m\u001b[1;34m(\u001b[0m\u001b[34monto a sturdy chair/step\u001b[0m\u001b[1;34m)\u001b[0m\u001b[34m - \u001b[0m\u001b[1;34m3\u001b[0m\u001b[34m sets of \u001b[0m\u001b[1;34m10\u001b[0m\u001b[34m-\u001b[0m\u001b[1;34m12\u001b[0m\u001b[34m reps per leg\u001b[0m\n",
       "\u001b[34m- Walking Lunges - \u001b[0m\u001b[1;34m3\u001b[0m\u001b[34m sets of \u001b[0m\u001b[1;34m10\u001b[0m\u001b[34m-\u001b[0m\u001b[1;34m12\u001b[0m\u001b[34m reps per leg\u001b[0m\n",
       "\u001b[34m- Glute Bridges - \u001b[0m\u001b[1;34m3\u001b[0m\u001b[34m sets of \u001b[0m\u001b[1;34m12\u001b[0m\u001b[34m-\u001b[0m\u001b[1;34m15\u001b[0m\u001b[34m reps\u001b[0m\n",
       "\n",
       "\u001b[34m### Wednesday: Back & Biceps\u001b[0m\n",
       "\u001b[34m- Inverted Rows \u001b[0m\u001b[1;34m(\u001b[0m\u001b[34musing a sturdy table\u001b[0m\u001b[1;34m)\u001b[0m\u001b[34m - \u001b[0m\u001b[1;34m4\u001b[0m\u001b[34m sets of \u001b[0m\u001b[1;34m8\u001b[0m\u001b[34m-\u001b[0m\u001b[1;34m12\u001b[0m\u001b[34m reps\u001b[0m\n",
       "\u001b[34m- Close-Grip Push-Ups - \u001b[0m\u001b[1;34m3\u001b[0m\u001b[34m sets of \u001b[0m\u001b[1;34m8\u001b[0m\u001b[34m-\u001b[0m\u001b[1;34m10\u001b[0m\u001b[34m reps\u001b[0m\n",
       "\u001b[34m- Plank Up-Downs - \u001b[0m\u001b[1;34m3\u001b[0m\u001b[34m sets of \u001b[0m\u001b[1;34m5\u001b[0m\u001b[34m-\u001b[0m\u001b[1;34m8\u001b[0m\u001b[34m reps\u001b[0m\n",
       "\u001b[34m- Supermans - \u001b[0m\u001b[1;34m3\u001b[0m\u001b[34m sets of \u001b[0m\u001b[1;34m10\u001b[0m\u001b[34m-\u001b[0m\u001b[1;34m15\u001b[0m\u001b[34m reps\u001b[0m\n",
       "\n",
       "\u001b[34m### Thursday: Active Recovery\u001b[0m\n",
       "\u001b[34m- Light walking or dynamic stretching - \u001b[0m\u001b[1;34m20\u001b[0m\u001b[34m-\u001b[0m\u001b[1;34m30\u001b[0m\u001b[34m minutes\u001b[0m\n",
       "\u001b[34m- Focus on flexibility exercises \u001b[0m\u001b[1;34m(\u001b[0m\u001b[34me.g., quadriceps stretch, hamstring stretch\u001b[0m\u001b[1;34m)\u001b[0m\n",
       "\n",
       "\u001b[34m### Friday: Full Body\u001b[0m\n",
       "\u001b[34m- Burpees \u001b[0m\u001b[1;34m(\u001b[0m\u001b[34mmodify if needed\u001b[0m\u001b[1;34m)\u001b[0m\u001b[34m - \u001b[0m\u001b[1;34m3\u001b[0m\u001b[34m sets of \u001b[0m\u001b[1;34m5\u001b[0m\u001b[34m-\u001b[0m\u001b[1;34m8\u001b[0m\u001b[34m reps\u001b[0m\n",
       "\u001b[34m- Mountain Climbers - \u001b[0m\u001b[1;34m3\u001b[0m\u001b[34m sets of \u001b[0m\u001b[1;34m30\u001b[0m\u001b[34m seconds\u001b[0m\n",
       "\u001b[34m- Plank with Shoulder Taps - \u001b[0m\u001b[1;34m3\u001b[0m\u001b[34m sets of \u001b[0m\u001b[1;34m10\u001b[0m\u001b[34m-\u001b[0m\u001b[1;34m12\u001b[0m\u001b[34m reps per side\u001b[0m\n",
       "\u001b[34m- Squat Jumps - \u001b[0m\u001b[1;34m3\u001b[0m\u001b[34m sets of \u001b[0m\u001b[1;34m10\u001b[0m\u001b[34m-\u001b[0m\u001b[1;34m12\u001b[0m\u001b[34m reps\u001b[0m\n",
       "\n",
       "\u001b[34m### Saturday: Core & Flexibility\u001b[0m\n",
       "\u001b[34m- Side Plank - \u001b[0m\u001b[1;34m3\u001b[0m\u001b[34m sets of \u001b[0m\u001b[1;34m30\u001b[0m\u001b[34m seconds per side\u001b[0m\n",
       "\u001b[34m- Bicycle Crunches - \u001b[0m\u001b[1;34m3\u001b[0m\u001b[34m sets of \u001b[0m\u001b[1;34m15\u001b[0m\u001b[34m-\u001b[0m\u001b[1;34m20\u001b[0m\u001b[34m reps\u001b[0m\n",
       "\u001b[34m- Plank - \u001b[0m\u001b[1;34m3\u001b[0m\u001b[34m sets of \u001b[0m\u001b[1;34m30\u001b[0m\u001b[34m-\u001b[0m\u001b[1;34m45\u001b[0m\u001b[34m seconds\u001b[0m\n",
       "\u001b[34m- Yoga session or stretching - \u001b[0m\u001b[1;34m20\u001b[0m\u001b[34m-\u001b[0m\u001b[1;34m30\u001b[0m\u001b[34m minutes\u001b[0m\n",
       "\n",
       "\u001b[34m### Sunday: Rest Day\u001b[0m\n",
       "\u001b[34m- Rest and recovery; focus on hydration and nutrition\u001b[0m\n"
      ]
     },
     "metadata": {},
     "output_type": "display_data"
    },
    {
     "name": "stderr",
     "output_type": "stream",
     "text": [
      "C:\\Users\\lavml\\Documents\\GitHub\\Alfredo\\.venv\\Lib\\site-packages\\rich\\text.py:1131: RuntimeWarning: coroutine 'health_recommendation' was never awaited\n",
      "  _Text(\n",
      "RuntimeWarning: Enable tracemalloc to get the object allocation traceback\n"
     ]
    },
    {
     "data": {
      "text/html": [
       "<pre style=\"white-space:pre;overflow-x:auto;line-height:normal;font-family:Menlo,'DejaVu Sans Mono',consolas,'Courier New',monospace\"><span style=\"color: #000080; text-decoration-color: #000080\">🤖 # 🧾 Your Personalized Wellness Report</span>\n",
       "\n",
       "<span style=\"color: #000080; text-decoration-color: #000080\">## 👤 Profile Summary</span>\n",
       "<span style=\"color: #000080; text-decoration-color: #000080\">- **Name:** Papi</span>\n",
       "<span style=\"color: #000080; text-decoration-color: #000080\">- **Age:** </span><span style=\"color: #000080; text-decoration-color: #000080; font-weight: bold\">31</span>\n",
       "<span style=\"color: #000080; text-decoration-color: #000080\">- **Gender:** Male</span>\n",
       "<span style=\"color: #000080; text-decoration-color: #000080\">- **Weight:** </span><span style=\"color: #000080; text-decoration-color: #000080; font-weight: bold\">75</span><span style=\"color: #000080; text-decoration-color: #000080\"> kg</span>\n",
       "<span style=\"color: #000080; text-decoration-color: #000080\">- **Height:** </span><span style=\"color: #000080; text-decoration-color: #000080; font-weight: bold\">189</span><span style=\"color: #000080; text-decoration-color: #000080\"> cm</span>\n",
       "<span style=\"color: #000080; text-decoration-color: #000080\">- **Dietary Preference:** </span><span style=\"color: #000080; text-decoration-color: #000080; font-style: italic\">None</span>\n",
       "\n",
       "<span style=\"color: #000080; text-decoration-color: #000080\">## 📊 BMI Analysis</span>\n",
       "<span style=\"color: #000080; text-decoration-color: #000080\">- **BMI Score:** </span><span style=\"color: #000080; text-decoration-color: #000080; font-weight: bold\">21.0</span>\n",
       "<span style=\"color: #000080; text-decoration-color: #000080\">- **Category:** Normal Weight</span>\n",
       "\n",
       "<span style=\"color: #000080; text-decoration-color: #000080\">Your BMI of </span><span style=\"color: #000080; text-decoration-color: #000080; font-weight: bold\">21.0</span><span style=\"color: #000080; text-decoration-color: #000080\"> categorizes you as having a normal weight, indicating that you maintain a healthy body weight </span>\n",
       "<span style=\"color: #000080; text-decoration-color: #000080\">relative to your height and age. This foundation supports optimal health and fitness.</span>\n",
       "\n",
       "<span style=\"color: #000080; text-decoration-color: #000080\">## 🩺 Health Recommendations</span>\n",
       "<span style=\"color: #000080; text-decoration-color: #000080\">To maintain your weight and support overall health, here are some tips:</span>\n",
       "<span style=\"color: #000080; text-decoration-color: #000080\">- **Balanced Diet:** Focus on a diverse diet with ample fruits, vegetables, whole grains, lean proteins, and </span>\n",
       "<span style=\"color: #000080; text-decoration-color: #000080\">healthy fats.</span>\n",
       "<span style=\"color: #000080; text-decoration-color: #000080\">- **Physical Activity:** Engage in at least </span><span style=\"color: #000080; text-decoration-color: #000080; font-weight: bold\">150</span><span style=\"color: #000080; text-decoration-color: #000080\"> minutes of moderate aerobic exercise each week, plus </span>\n",
       "<span style=\"color: #000080; text-decoration-color: #000080\">muscle-strengthening activities on two or more days.</span>\n",
       "<span style=\"color: #000080; text-decoration-color: #000080\">- **Maintain Muscle Mass:** Regular exercise is key to supporting muscle mass and promoting overall metabolic </span>\n",
       "<span style=\"color: #000080; text-decoration-color: #000080\">health and well-being.</span>\n",
       "\n",
       "<span style=\"color: #000080; text-decoration-color: #000080\">## 🍽️ Meal Plan</span>\n",
       "<span style=\"color: #000080; text-decoration-color: #000080\">Here's a sample meal plan to help you maintain a balanced diet:</span>\n",
       "\n",
       "<span style=\"color: #000080; text-decoration-color: #000080\">### Breakfast</span>\n",
       "<span style=\"color: #000080; text-decoration-color: #000080\">- Oatmeal topped with sliced banana and a sprinkle of cinnamon</span>\n",
       "<span style=\"color: #000080; text-decoration-color: #000080\">- Smoothie with spinach, mixed berries, and protein powder</span>\n",
       "\n",
       "<span style=\"color: #000080; text-decoration-color: #000080\">### Lunch</span>\n",
       "<span style=\"color: #000080; text-decoration-color: #000080\">- Turkey and avocado wrap in a whole grain tortilla with spinach and tomatoes</span>\n",
       "<span style=\"color: #000080; text-decoration-color: #000080\">- Quinoa salad with black beans, corn, bell peppers, and lime dressing</span>\n",
       "\n",
       "<span style=\"color: #000080; text-decoration-color: #000080\">### Snack</span>\n",
       "<span style=\"color: #000080; text-decoration-color: #000080\">- Apple slices with almond butter</span>\n",
       "<span style=\"color: #000080; text-decoration-color: #000080\">- Cottage cheese with pineapple chunks</span>\n",
       "\n",
       "<span style=\"color: #000080; text-decoration-color: #000080\">### Dinner</span>\n",
       "<span style=\"color: #000080; text-decoration-color: #000080\">- Grilled chicken breast with brown rice and steamed mixed vegetables</span>\n",
       "<span style=\"color: #000080; text-decoration-color: #000080\">- Baked tilapia with quinoa and a side salad of mixed greens with olive oil vinaigrette</span>\n",
       "\n",
       "<span style=\"color: #000080; text-decoration-color: #000080\">## 🏋️ Workout Schedule</span>\n",
       "\n",
       "<span style=\"color: #000080; text-decoration-color: #000080\">### Weight-Assistance-Based Plan</span>\n",
       "\n",
       "<span style=\"color: #000080; text-decoration-color: #000080\">#### Monday: Chest &amp; Triceps</span>\n",
       "<span style=\"color: #000080; text-decoration-color: #000080\">- Bench Press - </span><span style=\"color: #000080; text-decoration-color: #000080; font-weight: bold\">3</span><span style=\"color: #000080; text-decoration-color: #000080\"> sets of </span><span style=\"color: #000080; text-decoration-color: #000080; font-weight: bold\">8</span><span style=\"color: #000080; text-decoration-color: #000080\">-</span><span style=\"color: #000080; text-decoration-color: #000080; font-weight: bold\">12</span><span style=\"color: #000080; text-decoration-color: #000080\"> reps</span>\n",
       "<span style=\"color: #000080; text-decoration-color: #000080\">- Incline Dumbbell Press - </span><span style=\"color: #000080; text-decoration-color: #000080; font-weight: bold\">3</span><span style=\"color: #000080; text-decoration-color: #000080\"> sets of </span><span style=\"color: #000080; text-decoration-color: #000080; font-weight: bold\">8</span><span style=\"color: #000080; text-decoration-color: #000080\">-</span><span style=\"color: #000080; text-decoration-color: #000080; font-weight: bold\">12</span><span style=\"color: #000080; text-decoration-color: #000080\"> reps</span>\n",
       "<span style=\"color: #000080; text-decoration-color: #000080\">- Tricep Pressdown </span><span style=\"color: #000080; text-decoration-color: #000080; font-weight: bold\">(</span><span style=\"color: #000080; text-decoration-color: #000080\">using cable or resistance band</span><span style=\"color: #000080; text-decoration-color: #000080; font-weight: bold\">)</span><span style=\"color: #000080; text-decoration-color: #000080\"> - </span><span style=\"color: #000080; text-decoration-color: #000080; font-weight: bold\">3</span><span style=\"color: #000080; text-decoration-color: #000080\"> sets of </span><span style=\"color: #000080; text-decoration-color: #000080; font-weight: bold\">10</span><span style=\"color: #000080; text-decoration-color: #000080\">-</span><span style=\"color: #000080; text-decoration-color: #000080; font-weight: bold\">15</span><span style=\"color: #000080; text-decoration-color: #000080\"> reps</span>\n",
       "<span style=\"color: #000080; text-decoration-color: #000080\">- Push-Ups - </span><span style=\"color: #000080; text-decoration-color: #000080; font-weight: bold\">3</span><span style=\"color: #000080; text-decoration-color: #000080\"> sets of </span><span style=\"color: #000080; text-decoration-color: #000080; font-weight: bold\">8</span><span style=\"color: #000080; text-decoration-color: #000080\">-</span><span style=\"color: #000080; text-decoration-color: #000080; font-weight: bold\">12</span><span style=\"color: #000080; text-decoration-color: #000080\"> reps</span>\n",
       "\n",
       "<span style=\"color: #000080; text-decoration-color: #000080\">#### Tuesday: Legs</span>\n",
       "<span style=\"color: #000080; text-decoration-color: #000080\">- Barbell Squats - </span><span style=\"color: #000080; text-decoration-color: #000080; font-weight: bold\">4</span><span style=\"color: #000080; text-decoration-color: #000080\"> sets of </span><span style=\"color: #000080; text-decoration-color: #000080; font-weight: bold\">8</span><span style=\"color: #000080; text-decoration-color: #000080\">-</span><span style=\"color: #000080; text-decoration-color: #000080; font-weight: bold\">12</span><span style=\"color: #000080; text-decoration-color: #000080\"> reps</span>\n",
       "<span style=\"color: #000080; text-decoration-color: #000080\">- Romanian Deadlifts - </span><span style=\"color: #000080; text-decoration-color: #000080; font-weight: bold\">3</span><span style=\"color: #000080; text-decoration-color: #000080\"> sets of </span><span style=\"color: #000080; text-decoration-color: #000080; font-weight: bold\">8</span><span style=\"color: #000080; text-decoration-color: #000080\">-</span><span style=\"color: #000080; text-decoration-color: #000080; font-weight: bold\">12</span><span style=\"color: #000080; text-decoration-color: #000080\"> reps</span>\n",
       "<span style=\"color: #000080; text-decoration-color: #000080\">- Lunges </span><span style=\"color: #000080; text-decoration-color: #000080; font-weight: bold\">(</span><span style=\"color: #000080; text-decoration-color: #000080\">weighted</span><span style=\"color: #000080; text-decoration-color: #000080; font-weight: bold\">)</span><span style=\"color: #000080; text-decoration-color: #000080\"> - </span><span style=\"color: #000080; text-decoration-color: #000080; font-weight: bold\">3</span><span style=\"color: #000080; text-decoration-color: #000080\"> sets of </span><span style=\"color: #000080; text-decoration-color: #000080; font-weight: bold\">10</span><span style=\"color: #000080; text-decoration-color: #000080\">-</span><span style=\"color: #000080; text-decoration-color: #000080; font-weight: bold\">12</span><span style=\"color: #000080; text-decoration-color: #000080\"> reps per leg</span>\n",
       "<span style=\"color: #000080; text-decoration-color: #000080\">- Leg Press </span><span style=\"color: #000080; text-decoration-color: #000080; font-weight: bold\">(</span><span style=\"color: #000080; text-decoration-color: #000080\">if available</span><span style=\"color: #000080; text-decoration-color: #000080; font-weight: bold\">)</span><span style=\"color: #000080; text-decoration-color: #000080\"> - </span><span style=\"color: #000080; text-decoration-color: #000080; font-weight: bold\">3</span><span style=\"color: #000080; text-decoration-color: #000080\"> sets of </span><span style=\"color: #000080; text-decoration-color: #000080; font-weight: bold\">10</span><span style=\"color: #000080; text-decoration-color: #000080\">-</span><span style=\"color: #000080; text-decoration-color: #000080; font-weight: bold\">12</span><span style=\"color: #000080; text-decoration-color: #000080\"> reps</span>\n",
       "\n",
       "<span style=\"color: #000080; text-decoration-color: #000080\">#### Wednesday: Back &amp; Biceps</span>\n",
       "<span style=\"color: #000080; text-decoration-color: #000080\">- Bent-Over Rows - </span><span style=\"color: #000080; text-decoration-color: #000080; font-weight: bold\">4</span><span style=\"color: #000080; text-decoration-color: #000080\"> sets of </span><span style=\"color: #000080; text-decoration-color: #000080; font-weight: bold\">8</span><span style=\"color: #000080; text-decoration-color: #000080\">-</span><span style=\"color: #000080; text-decoration-color: #000080; font-weight: bold\">12</span><span style=\"color: #000080; text-decoration-color: #000080\"> reps</span>\n",
       "<span style=\"color: #000080; text-decoration-color: #000080\">- Pull-Ups </span><span style=\"color: #000080; text-decoration-color: #000080; font-weight: bold\">(</span><span style=\"color: #000080; text-decoration-color: #000080\">assisted if necessary</span><span style=\"color: #000080; text-decoration-color: #000080; font-weight: bold\">)</span><span style=\"color: #000080; text-decoration-color: #000080\"> - </span><span style=\"color: #000080; text-decoration-color: #000080; font-weight: bold\">3</span><span style=\"color: #000080; text-decoration-color: #000080\"> sets of </span><span style=\"color: #000080; text-decoration-color: #000080; font-weight: bold\">5</span><span style=\"color: #000080; text-decoration-color: #000080\">-</span><span style=\"color: #000080; text-decoration-color: #000080; font-weight: bold\">8</span><span style=\"color: #000080; text-decoration-color: #000080\"> reps</span>\n",
       "<span style=\"color: #000080; text-decoration-color: #000080\">- Bicep Curls - </span><span style=\"color: #000080; text-decoration-color: #000080; font-weight: bold\">3</span><span style=\"color: #000080; text-decoration-color: #000080\"> sets of </span><span style=\"color: #000080; text-decoration-color: #000080; font-weight: bold\">10</span><span style=\"color: #000080; text-decoration-color: #000080\">-</span><span style=\"color: #000080; text-decoration-color: #000080; font-weight: bold\">12</span><span style=\"color: #000080; text-decoration-color: #000080\"> reps</span>\n",
       "<span style=\"color: #000080; text-decoration-color: #000080\">- Seated Rows </span><span style=\"color: #000080; text-decoration-color: #000080; font-weight: bold\">(</span><span style=\"color: #000080; text-decoration-color: #000080\">machine</span><span style=\"color: #000080; text-decoration-color: #000080; font-weight: bold\">)</span><span style=\"color: #000080; text-decoration-color: #000080\"> - </span><span style=\"color: #000080; text-decoration-color: #000080; font-weight: bold\">3</span><span style=\"color: #000080; text-decoration-color: #000080\"> sets of </span><span style=\"color: #000080; text-decoration-color: #000080; font-weight: bold\">10</span><span style=\"color: #000080; text-decoration-color: #000080\">-</span><span style=\"color: #000080; text-decoration-color: #000080; font-weight: bold\">12</span><span style=\"color: #000080; text-decoration-color: #000080\"> reps</span>\n",
       "\n",
       "<span style=\"color: #000080; text-decoration-color: #000080\">#### Thursday: Active Recovery</span>\n",
       "<span style=\"color: #000080; text-decoration-color: #000080\">- Light walking or dynamic stretching - </span><span style=\"color: #000080; text-decoration-color: #000080; font-weight: bold\">20</span><span style=\"color: #000080; text-decoration-color: #000080\">-</span><span style=\"color: #000080; text-decoration-color: #000080; font-weight: bold\">30</span><span style=\"color: #000080; text-decoration-color: #000080\"> minutes</span>\n",
       "<span style=\"color: #000080; text-decoration-color: #000080\">- Focus on flexibility exercises </span><span style=\"color: #000080; text-decoration-color: #000080; font-weight: bold\">(</span><span style=\"color: #000080; text-decoration-color: #000080\">e.g., quadriceps stretch, hamstring stretch</span><span style=\"color: #000080; text-decoration-color: #000080; font-weight: bold\">)</span>\n",
       "\n",
       "<span style=\"color: #000080; text-decoration-color: #000080\">#### Friday: Full Body</span>\n",
       "<span style=\"color: #000080; text-decoration-color: #000080\">- Kettlebell Swings - </span><span style=\"color: #000080; text-decoration-color: #000080; font-weight: bold\">3</span><span style=\"color: #000080; text-decoration-color: #000080\"> sets of </span><span style=\"color: #000080; text-decoration-color: #000080; font-weight: bold\">10</span><span style=\"color: #000080; text-decoration-color: #000080\">-</span><span style=\"color: #000080; text-decoration-color: #000080; font-weight: bold\">15</span><span style=\"color: #000080; text-decoration-color: #000080\"> reps</span>\n",
       "<span style=\"color: #000080; text-decoration-color: #000080\">- Dumbbell Thrusters - </span><span style=\"color: #000080; text-decoration-color: #000080; font-weight: bold\">3</span><span style=\"color: #000080; text-decoration-color: #000080\"> sets of </span><span style=\"color: #000080; text-decoration-color: #000080; font-weight: bold\">8</span><span style=\"color: #000080; text-decoration-color: #000080\">-</span><span style=\"color: #000080; text-decoration-color: #000080; font-weight: bold\">12</span><span style=\"color: #000080; text-decoration-color: #000080\"> reps</span>\n",
       "<span style=\"color: #000080; text-decoration-color: #000080\">- Plank with Dumbbell Row - </span><span style=\"color: #000080; text-decoration-color: #000080; font-weight: bold\">3</span><span style=\"color: #000080; text-decoration-color: #000080\"> sets of </span><span style=\"color: #000080; text-decoration-color: #000080; font-weight: bold\">8</span><span style=\"color: #000080; text-decoration-color: #000080\">-</span><span style=\"color: #000080; text-decoration-color: #000080; font-weight: bold\">10</span><span style=\"color: #000080; text-decoration-color: #000080\"> reps per side</span>\n",
       "<span style=\"color: #000080; text-decoration-color: #000080\">- Burpees - </span><span style=\"color: #000080; text-decoration-color: #000080; font-weight: bold\">3</span><span style=\"color: #000080; text-decoration-color: #000080\"> sets of </span><span style=\"color: #000080; text-decoration-color: #000080; font-weight: bold\">5</span><span style=\"color: #000080; text-decoration-color: #000080\">-</span><span style=\"color: #000080; text-decoration-color: #000080; font-weight: bold\">8</span><span style=\"color: #000080; text-decoration-color: #000080\"> reps</span>\n",
       "\n",
       "<span style=\"color: #000080; text-decoration-color: #000080\">#### Saturday: Core &amp; Flexibility</span>\n",
       "<span style=\"color: #000080; text-decoration-color: #000080\">- Plank - </span><span style=\"color: #000080; text-decoration-color: #000080; font-weight: bold\">3</span><span style=\"color: #000080; text-decoration-color: #000080\"> sets of </span><span style=\"color: #000080; text-decoration-color: #000080; font-weight: bold\">30</span><span style=\"color: #000080; text-decoration-color: #000080\">-</span><span style=\"color: #000080; text-decoration-color: #000080; font-weight: bold\">45</span><span style=\"color: #000080; text-decoration-color: #000080\"> seconds</span>\n",
       "<span style=\"color: #000080; text-decoration-color: #000080\">- Hanging Leg Raises - </span><span style=\"color: #000080; text-decoration-color: #000080; font-weight: bold\">3</span><span style=\"color: #000080; text-decoration-color: #000080\"> sets of </span><span style=\"color: #000080; text-decoration-color: #000080; font-weight: bold\">10</span><span style=\"color: #000080; text-decoration-color: #000080\">-</span><span style=\"color: #000080; text-decoration-color: #000080; font-weight: bold\">15</span><span style=\"color: #000080; text-decoration-color: #000080\"> reps</span>\n",
       "<span style=\"color: #000080; text-decoration-color: #000080\">- Russian Twists </span><span style=\"color: #000080; text-decoration-color: #000080; font-weight: bold\">(</span><span style=\"color: #000080; text-decoration-color: #000080\">with weight</span><span style=\"color: #000080; text-decoration-color: #000080; font-weight: bold\">)</span><span style=\"color: #000080; text-decoration-color: #000080\"> - </span><span style=\"color: #000080; text-decoration-color: #000080; font-weight: bold\">3</span><span style=\"color: #000080; text-decoration-color: #000080\"> sets of </span><span style=\"color: #000080; text-decoration-color: #000080; font-weight: bold\">10</span><span style=\"color: #000080; text-decoration-color: #000080\">-</span><span style=\"color: #000080; text-decoration-color: #000080; font-weight: bold\">12</span><span style=\"color: #000080; text-decoration-color: #000080\"> reps per side</span>\n",
       "<span style=\"color: #000080; text-decoration-color: #000080\">- Yoga session or stretching - </span><span style=\"color: #000080; text-decoration-color: #000080; font-weight: bold\">20</span><span style=\"color: #000080; text-decoration-color: #000080\">-</span><span style=\"color: #000080; text-decoration-color: #000080; font-weight: bold\">30</span><span style=\"color: #000080; text-decoration-color: #000080\"> minutes</span>\n",
       "\n",
       "<span style=\"color: #000080; text-decoration-color: #000080\">#### Sunday: Rest Day</span>\n",
       "<span style=\"color: #000080; text-decoration-color: #000080\">- Rest and recovery; focus on hydration and nutrition</span>\n",
       "\n",
       "<span style=\"color: #000080; text-decoration-color: #000080\">---</span>\n",
       "\n",
       "<span style=\"color: #000080; text-decoration-color: #000080\">Keep up the great work, Papi! You're on the right track to maintaining your health and achieving your fitness </span>\n",
       "<span style=\"color: #000080; text-decoration-color: #000080\">goals. Stay consistent and motivated!</span>\n",
       "</pre>\n"
      ],
      "text/plain": [
       "\u001b[34m🤖 # 🧾 Your Personalized Wellness Report\u001b[0m\n",
       "\n",
       "\u001b[34m## 👤 Profile Summary\u001b[0m\n",
       "\u001b[34m- **Name:** Papi\u001b[0m\n",
       "\u001b[34m- **Age:** \u001b[0m\u001b[1;34m31\u001b[0m\n",
       "\u001b[34m- **Gender:** Male\u001b[0m\n",
       "\u001b[34m- **Weight:** \u001b[0m\u001b[1;34m75\u001b[0m\u001b[34m kg\u001b[0m\n",
       "\u001b[34m- **Height:** \u001b[0m\u001b[1;34m189\u001b[0m\u001b[34m cm\u001b[0m\n",
       "\u001b[34m- **Dietary Preference:** \u001b[0m\u001b[3;34mNone\u001b[0m\n",
       "\n",
       "\u001b[34m## 📊 BMI Analysis\u001b[0m\n",
       "\u001b[34m- **BMI Score:** \u001b[0m\u001b[1;34m21.0\u001b[0m\n",
       "\u001b[34m- **Category:** Normal Weight\u001b[0m\n",
       "\n",
       "\u001b[34mYour BMI of \u001b[0m\u001b[1;34m21.0\u001b[0m\u001b[34m categorizes you as having a normal weight, indicating that you maintain a healthy body weight \u001b[0m\n",
       "\u001b[34mrelative to your height and age. This foundation supports optimal health and fitness.\u001b[0m\n",
       "\n",
       "\u001b[34m## 🩺 Health Recommendations\u001b[0m\n",
       "\u001b[34mTo maintain your weight and support overall health, here are some tips:\u001b[0m\n",
       "\u001b[34m- **Balanced Diet:** Focus on a diverse diet with ample fruits, vegetables, whole grains, lean proteins, and \u001b[0m\n",
       "\u001b[34mhealthy fats.\u001b[0m\n",
       "\u001b[34m- **Physical Activity:** Engage in at least \u001b[0m\u001b[1;34m150\u001b[0m\u001b[34m minutes of moderate aerobic exercise each week, plus \u001b[0m\n",
       "\u001b[34mmuscle-strengthening activities on two or more days.\u001b[0m\n",
       "\u001b[34m- **Maintain Muscle Mass:** Regular exercise is key to supporting muscle mass and promoting overall metabolic \u001b[0m\n",
       "\u001b[34mhealth and well-being.\u001b[0m\n",
       "\n",
       "\u001b[34m## 🍽️ Meal Plan\u001b[0m\n",
       "\u001b[34mHere's a sample meal plan to help you maintain a balanced diet:\u001b[0m\n",
       "\n",
       "\u001b[34m### Breakfast\u001b[0m\n",
       "\u001b[34m- Oatmeal topped with sliced banana and a sprinkle of cinnamon\u001b[0m\n",
       "\u001b[34m- Smoothie with spinach, mixed berries, and protein powder\u001b[0m\n",
       "\n",
       "\u001b[34m### Lunch\u001b[0m\n",
       "\u001b[34m- Turkey and avocado wrap in a whole grain tortilla with spinach and tomatoes\u001b[0m\n",
       "\u001b[34m- Quinoa salad with black beans, corn, bell peppers, and lime dressing\u001b[0m\n",
       "\n",
       "\u001b[34m### Snack\u001b[0m\n",
       "\u001b[34m- Apple slices with almond butter\u001b[0m\n",
       "\u001b[34m- Cottage cheese with pineapple chunks\u001b[0m\n",
       "\n",
       "\u001b[34m### Dinner\u001b[0m\n",
       "\u001b[34m- Grilled chicken breast with brown rice and steamed mixed vegetables\u001b[0m\n",
       "\u001b[34m- Baked tilapia with quinoa and a side salad of mixed greens with olive oil vinaigrette\u001b[0m\n",
       "\n",
       "\u001b[34m## 🏋️ Workout Schedule\u001b[0m\n",
       "\n",
       "\u001b[34m### Weight-Assistance-Based Plan\u001b[0m\n",
       "\n",
       "\u001b[34m#### Monday: Chest & Triceps\u001b[0m\n",
       "\u001b[34m- Bench Press - \u001b[0m\u001b[1;34m3\u001b[0m\u001b[34m sets of \u001b[0m\u001b[1;34m8\u001b[0m\u001b[34m-\u001b[0m\u001b[1;34m12\u001b[0m\u001b[34m reps\u001b[0m\n",
       "\u001b[34m- Incline Dumbbell Press - \u001b[0m\u001b[1;34m3\u001b[0m\u001b[34m sets of \u001b[0m\u001b[1;34m8\u001b[0m\u001b[34m-\u001b[0m\u001b[1;34m12\u001b[0m\u001b[34m reps\u001b[0m\n",
       "\u001b[34m- Tricep Pressdown \u001b[0m\u001b[1;34m(\u001b[0m\u001b[34musing cable or resistance band\u001b[0m\u001b[1;34m)\u001b[0m\u001b[34m - \u001b[0m\u001b[1;34m3\u001b[0m\u001b[34m sets of \u001b[0m\u001b[1;34m10\u001b[0m\u001b[34m-\u001b[0m\u001b[1;34m15\u001b[0m\u001b[34m reps\u001b[0m\n",
       "\u001b[34m- Push-Ups - \u001b[0m\u001b[1;34m3\u001b[0m\u001b[34m sets of \u001b[0m\u001b[1;34m8\u001b[0m\u001b[34m-\u001b[0m\u001b[1;34m12\u001b[0m\u001b[34m reps\u001b[0m\n",
       "\n",
       "\u001b[34m#### Tuesday: Legs\u001b[0m\n",
       "\u001b[34m- Barbell Squats - \u001b[0m\u001b[1;34m4\u001b[0m\u001b[34m sets of \u001b[0m\u001b[1;34m8\u001b[0m\u001b[34m-\u001b[0m\u001b[1;34m12\u001b[0m\u001b[34m reps\u001b[0m\n",
       "\u001b[34m- Romanian Deadlifts - \u001b[0m\u001b[1;34m3\u001b[0m\u001b[34m sets of \u001b[0m\u001b[1;34m8\u001b[0m\u001b[34m-\u001b[0m\u001b[1;34m12\u001b[0m\u001b[34m reps\u001b[0m\n",
       "\u001b[34m- Lunges \u001b[0m\u001b[1;34m(\u001b[0m\u001b[34mweighted\u001b[0m\u001b[1;34m)\u001b[0m\u001b[34m - \u001b[0m\u001b[1;34m3\u001b[0m\u001b[34m sets of \u001b[0m\u001b[1;34m10\u001b[0m\u001b[34m-\u001b[0m\u001b[1;34m12\u001b[0m\u001b[34m reps per leg\u001b[0m\n",
       "\u001b[34m- Leg Press \u001b[0m\u001b[1;34m(\u001b[0m\u001b[34mif available\u001b[0m\u001b[1;34m)\u001b[0m\u001b[34m - \u001b[0m\u001b[1;34m3\u001b[0m\u001b[34m sets of \u001b[0m\u001b[1;34m10\u001b[0m\u001b[34m-\u001b[0m\u001b[1;34m12\u001b[0m\u001b[34m reps\u001b[0m\n",
       "\n",
       "\u001b[34m#### Wednesday: Back & Biceps\u001b[0m\n",
       "\u001b[34m- Bent-Over Rows - \u001b[0m\u001b[1;34m4\u001b[0m\u001b[34m sets of \u001b[0m\u001b[1;34m8\u001b[0m\u001b[34m-\u001b[0m\u001b[1;34m12\u001b[0m\u001b[34m reps\u001b[0m\n",
       "\u001b[34m- Pull-Ups \u001b[0m\u001b[1;34m(\u001b[0m\u001b[34massisted if necessary\u001b[0m\u001b[1;34m)\u001b[0m\u001b[34m - \u001b[0m\u001b[1;34m3\u001b[0m\u001b[34m sets of \u001b[0m\u001b[1;34m5\u001b[0m\u001b[34m-\u001b[0m\u001b[1;34m8\u001b[0m\u001b[34m reps\u001b[0m\n",
       "\u001b[34m- Bicep Curls - \u001b[0m\u001b[1;34m3\u001b[0m\u001b[34m sets of \u001b[0m\u001b[1;34m10\u001b[0m\u001b[34m-\u001b[0m\u001b[1;34m12\u001b[0m\u001b[34m reps\u001b[0m\n",
       "\u001b[34m- Seated Rows \u001b[0m\u001b[1;34m(\u001b[0m\u001b[34mmachine\u001b[0m\u001b[1;34m)\u001b[0m\u001b[34m - \u001b[0m\u001b[1;34m3\u001b[0m\u001b[34m sets of \u001b[0m\u001b[1;34m10\u001b[0m\u001b[34m-\u001b[0m\u001b[1;34m12\u001b[0m\u001b[34m reps\u001b[0m\n",
       "\n",
       "\u001b[34m#### Thursday: Active Recovery\u001b[0m\n",
       "\u001b[34m- Light walking or dynamic stretching - \u001b[0m\u001b[1;34m20\u001b[0m\u001b[34m-\u001b[0m\u001b[1;34m30\u001b[0m\u001b[34m minutes\u001b[0m\n",
       "\u001b[34m- Focus on flexibility exercises \u001b[0m\u001b[1;34m(\u001b[0m\u001b[34me.g., quadriceps stretch, hamstring stretch\u001b[0m\u001b[1;34m)\u001b[0m\n",
       "\n",
       "\u001b[34m#### Friday: Full Body\u001b[0m\n",
       "\u001b[34m- Kettlebell Swings - \u001b[0m\u001b[1;34m3\u001b[0m\u001b[34m sets of \u001b[0m\u001b[1;34m10\u001b[0m\u001b[34m-\u001b[0m\u001b[1;34m15\u001b[0m\u001b[34m reps\u001b[0m\n",
       "\u001b[34m- Dumbbell Thrusters - \u001b[0m\u001b[1;34m3\u001b[0m\u001b[34m sets of \u001b[0m\u001b[1;34m8\u001b[0m\u001b[34m-\u001b[0m\u001b[1;34m12\u001b[0m\u001b[34m reps\u001b[0m\n",
       "\u001b[34m- Plank with Dumbbell Row - \u001b[0m\u001b[1;34m3\u001b[0m\u001b[34m sets of \u001b[0m\u001b[1;34m8\u001b[0m\u001b[34m-\u001b[0m\u001b[1;34m10\u001b[0m\u001b[34m reps per side\u001b[0m\n",
       "\u001b[34m- Burpees - \u001b[0m\u001b[1;34m3\u001b[0m\u001b[34m sets of \u001b[0m\u001b[1;34m5\u001b[0m\u001b[34m-\u001b[0m\u001b[1;34m8\u001b[0m\u001b[34m reps\u001b[0m\n",
       "\n",
       "\u001b[34m#### Saturday: Core & Flexibility\u001b[0m\n",
       "\u001b[34m- Plank - \u001b[0m\u001b[1;34m3\u001b[0m\u001b[34m sets of \u001b[0m\u001b[1;34m30\u001b[0m\u001b[34m-\u001b[0m\u001b[1;34m45\u001b[0m\u001b[34m seconds\u001b[0m\n",
       "\u001b[34m- Hanging Leg Raises - \u001b[0m\u001b[1;34m3\u001b[0m\u001b[34m sets of \u001b[0m\u001b[1;34m10\u001b[0m\u001b[34m-\u001b[0m\u001b[1;34m15\u001b[0m\u001b[34m reps\u001b[0m\n",
       "\u001b[34m- Russian Twists \u001b[0m\u001b[1;34m(\u001b[0m\u001b[34mwith weight\u001b[0m\u001b[1;34m)\u001b[0m\u001b[34m - \u001b[0m\u001b[1;34m3\u001b[0m\u001b[34m sets of \u001b[0m\u001b[1;34m10\u001b[0m\u001b[34m-\u001b[0m\u001b[1;34m12\u001b[0m\u001b[34m reps per side\u001b[0m\n",
       "\u001b[34m- Yoga session or stretching - \u001b[0m\u001b[1;34m20\u001b[0m\u001b[34m-\u001b[0m\u001b[1;34m30\u001b[0m\u001b[34m minutes\u001b[0m\n",
       "\n",
       "\u001b[34m#### Sunday: Rest Day\u001b[0m\n",
       "\u001b[34m- Rest and recovery; focus on hydration and nutrition\u001b[0m\n",
       "\n",
       "\u001b[34m---\u001b[0m\n",
       "\n",
       "\u001b[34mKeep up the great work, Papi! You're on the right track to maintaining your health and achieving your fitness \u001b[0m\n",
       "\u001b[34mgoals. Stay consistent and motivated!\u001b[0m\n"
      ]
     },
     "metadata": {},
     "output_type": "display_data"
    },
    {
     "data": {
      "text/html": [
       "<pre style=\"white-space:pre;overflow-x:auto;line-height:normal;font-family:Menlo,'DejaVu Sans Mono',consolas,'Courier New',monospace\"><span style=\"font-weight: bold\">[</span>✅<span style=\"font-weight: bold\">]</span> HTML report saved to: final_report.html\n",
       "</pre>\n"
      ],
      "text/plain": [
       "\u001b[1m[\u001b[0m✅\u001b[1m]\u001b[0m HTML report saved to: final_report.html\n"
      ]
     },
     "metadata": {},
     "output_type": "display_data"
    }
   ],
   "source": [
    "async def enrich_with_health_recs(user_info):\n",
    "    return {\n",
    "        \"user_info\": user_info,\n",
    "        \"health_recommendations\": await health_recommendation(user_info)\n",
    "    }\n",
    "\n",
    "async def enrich_with_meal_plan(data):\n",
    "    return {\n",
    "        **data,\n",
    "        \"meal_plan\": await meal_planning(data[\"user_info\"], data[\"health_recommendations\"])\n",
    "    }\n",
    "\n",
    "async def enrich_with_workout_schedule(data):\n",
    "    return {\n",
    "        **data,\n",
    "        \"workout_schedule\": await design_workout(data[\"user_info\"], data[\"health_recommendations\"], data[\"meal_plan\"])\n",
    "    }\n",
    "\n",
    "async def generate_report(data):\n",
    "    return await create_wellness_plan_overview(\n",
    "        data[\"user_info\"], data[\"health_recommendations\"], data[\"meal_plan\"], data[\"workout_schedule\"]\n",
    "    )\n",
    "\n",
    "collect_data_chain = RunnableLambda(collect_data)\n",
    "health_recomm_chain = RunnableLambda(enrich_with_health_recs)\n",
    "meal_plan_chain = RunnableLambda(enrich_with_meal_plan)\n",
    "workout_plan_chain = RunnableLambda(enrich_with_workout_schedule)\n",
    "report_chain = RunnableLambda(generate_report)\n",
    "html_chain = RunnableLambda(convert_report_to_html)\n",
    "\n",
    "full_chain = (\n",
    "    collect_data_chain\n",
    "    | health_recomm_chain\n",
    "    | meal_plan_chain\n",
    "    | workout_plan_chain\n",
    "    | report_chain\n",
    "    | html_chain\n",
    ")\n",
    "\n",
    "result = await full_chain.ainvoke(None)"
   ]
  }
 ],
 "metadata": {
  "kernelspec": {
   "display_name": "Python 3 (ipykernel)",
   "language": "python",
   "name": "python3"
  },
  "language_info": {
   "codemirror_mode": {
    "name": "ipython",
    "version": 3
   },
   "file_extension": ".py",
   "mimetype": "text/x-python",
   "name": "python",
   "nbconvert_exporter": "python",
   "pygments_lexer": "ipython3",
   "version": "3.12.8"
  }
 },
 "nbformat": 4,
 "nbformat_minor": 5
}
